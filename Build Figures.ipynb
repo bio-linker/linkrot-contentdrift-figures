{
 "cells": [
  {
   "cell_type": "markdown",
   "metadata": {},
   "source": [
    "**IMPORTANT** - running on the full Preston observatory uses about 12GB of memory as of 10/14/2019"
   ]
  },
  {
   "cell_type": "code",
   "execution_count": 2,
   "metadata": {
    "scrolled": true
   },
   "outputs": [],
   "source": [
    "import numpy as np\n",
    "import pandas as pd\n",
    "from enum import Enum\n",
    "\n",
    "from nquads import NQuads\n",
    "from prestongraph import *"
   ]
  },
  {
   "cell_type": "markdown",
   "metadata": {},
   "source": [
    "### Get provenance log\n",
    "\n",
    "On a large preston.acis.ufl.edu observatory it can take a while to run ```preston ls```, so we store its output at a temporary location\n",
    "```shell\n",
    "preston ls --remote http://preston.acis.ufl.edu > tmp/nquads\n",
    "```"
   ]
  },
  {
   "cell_type": "markdown",
   "metadata": {},
   "source": [
    "### Index the provenance logs"
   ]
  },
  {
   "cell_type": "code",
   "execution_count": 3,
   "metadata": {},
   "outputs": [],
   "source": [
    "class Observatory:\n",
    "    def __init__(self, name, dataPath=None, outputPath=None):\n",
    "        self.name = name\n",
    "        self.dataPath = dataPath\n",
    "        self.index = None\n",
    "        \n",
    "        if outputPath is not None:\n",
    "            self.outputPath = outputPath\n",
    "        else:\n",
    "            self.outputPath = \"./\" + name.lower().replace(\" \", \"-\") + \"-analysis/\""
   ]
  },
  {
   "cell_type": "code",
   "execution_count": 69,
   "metadata": {},
   "outputs": [],
   "source": [
    "def MakeIndexFromLogs(paths):\n",
    "    #import sys\n",
    "    #import io\n",
    "    global line\n",
    "    global nQuad\n",
    "    index = Index()\n",
    "\n",
    "    if type(paths) == str:\n",
    "        paths = [paths]\n",
    "    #sys.stdin = io.FileIO(path)\n",
    "\n",
    "    # Parse the provenance log into a list of n-quads\n",
    "    for path in paths:\n",
    "        with open(path) as file:\n",
    "            parsingGenerations = False\n",
    "            for line in file:\n",
    "                nQuads = NQuads.Parse(str(line))\n",
    "                for nQuad in nQuads:\n",
    "                    if len(nQuad) < 3: # Only ingest well-formed n-quads\n",
    "                        continue\n",
    "                    elif not parsingGenerations:\n",
    "                        if nQuad[1][0] == \"http://www.w3.org/ns/prov#qualifiedGeneration\":\n",
    "                            parsingGenerations = True\n",
    "                        elif nQuad[1][0] not in (\n",
    "                            \"http://www.w3.org/ns/prov#Activity\",\n",
    "                            \"http://purl.org/dc/terms/description\",\n",
    "                            \"http://www.w3.org/ns/prov#startedAtTime\"\n",
    "                        ):\n",
    "                            continue\n",
    "                    index.Ingest(nQuad)\n",
    "\n",
    "    return index"
   ]
  },
  {
   "cell_type": "code",
   "execution_count": null,
   "metadata": {},
   "outputs": [],
   "source": [
    "observatories = []"
   ]
  },
  {
   "cell_type": "code",
   "execution_count": 60,
   "metadata": {},
   "outputs": [],
   "source": [
    "observatories.append(Observatory(\"iDigBio\", \"../zenodo_deeplinker/idigbio.nq\"))"
   ]
  },
  {
   "cell_type": "code",
   "execution_count": null,
   "metadata": {},
   "outputs": [],
   "source": [
    "observatories.append(Observatory(\"GBIF\", \"../zenodo_deeplinker/gbif.nq\"))"
   ]
  },
  {
   "cell_type": "code",
   "execution_count": 115,
   "metadata": {},
   "outputs": [],
   "source": [
    "observatories.append(Observatory(\"DataONE\", \"../zenodo_dataone/nquads\"))"
   ]
  },
  {
   "cell_type": "code",
   "execution_count": 117,
   "metadata": {},
   "outputs": [],
   "source": [
    "observatories.append(Observatory(\"BHL\", \"../zenodo_bhl/nquads\"))"
   ]
  },
  {
   "cell_type": "code",
   "execution_count": null,
   "metadata": {},
   "outputs": [],
   "source": [
    "# observatories.append(Observatory(\"Deeplinker\", \"../zenodo_deeplinker/nquads\"))"
   ]
  },
  {
   "cell_type": "code",
   "execution_count": null,
   "metadata": {},
   "outputs": [],
   "source": [
    "observatories.append(Observatory(\"All\", [x.dataPath for x in observatories]))"
   ]
  },
  {
   "cell_type": "code",
   "execution_count": 118,
   "metadata": {},
   "outputs": [
    {
     "name": "stdout",
     "output_type": "stream",
     "text": [
      "Skipping iDigBio; already loaded\n",
      "Skipping GBIF; already loaded\n",
      "Reading DataONE...\n",
      "CPU times: user 8min 30s, sys: 1min 36s, total: 10min 6s\n",
      "Wall time: 10min 6s\n",
      "Done reading DataONE\n",
      "\n",
      "Reading BHL...\n",
      "CPU times: user 4min 20s, sys: 1min 13s, total: 5min 33s\n",
      "Wall time: 5min 33s\n",
      "Done reading BHL\n",
      "\n",
      "CPU times: user 12min 50s, sys: 2min 49s, total: 15min 39s\n",
      "Wall time: 15min 39s\n"
     ]
    }
   ],
   "source": [
    "%%time\n",
    "\n",
    "import os\n",
    "\n",
    "for observatory in observatories:\n",
    "    if observatory.index is not None:\n",
    "        print(\"Skipping %s; already loaded\" % observatory.name)\n",
    "        continue\n",
    "\n",
    "    # Prepare a place to store results\n",
    "    try:\n",
    "        os.mkdir(observatory.outputPath)\n",
    "    except OSError:\n",
    "        pass\n",
    "    \n",
    "    # Make an index\n",
    "    if observatory.dataPath is None:\n",
    "        print(\"Skipping %s; data path not specified\" % observatory.name)\n",
    "    else:\n",
    "        print(\"Reading %s...\" % observatory.name)\n",
    "        %time observatory.index = MakeIndexFromLogs(observatory.dataPath)\n",
    "        print(\"Done reading %s\\n\" % observatory.name)"
   ]
  },
  {
   "cell_type": "code",
   "execution_count": 971,
   "metadata": {},
   "outputs": [
    {
     "name": "stdout",
     "output_type": "stream",
     "text": [
      "Using BHL\n"
     ]
    }
   ],
   "source": [
    "observatory = observatories[3]\n",
    "observatoryName = observatory.name\n",
    "fullIndex = observatory.index\n",
    "outputPath = observatory.outputPath\n",
    "dataPath = observatory.dataPath\n",
    "print(\"Using %s\" % observatoryName)"
   ]
  },
  {
   "cell_type": "code",
   "execution_count": 972,
   "metadata": {
    "scrolled": true
   },
   "outputs": [
    {
     "name": "stdout",
     "output_type": "stream",
     "text": [
      "e9de00b7-7a4f-4e47-aa2d-986811ea009c\thttp://www.w3.org/ns/prov#startedAtTime\t2019-05-13T17:10:37.661Z\n",
      "5e092894-4aae-4b5d-b07b-925f4251725a\thttp://www.w3.org/ns/prov#startedAtTime\t2019-10-01T11:40:13.365Z\n",
      "d8afa467-0bd4-4fa8-b618-2944e96bb7d0\thttp://www.w3.org/ns/prov#startedAtTime\t2019-09-01T09:06:39.430Z\n",
      "f3cfd1e7-2b32-4b28-8c6b-607dccffa636\thttp://www.w3.org/ns/prov#startedAtTime\t2019-08-01T11:59:32.756Z\n",
      "a554958b-171f-43b6-a369-45f3c695e494\thttp://www.w3.org/ns/prov#startedAtTime\t2019-07-01T18:50:09.802Z\n",
      "21014813-c4f0-48cd-9046-e7d55e7702da\thttp://www.w3.org/ns/prov#startedAtTime\t2019-10-13T23:27:52.877Z\n",
      "71d81267-4370-4b48-a384-b80f6e58919c\thttp://www.w3.org/ns/prov#startedAtTime\t2019-06-01T00:36:19.222Z\n"
     ]
    }
   ],
   "source": [
    "for x in fullIndex.verbLookup[\"http://www.w3.org/ns/prov#startedAtTime\"].triples: print(x)"
   ]
  },
  {
   "cell_type": "code",
   "execution_count": 973,
   "metadata": {
    "scrolled": true
   },
   "outputs": [
    {
     "name": "stdout",
     "output_type": "stream",
     "text": [
      "2,873,739 nodes\n"
     ]
    }
   ],
   "source": [
    "print(\"{:,}\".format(len(fullIndex.nodes)), \"nodes\")"
   ]
  },
  {
   "cell_type": "code",
   "execution_count": 974,
   "metadata": {},
   "outputs": [],
   "source": [
    "# formats = set()\n",
    "\n",
    "# for x in fullIndex.verbLookup[\"http://purl.org/dc/elements/1.1/format\"].triples:\n",
    "#     formats.add(x.object)\n",
    "\n",
    "# for x in formats: print(x)"
   ]
  },
  {
   "cell_type": "code",
   "execution_count": 975,
   "metadata": {},
   "outputs": [
    {
     "name": "stdout",
     "output_type": "stream",
     "text": [
      "http://www.w3.org/ns/prov#generatedAtTime\n",
      "http://www.w3.org/ns/prov#wasStartedBy\n",
      "http://www.w3.org/1999/02/22-rdf-syntax-ns#type\n",
      "http://purl.org/pav/createdBy\n",
      "http://www.w3.org/ns/prov#activity\n",
      "http://purl.org/dc/terms/bibliographicCitation\n",
      "http://www.w3.org/ns/prov#qualifiedGeneration\n",
      "http://purl.org/pav/hasVersion\n",
      "http://www.w3.org/ns/prov#used\n",
      "http://www.w3.org/ns/prov#hadMember\n",
      "http://purl.org/dc/elements/1.1/format\n",
      "http://www.w3.org/ns/prov#wasAssociatedWith\n",
      "http://www.w3.org/ns/prov#usedBy\n",
      "http://www.w3.org/1999/02/22-rdf-syntax-ns#seeAlso\n",
      "http://www.w3.org/ns/prov#wasGeneratedBy\n",
      "http://purl.org/dc/terms/description\n",
      "http://www.w3.org/ns/prov#startedAtTime\n"
     ]
    }
   ],
   "source": [
    "for x in fullIndex.verbs: print(x)"
   ]
  },
  {
   "cell_type": "code",
   "execution_count": 976,
   "metadata": {},
   "outputs": [],
   "source": [
    "def PrintNodeSubTree(node, maxDepth=1, root=True):\n",
    "    if root:\n",
    "        for x in node.inwardTriples:\n",
    "            print(x)\n",
    "\n",
    "    if maxDepth > 0:\n",
    "        for x in node.outwardTriples:\n",
    "            print(x)\n",
    "            PrintNodeSubTree(x.object, maxDepth - 1, False)\n",
    "\n",
    "def Peek(nativeSet):\n",
    "    if len(nativeSet) == 0:\n",
    "        return None\n",
    "    else:\n",
    "        item = nativeSet.pop()\n",
    "        nativeSet.add(item)\n",
    "        return item\n",
    "\n",
    "def ContentIsMissing(content):\n",
    "    return str(content).startswith(\"http\")"
   ]
  },
  {
   "cell_type": "markdown",
   "metadata": {},
   "source": [
    "### Get crawl UUIDs and sort them by date"
   ]
  },
  {
   "cell_type": "code",
   "execution_count": 977,
   "metadata": {},
   "outputs": [],
   "source": [
    "class CrawlMeta:\n",
    "    def __init__(self, position, date):\n",
    "        # Properties\n",
    "        self.position = position\n",
    "        self.date = date"
   ]
  },
  {
   "cell_type": "code",
   "execution_count": 978,
   "metadata": {},
   "outputs": [
    {
     "name": "stdout",
     "output_type": "stream",
     "text": [
      "Ignoring non-crawl log 21014813-c4f0-48cd-9046-e7d55e7702da (\"An event that (re-) processes existing biodiversity datasets graphs and their provenance.\")\n",
      "\n",
      "e9de00b7-7a4f-4e47-aa2d-986811ea009c\t2019-05-13T17:10:37.661Z\t0\n",
      "71d81267-4370-4b48-a384-b80f6e58919c\t2019-06-01T00:36:19.222Z\t1\n",
      "a554958b-171f-43b6-a369-45f3c695e494\t2019-07-01T18:50:09.802Z\t2\n",
      "f3cfd1e7-2b32-4b28-8c6b-607dccffa636\t2019-08-01T11:59:32.756Z\t3\n",
      "d8afa467-0bd4-4fa8-b618-2944e96bb7d0\t2019-09-01T09:06:39.430Z\t4\n",
      "5e092894-4aae-4b5d-b07b-925f4251725a\t2019-10-01T11:40:13.365Z\t5\n"
     ]
    }
   ],
   "source": [
    "checkDescription = (\"http://purl.org/dc/terms/description\" in fullIndex.verbLookup)\n",
    "startDate = \"2019-03-01\"\n",
    "endDate = \"2019-10-1\"\n",
    "\n",
    "crawlDates = []\n",
    "for triple in fullIndex.verbLookup[\"http://www.w3.org/ns/prov#startedAtTime\"].triples:\n",
    "    crawlUuid = triple.subject\n",
    "    crawlDate = triple.object\n",
    "\n",
    "    if crawlDate < startDate:\n",
    "        print(\"Ignoring early crawl log %s (\\\"%s\\\")\" % (str(crawlUuid), str(crawlDate)))\n",
    "    else:\n",
    "        if checkDescription:\n",
    "            descriptionTriple = Peek(crawlUuid.outwardTriples & fullIndex.verbLookup[\"http://purl.org/dc/terms/description\"].triples)\n",
    "            if descriptionTriple.object == \"A crawl event that discovers biodiversity archives.\":\n",
    "                crawlDates.append((crawlUuid, crawlDate))\n",
    "            else:\n",
    "                print(\"Ignoring non-crawl log %s (\\\"%s\\\")\" % (str(crawlUuid), str(descriptionTriple.object)))\n",
    "        else:\n",
    "            crawlDates.append((crawlUuid, crawlDate))\n",
    "numCrawls = len(crawlDates)\n",
    "\n",
    "crawlDates.sort(key=lambda x: x[1])\n",
    "\n",
    "print()\n",
    "# Assign some helpful metadata to each crawl\n",
    "crawlMetaLookup = dict()\n",
    "for i, crawlDate in enumerate(crawlDates):\n",
    "    # Tag crawl nodes with their chronological position in the preston history\n",
    "    crawlMeta = CrawlMeta(\n",
    "        position=i,\n",
    "        date=crawlDate[1]\n",
    "    )\n",
    "\n",
    "    crawlMetaLookup[crawlDate[0]] = crawlMeta\n",
    "\n",
    "    print(\"%s\\t%s\\t%d\" % (crawlDate[0], crawlMeta.date, crawlMeta.position))"
   ]
  },
  {
   "cell_type": "markdown",
   "metadata": {},
   "source": [
    "### Build a history for each URL"
   ]
  },
  {
   "cell_type": "code",
   "execution_count": 979,
   "metadata": {},
   "outputs": [],
   "source": [
    "class Status(Enum):\n",
    "    UNKNOWN             = 0    # Did not check for content\n",
    "    FIRST_CONTENT       = 1    # Returned content for the first time\n",
    "    SAME_CONTENT        = 2    # Returned the same content as the last successful query\n",
    "    CHANGED_CONTENT     = 3    # Returned new content\n",
    "    OLD_CONTENT         = 4    # Returned previously seen content that is different from the previous successful data\n",
    "    BECAME_UNRESOLVED   = 5    # Failed to return content after a successful query\n",
    "    STILL_UNRESOLVED    = 6    # Failed to return content again\n",
    "    ERROR               = 7    # Returned malformed content\n",
    "\n",
    "class UrlLifetime:\n",
    "    def __init__(self, numCrawls):\n",
    "        self.statuses = [Status.UNKNOWN] * numCrawls\n",
    "        self.contents = [None] * numCrawls\n",
    "\n",
    "        self.firstCrawlPosition = None\n",
    "        self.lastCrawlPosition = None\n",
    "        self.lastKnownStatus = Status.UNKNOWN\n",
    "        self.firstChangePosition = None\n",
    "        self.firstBreakPosition = None\n",
    "\n",
    "        self.numResolves = 0\n",
    "        self.numBreaks = 0\n",
    "        self.numContents = 0\n",
    "        self.numContentChanges = 0\n",
    "\n",
    "class ContentLifetime:\n",
    "    def __init__(self, numCrawls):\n",
    "        self.firstCrawlPosition = None\n",
    "        self.lastCrawlPosition = None"
   ]
  },
  {
   "cell_type": "markdown",
   "metadata": {},
   "source": [
    "### Collect the contents seen over the course of each URL's lifetime"
   ]
  },
  {
   "cell_type": "code",
   "execution_count": 980,
   "metadata": {},
   "outputs": [
    {
     "name": "stdout",
     "output_type": "stream",
     "text": [
      "CPU times: user 16.8 s, sys: 1.89 s, total: 18.7 s\n",
      "Wall time: 18.7 s\n"
     ]
    }
   ],
   "source": [
    "%%time\n",
    "\n",
    "numGenerationsIgnored = 0\n",
    "\n",
    "contentLifetimes = dict()\n",
    "urlLifetimes = dict()\n",
    "for x in fullIndex.verbLookup[\"http://www.w3.org/ns/prov#qualifiedGeneration\"].triples:\n",
    "    qualGen = x.object\n",
    "\n",
    "    # Get content\n",
    "    contentTriple = Peek(qualGen.inwardTriples & fullIndex.verbLookup[\"http://www.w3.org/ns/prov#qualifiedGeneration\"].triples)\n",
    "    content = contentTriple.subject\n",
    "\n",
    "    # Get URL\n",
    "    urlTriple = Peek(qualGen.outwardTriples & fullIndex.verbLookup[\"http://www.w3.org/ns/prov#used\"].triples)\n",
    "    url = urlTriple.object\n",
    "\n",
    "    # Get crawl\n",
    "    crawlTriple = Peek(qualGen.outwardTriples & fullIndex.verbLookup[\"http://www.w3.org/ns/prov#activity\"].triples)\n",
    "    crawl = crawlTriple.object\n",
    "    \n",
    "    # Skip generations from ignored crawls\n",
    "    if crawl not in crawlMetaLookup:\n",
    "        numGenerationsIgnored += 1\n",
    "        continue\n",
    "\n",
    "    crawlMeta = crawlMetaLookup[crawl]\n",
    "\n",
    "    # Fill in URL lifetime data\n",
    "    if url in urlLifetimes:\n",
    "        lifetime = urlLifetimes[url]\n",
    "    else:\n",
    "        lifetime = UrlLifetime(numCrawls)\n",
    "        urlLifetimes[url] = lifetime\n",
    "\n",
    "    if lifetime.firstCrawlPosition == None or crawlMeta.position < lifetime.firstCrawlPosition:\n",
    "        lifetime.firstCrawlPosition = crawlMeta.position\n",
    "\n",
    "    if lifetime.lastCrawlPosition == None or crawlMeta.position > lifetime.lastCrawlPosition:\n",
    "        lifetime.lastCrawlPosition = crawlMeta.position\n",
    "\n",
    "    lifetime.contents[crawlMeta.position] = content\n",
    "    \n",
    "    # Fill in content lifetime data\n",
    "    if not ContentIsMissing(content):\n",
    "        if content in contentLifetimes:\n",
    "            lifetime = contentLifetimes[content]\n",
    "        else:\n",
    "            lifetime = ContentLifetime(numCrawls)\n",
    "            contentLifetimes[content] = lifetime\n",
    "        \n",
    "        if lifetime.firstCrawlPosition == None or crawlMeta.position < lifetime.firstCrawlPosition:\n",
    "            lifetime.firstCrawlPosition = crawlMeta.position\n",
    "\n",
    "        if lifetime.lastCrawlPosition == None or crawlMeta.position > lifetime.lastCrawlPosition:\n",
    "            lifetime.lastCrawlPosition = crawlMeta.position"
   ]
  },
  {
   "cell_type": "code",
   "execution_count": 981,
   "metadata": {},
   "outputs": [
    {
     "name": "stdout",
     "output_type": "stream",
     "text": [
      "0 generations ignored\n",
      "248,514 urls processed\n"
     ]
    }
   ],
   "source": [
    "totalNumUrls = len(urlLifetimes)\n",
    "print(\"{:,}\".format(numGenerationsIgnored), \"generations ignored\")\n",
    "print(\"{:,}\".format(totalNumUrls), \"urls processed\")"
   ]
  },
  {
   "cell_type": "markdown",
   "metadata": {},
   "source": [
    "### Assign a status for each stage of each URL's lifetime"
   ]
  },
  {
   "cell_type": "markdown",
   "metadata": {},
   "source": [
    "There's some ambiguity in the status of a URL's first query; we make some arbitrary, totally unfounded assumptions:\n",
    "* If unresolved, consider it BECAME_UNRESOLVED rather than STILL_UNRESOLVED\n",
    "* If resolved, consider it FIRST_CONTENT rather than SAME_CONTENT, OLD_CONTENT, or CHANGED_CONTENT"
   ]
  },
  {
   "cell_type": "code",
   "execution_count": 982,
   "metadata": {},
   "outputs": [
    {
     "name": "stdout",
     "output_type": "stream",
     "text": [
      "CPU times: user 2.66 s, sys: 0 ns, total: 2.66 s\n",
      "Wall time: 2.67 s\n"
     ]
    }
   ],
   "source": [
    "%%time\n",
    "\n",
    "for url, lifetime in urlLifetimes.items():\n",
    "    wasAlive = True\n",
    "    mostRecentContent = None\n",
    "    for i, content in enumerate(lifetime.contents):\n",
    "\n",
    "        if content:\n",
    "            if ContentIsMissing(content):\n",
    "        # Became unresolved\n",
    "                if wasAlive:\n",
    "                    status = Status.BECAME_UNRESOLVED\n",
    "                    lifetime.numBreaks += 1\n",
    "\n",
    "        # Still unresolved\n",
    "                else:\n",
    "                    status = Status.STILL_UNRESOLVED\n",
    "\n",
    "                wasAlive = False\n",
    "            \n",
    "                if lifetime.firstBreakPosition is None:\n",
    "                    lifetime.firstBreakPosition = i\n",
    "\n",
    "        # First content\n",
    "            else:\n",
    "                if mostRecentContent == None:\n",
    "                    status = Status.FIRST_CONTENT\n",
    "                    mostRecentContent = content\n",
    "                    lifetime.numContents += 1\n",
    "\n",
    "        # Same content\n",
    "                elif content == mostRecentContent:\n",
    "                    status = Status.SAME_CONTENT\n",
    "\n",
    "                else:\n",
    "        # Old content\n",
    "                    if content in lifetime.contents[0:i]:\n",
    "                        status = Status.OLD_CONTENT\n",
    "\n",
    "        # Changed content\n",
    "                    else:\n",
    "                        status = Status.CHANGED_CONTENT\n",
    "                        if lifetime.firstChangePosition is None:\n",
    "                            lifetime.firstChangePosition = i\n",
    "                        lifetime.numContents += 1\n",
    "\n",
    "                    mostRecentContent = content\n",
    "                    lifetime.numContentChanges += 1\n",
    "\n",
    "                wasAlive = True\n",
    "                lifetime.numResolves += 1\n",
    "\n",
    "            lifetime.lastKnownStatus = status\n",
    "        # Unknown\n",
    "        else:\n",
    "            status = Status.UNKNOWN\n",
    "\n",
    "        lifetime.statuses[i] = status"
   ]
  },
  {
   "cell_type": "code",
   "execution_count": 983,
   "metadata": {
    "scrolled": true
   },
   "outputs": [
    {
     "data": {
      "text/plain": [
       "[<prestongraph.Node at 0x7fcdd815b668>,\n",
       " <prestongraph.Node at 0x7fcdd815b668>,\n",
       " <prestongraph.Node at 0x7fcdd815b668>,\n",
       " <prestongraph.Node at 0x7fcdd815b668>,\n",
       " <prestongraph.Node at 0x7fce28b5c588>,\n",
       " <prestongraph.Node at 0x7fcdd815b668>]"
      ]
     },
     "execution_count": 983,
     "metadata": {},
     "output_type": "execute_result"
    }
   ],
   "source": [
    "list(urlLifetimes.items())[0][1].contents"
   ]
  },
  {
   "cell_type": "code",
   "execution_count": 984,
   "metadata": {},
   "outputs": [],
   "source": [
    "textUrlLifetimes = dict()\n",
    "for url, lifetime in urlLifetimes.items():\n",
    "    textContents = [None] * numCrawls\n",
    "    for i, content in enumerate(lifetime.contents):\n",
    "        textContents[i] = str(content)\n",
    "    textUrlLifetimes[str(url)] = textContents\n",
    "\n",
    "np.save(outputPath + \"url-lifetimes\", textUrlLifetimes)"
   ]
  },
  {
   "cell_type": "code",
   "execution_count": 985,
   "metadata": {},
   "outputs": [
    {
     "data": {
      "text/plain": [
       "248514"
      ]
     },
     "execution_count": 985,
     "metadata": {},
     "output_type": "execute_result"
    }
   ],
   "source": [
    "len(textUrlLifetimes)"
   ]
  },
  {
   "cell_type": "code",
   "execution_count": 986,
   "metadata": {},
   "outputs": [
    {
     "name": "stdout",
     "output_type": "stream",
     "text": [
      "Lifetime for https://archive.org/download/burbankseedbook00burbt/burbankseedbook00burbt_djvu.txt\n",
      "\n",
      "0:\tStatus.UNKNOWN\tNone\n",
      "1:\tStatus.UNKNOWN\tNone\n",
      "2:\tStatus.UNKNOWN\tNone\n",
      "3:\tStatus.UNKNOWN\tNone\n",
      "4:\tStatus.UNKNOWN\tNone\n",
      "5:\tStatus.FIRST_CONTENT\thash://sha256/66832bed2643b95a9218df586b1eefbdf6cf4135308814eb98d0b5d14eddbef9\n"
     ]
    }
   ],
   "source": [
    "print(\"Lifetime for %s\\n\" % url)\n",
    "print(\"\\n\".join([\"%d:\\t%s\\t%s\" % (i, lifetime.statuses[i], lifetime.contents[i]) for i in range(numCrawls)]))"
   ]
  },
  {
   "cell_type": "markdown",
   "metadata": {},
   "source": [
    "## Build figures\n",
    "These should probably be colorless (i.e. use black and white textures and dotted lines)"
   ]
  },
  {
   "cell_type": "markdown",
   "metadata": {},
   "source": [
    "### New, modified, lost content per crawl"
   ]
  },
  {
   "cell_type": "code",
   "execution_count": 987,
   "metadata": {},
   "outputs": [],
   "source": [
    "import pandas as pd\n",
    "import numpy as np\n",
    "import matplotlib.pyplot as plt\n",
    "import datetime\n",
    "from itertools import cycle, islice\n",
    "\n",
    "%matplotlib inline"
   ]
  },
  {
   "cell_type": "code",
   "execution_count": 988,
   "metadata": {},
   "outputs": [
    {
     "data": {
      "text/plain": [
       "{<Status.UNKNOWN: 0>: 0,\n",
       " <Status.FIRST_CONTENT: 1>: 0,\n",
       " <Status.SAME_CONTENT: 2>: 0,\n",
       " <Status.CHANGED_CONTENT: 3>: 0,\n",
       " <Status.OLD_CONTENT: 4>: 0,\n",
       " <Status.BECAME_UNRESOLVED: 5>: 0,\n",
       " <Status.STILL_UNRESOLVED: 6>: 0,\n",
       " <Status.ERROR: 7>: 0}"
      ]
     },
     "execution_count": 988,
     "metadata": {},
     "output_type": "execute_result"
    }
   ],
   "source": [
    "dict([(status, 0) for status in Status])"
   ]
  },
  {
   "cell_type": "code",
   "execution_count": 989,
   "metadata": {},
   "outputs": [
    {
     "name": "stdout",
     "output_type": "stream",
     "text": [
      "CPU times: user 688 ms, sys: 0 ns, total: 688 ms\n",
      "Wall time: 693 ms\n"
     ]
    }
   ],
   "source": [
    "%%time\n",
    "\n",
    "crawlStatusTotals = [(dict([(status, 0) for status in Status])) for crawlDate in crawlDates]\n",
    "# for crawl in range(numCrawls):\n",
    "#     crawlStatusTotals[crawl] = \n",
    "\n",
    "# crawlStatusTotals = dict()\n",
    "\n",
    "\n",
    "for _, lifetime in urlLifetimes.items():\n",
    "    for i, status in enumerate(lifetime.statuses):\n",
    "        crawlStatusTotals[i][status] += 1\n",
    "\n",
    "# crawl_status_totals_df = pd.DataFrame(\n",
    "#     index   = [datetime.datetime.strptime(str(x[1]), \"%Y-%m-%dT%H:%M:%S.%fZ\") for x in crawlDates],\n",
    "#     columns = [x for x in Status],\n",
    "#     data    = ,\n",
    "#     dtype   = int\n",
    "# )\n",
    "\n",
    "crawl_status_totals_df = pd.DataFrame(\n",
    "    index = [datetime.datetime.strptime(str(x[1]), \"%Y-%m-%dT%H:%M:%S.%fZ\") for x in crawlDates],\n",
    "    data = crawlStatusTotals\n",
    ")"
   ]
  },
  {
   "cell_type": "code",
   "execution_count": 990,
   "metadata": {},
   "outputs": [
    {
     "data": {
      "text/html": [
       "<div>\n",
       "<style scoped>\n",
       "    .dataframe tbody tr th:only-of-type {\n",
       "        vertical-align: middle;\n",
       "    }\n",
       "\n",
       "    .dataframe tbody tr th {\n",
       "        vertical-align: top;\n",
       "    }\n",
       "\n",
       "    .dataframe thead th {\n",
       "        text-align: right;\n",
       "    }\n",
       "</style>\n",
       "<table border=\"1\" class=\"dataframe\">\n",
       "  <thead>\n",
       "    <tr style=\"text-align: right;\">\n",
       "      <th></th>\n",
       "      <th>2019-05-13 17:10:37.661000</th>\n",
       "      <th>2019-06-01 00:36:19.222000</th>\n",
       "      <th>2019-07-01 18:50:09.802000</th>\n",
       "      <th>2019-08-01 11:59:32.756000</th>\n",
       "      <th>2019-09-01 09:06:39.430000</th>\n",
       "      <th>2019-10-01 11:40:13.365000</th>\n",
       "    </tr>\n",
       "  </thead>\n",
       "  <tbody>\n",
       "    <tr>\n",
       "      <th>Status.UNKNOWN</th>\n",
       "      <td>6011</td>\n",
       "      <td>6011</td>\n",
       "      <td>4061</td>\n",
       "      <td>3505</td>\n",
       "      <td>3504</td>\n",
       "      <td>336</td>\n",
       "    </tr>\n",
       "    <tr>\n",
       "      <th>Status.FIRST_CONTENT</th>\n",
       "      <td>227043</td>\n",
       "      <td>33</td>\n",
       "      <td>1983</td>\n",
       "      <td>561</td>\n",
       "      <td>1</td>\n",
       "      <td>3443</td>\n",
       "    </tr>\n",
       "    <tr>\n",
       "      <th>Status.SAME_CONTENT</th>\n",
       "      <td>0</td>\n",
       "      <td>184882</td>\n",
       "      <td>227048</td>\n",
       "      <td>228952</td>\n",
       "      <td>153437</td>\n",
       "      <td>229513</td>\n",
       "    </tr>\n",
       "    <tr>\n",
       "      <th>Status.CHANGED_CONTENT</th>\n",
       "      <td>0</td>\n",
       "      <td>1</td>\n",
       "      <td>5</td>\n",
       "      <td>43</td>\n",
       "      <td>9</td>\n",
       "      <td>12</td>\n",
       "    </tr>\n",
       "    <tr>\n",
       "      <th>Status.OLD_CONTENT</th>\n",
       "      <td>0</td>\n",
       "      <td>0</td>\n",
       "      <td>0</td>\n",
       "      <td>0</td>\n",
       "      <td>0</td>\n",
       "      <td>0</td>\n",
       "    </tr>\n",
       "    <tr>\n",
       "      <th>Status.BECAME_UNRESOLVED</th>\n",
       "      <td>15460</td>\n",
       "      <td>42160</td>\n",
       "      <td>17</td>\n",
       "      <td>67</td>\n",
       "      <td>76134</td>\n",
       "      <td>77</td>\n",
       "    </tr>\n",
       "    <tr>\n",
       "      <th>Status.STILL_UNRESOLVED</th>\n",
       "      <td>0</td>\n",
       "      <td>15427</td>\n",
       "      <td>15400</td>\n",
       "      <td>15386</td>\n",
       "      <td>15429</td>\n",
       "      <td>15133</td>\n",
       "    </tr>\n",
       "    <tr>\n",
       "      <th>Status.ERROR</th>\n",
       "      <td>0</td>\n",
       "      <td>0</td>\n",
       "      <td>0</td>\n",
       "      <td>0</td>\n",
       "      <td>0</td>\n",
       "      <td>0</td>\n",
       "    </tr>\n",
       "  </tbody>\n",
       "</table>\n",
       "</div>"
      ],
      "text/plain": [
       "                          2019-05-13 17:10:37.661  2019-06-01 00:36:19.222  \\\n",
       "Status.UNKNOWN                               6011                     6011   \n",
       "Status.FIRST_CONTENT                       227043                       33   \n",
       "Status.SAME_CONTENT                             0                   184882   \n",
       "Status.CHANGED_CONTENT                          0                        1   \n",
       "Status.OLD_CONTENT                              0                        0   \n",
       "Status.BECAME_UNRESOLVED                    15460                    42160   \n",
       "Status.STILL_UNRESOLVED                         0                    15427   \n",
       "Status.ERROR                                    0                        0   \n",
       "\n",
       "                          2019-07-01 18:50:09.802  2019-08-01 11:59:32.756  \\\n",
       "Status.UNKNOWN                               4061                     3505   \n",
       "Status.FIRST_CONTENT                         1983                      561   \n",
       "Status.SAME_CONTENT                        227048                   228952   \n",
       "Status.CHANGED_CONTENT                          5                       43   \n",
       "Status.OLD_CONTENT                              0                        0   \n",
       "Status.BECAME_UNRESOLVED                       17                       67   \n",
       "Status.STILL_UNRESOLVED                     15400                    15386   \n",
       "Status.ERROR                                    0                        0   \n",
       "\n",
       "                          2019-09-01 09:06:39.430  2019-10-01 11:40:13.365  \n",
       "Status.UNKNOWN                               3504                      336  \n",
       "Status.FIRST_CONTENT                            1                     3443  \n",
       "Status.SAME_CONTENT                        153437                   229513  \n",
       "Status.CHANGED_CONTENT                          9                       12  \n",
       "Status.OLD_CONTENT                              0                        0  \n",
       "Status.BECAME_UNRESOLVED                    76134                       77  \n",
       "Status.STILL_UNRESOLVED                     15429                    15133  \n",
       "Status.ERROR                                    0                        0  "
      ]
     },
     "execution_count": 990,
     "metadata": {},
     "output_type": "execute_result"
    }
   ],
   "source": [
    "crawl_status_totals_df.to_csv(outputPath + \"crawl-status-totals-df\")\n",
    "crawl_status_totals_df.transpose()"
   ]
  },
  {
   "cell_type": "code",
   "execution_count": 991,
   "metadata": {},
   "outputs": [],
   "source": [
    "col_hex = {\n",
    "    \"blue\"      : \"#1f77b4\",\n",
    "    \"orange\"    : \"#ff7f0e\",\n",
    "    \"green\"     : \"#2ca02c\",\n",
    "    \"red\"       : \"#d62728\",\n",
    "    \"purple\"    : \"#9467bd\",\n",
    "    \"brown\"     : \"#8c564b\",\n",
    "    \"pink\"      : \"#e377c2\",\n",
    "    \"gray\"      : \"#7f7f7f\",\n",
    "    \"yellow\"    : \"#bcbd22\",\n",
    "    \"teal\"      : \"#17becf\",\n",
    "    \n",
    "    \"bright green\"  : \"#00ff00\",\n",
    "    \"bright red\"    : \"#ff0000\",\n",
    "    \"green yellow\"  : \"#9ACD32\",\n",
    "    \"olive\"         : \"#808000\"\n",
    "}\n",
    "\n",
    "fig_df = crawl_status_totals_df[[\n",
    "    Status.SAME_CONTENT,\n",
    "    Status.FIRST_CONTENT,\n",
    "    Status.OLD_CONTENT,\n",
    "    Status.CHANGED_CONTENT,\n",
    "    Status.STILL_UNRESOLVED,\n",
    "    Status.BECAME_UNRESOLVED,\n",
    "    Status.UNKNOWN,\n",
    "    Status.ERROR\n",
    "]]\n",
    "\n",
    "status_colors = {\n",
    "    Status.UNKNOWN             : \"gray\",\n",
    "    Status.FIRST_CONTENT       : \"bright green\",\n",
    "    Status.SAME_CONTENT        : \"green\",\n",
    "    Status.CHANGED_CONTENT     : \"yellow\",\n",
    "    Status.OLD_CONTENT         : \"olive\",\n",
    "    Status.BECAME_UNRESOLVED   : \"bright red\",\n",
    "    Status.STILL_UNRESOLVED    : \"red\",\n",
    "    Status.ERROR               : \"purple\",\n",
    "}\n",
    "\n",
    "status_color_map = list(islice(cycle([col_hex[status_colors[x]] for x in fig_df.columns]), None, 256))"
   ]
  },
  {
   "cell_type": "code",
   "execution_count": 992,
   "metadata": {
    "scrolled": true
   },
   "outputs": [
    {
     "data": {
      "image/png": "[encoded data removed]",
      "text/plain": [
       "<Figure size 1080x360 with 1 Axes>"
      ]
     },
     "metadata": {},
     "output_type": "display_data"
    }
   ],
   "source": [
    "fig_df.plot(kind=\"bar\", stacked=True, width=.95, color=status_color_map, figsize=(15, 5));\n",
    "plt.savefig(outputPath + \"stacked-query-status-counts-per-crawl\")\n",
    "plt.title(observatoryName + \": Stacked URL status counts per crawl\");"
   ]
  },
  {
   "cell_type": "code",
   "execution_count": 993,
   "metadata": {
    "scrolled": true
   },
   "outputs": [
    {
     "name": "stdout",
     "output_type": "stream",
     "text": [
      "BHL: Stacked URL Status Counts Over Time (Stepped)\n"
     ]
    },
    {
     "data": {
      "image/png": "[encoded data removed]",
      "text/plain": [
       "<Figure size 1152x360 with 1 Axes>"
      ]
     },
     "metadata": {},
     "output_type": "display_data"
    }
   ],
   "source": [
    "# Make figure\n",
    "fig = plt.figure(figsize=(16, 5))\n",
    "ax = fig.add_subplot(111)\n",
    "\n",
    "# Fill in space between lines\n",
    "x = fig_df.index.append(pd.Index([datetime.datetime.now()]))\n",
    "y1 = pd.Series({ q : 0 for q in x })\n",
    "\n",
    "columns = fig_df.columns\n",
    "n = len(columns)\n",
    "for i in range(0, n):\n",
    "    y2 = y1 + fig_df[columns[i]] + 0\n",
    "    ax.fill_between(x, y1, y2, step=\"post\", color=status_color_map[i])\n",
    "    y1 = y2\n",
    "\n",
    "print(observatoryName + \": Stacked URL Status Counts Over Time (Stepped)\")\n",
    "plt.savefig(outputPath + \"stacked-query-status-counts-over-time\")\n",
    "plt.title(observatoryName + \": Stacked URL Status Counts Over Time (Stepped)\");"
   ]
  },
  {
   "cell_type": "code",
   "execution_count": 994,
   "metadata": {
    "scrolled": false
   },
   "outputs": [
    {
     "data": {
      "image/png": "[encoded data removed]",
      "text/plain": [
       "<Figure size 1152x360 with 1 Axes>"
      ]
     },
     "metadata": {},
     "output_type": "display_data"
    }
   ],
   "source": [
    "# Make figure\n",
    "fig = plt.figure(figsize=(16, 5))\n",
    "ax = fig.add_subplot(111)\n",
    "\n",
    "# Draw stepped lines\n",
    "x = fig_df.index\n",
    "for status in fig_df.columns:\n",
    "    y = fig_df[status]\n",
    "    plt.step(x, y, where=\"post\", color=col_hex[status_colors[status]])"
   ]
  },
  {
   "cell_type": "code",
   "execution_count": 995,
   "metadata": {
    "scrolled": false
   },
   "outputs": [
    {
     "data": {
      "image/png": "[encoded data removed]",
      "text/plain": [
       "<Figure size 1080x360 with 1 Axes>"
      ]
     },
     "metadata": {},
     "output_type": "display_data"
    }
   ],
   "source": [
    "ax = fig_df.plot(kind=\"line\", stacked=False, color=status_color_map, figsize=(15, 5),\n",
    "                 title=\"URL status counts over time (interpolated)\")"
   ]
  },
  {
   "cell_type": "markdown",
   "metadata": {},
   "source": [
    "Fun fact: there are many URLs that never resolved"
   ]
  },
  {
   "cell_type": "code",
   "execution_count": 996,
   "metadata": {},
   "outputs": [
    {
     "data": {
      "text/html": [
       "<div>\n",
       "<style scoped>\n",
       "    .dataframe tbody tr th:only-of-type {\n",
       "        vertical-align: middle;\n",
       "    }\n",
       "\n",
       "    .dataframe tbody tr th {\n",
       "        vertical-align: top;\n",
       "    }\n",
       "\n",
       "    .dataframe thead th {\n",
       "        text-align: right;\n",
       "    }\n",
       "</style>\n",
       "<table border=\"1\" class=\"dataframe\">\n",
       "  <thead>\n",
       "    <tr style=\"text-align: right;\">\n",
       "      <th></th>\n",
       "      <th>Status.UNKNOWN</th>\n",
       "      <th>Status.FIRST_CONTENT</th>\n",
       "      <th>Status.SAME_CONTENT</th>\n",
       "      <th>Status.CHANGED_CONTENT</th>\n",
       "      <th>Status.OLD_CONTENT</th>\n",
       "      <th>Status.BECAME_UNRESOLVED</th>\n",
       "      <th>Status.STILL_UNRESOLVED</th>\n",
       "      <th>Status.ERROR</th>\n",
       "    </tr>\n",
       "  </thead>\n",
       "  <tbody>\n",
       "    <tr>\n",
       "      <th>2019-05-13 17:10:37.661</th>\n",
       "      <td>6011</td>\n",
       "      <td>227043</td>\n",
       "      <td>0</td>\n",
       "      <td>0</td>\n",
       "      <td>0</td>\n",
       "      <td>15460</td>\n",
       "      <td>0</td>\n",
       "      <td>0</td>\n",
       "    </tr>\n",
       "    <tr>\n",
       "      <th>2019-06-01 00:36:19.222</th>\n",
       "      <td>6011</td>\n",
       "      <td>33</td>\n",
       "      <td>184882</td>\n",
       "      <td>1</td>\n",
       "      <td>0</td>\n",
       "      <td>42160</td>\n",
       "      <td>15427</td>\n",
       "      <td>0</td>\n",
       "    </tr>\n",
       "    <tr>\n",
       "      <th>2019-07-01 18:50:09.802</th>\n",
       "      <td>4061</td>\n",
       "      <td>1983</td>\n",
       "      <td>227048</td>\n",
       "      <td>5</td>\n",
       "      <td>0</td>\n",
       "      <td>17</td>\n",
       "      <td>15400</td>\n",
       "      <td>0</td>\n",
       "    </tr>\n",
       "    <tr>\n",
       "      <th>2019-08-01 11:59:32.756</th>\n",
       "      <td>3505</td>\n",
       "      <td>561</td>\n",
       "      <td>228952</td>\n",
       "      <td>43</td>\n",
       "      <td>0</td>\n",
       "      <td>67</td>\n",
       "      <td>15386</td>\n",
       "      <td>0</td>\n",
       "    </tr>\n",
       "    <tr>\n",
       "      <th>2019-09-01 09:06:39.430</th>\n",
       "      <td>3504</td>\n",
       "      <td>1</td>\n",
       "      <td>153437</td>\n",
       "      <td>9</td>\n",
       "      <td>0</td>\n",
       "      <td>76134</td>\n",
       "      <td>15429</td>\n",
       "      <td>0</td>\n",
       "    </tr>\n",
       "    <tr>\n",
       "      <th>2019-10-01 11:40:13.365</th>\n",
       "      <td>336</td>\n",
       "      <td>3443</td>\n",
       "      <td>229513</td>\n",
       "      <td>12</td>\n",
       "      <td>0</td>\n",
       "      <td>77</td>\n",
       "      <td>15133</td>\n",
       "      <td>0</td>\n",
       "    </tr>\n",
       "  </tbody>\n",
       "</table>\n",
       "</div>"
      ],
      "text/plain": [
       "                         Status.UNKNOWN  Status.FIRST_CONTENT  \\\n",
       "2019-05-13 17:10:37.661            6011                227043   \n",
       "2019-06-01 00:36:19.222            6011                    33   \n",
       "2019-07-01 18:50:09.802            4061                  1983   \n",
       "2019-08-01 11:59:32.756            3505                   561   \n",
       "2019-09-01 09:06:39.430            3504                     1   \n",
       "2019-10-01 11:40:13.365             336                  3443   \n",
       "\n",
       "                         Status.SAME_CONTENT  Status.CHANGED_CONTENT  \\\n",
       "2019-05-13 17:10:37.661                    0                       0   \n",
       "2019-06-01 00:36:19.222               184882                       1   \n",
       "2019-07-01 18:50:09.802               227048                       5   \n",
       "2019-08-01 11:59:32.756               228952                      43   \n",
       "2019-09-01 09:06:39.430               153437                       9   \n",
       "2019-10-01 11:40:13.365               229513                      12   \n",
       "\n",
       "                         Status.OLD_CONTENT  Status.BECAME_UNRESOLVED  \\\n",
       "2019-05-13 17:10:37.661                   0                     15460   \n",
       "2019-06-01 00:36:19.222                   0                     42160   \n",
       "2019-07-01 18:50:09.802                   0                        17   \n",
       "2019-08-01 11:59:32.756                   0                        67   \n",
       "2019-09-01 09:06:39.430                   0                     76134   \n",
       "2019-10-01 11:40:13.365                   0                        77   \n",
       "\n",
       "                         Status.STILL_UNRESOLVED  Status.ERROR  \n",
       "2019-05-13 17:10:37.661                        0             0  \n",
       "2019-06-01 00:36:19.222                    15427             0  \n",
       "2019-07-01 18:50:09.802                    15400             0  \n",
       "2019-08-01 11:59:32.756                    15386             0  \n",
       "2019-09-01 09:06:39.430                    15429             0  \n",
       "2019-10-01 11:40:13.365                    15133             0  "
      ]
     },
     "execution_count": 996,
     "metadata": {},
     "output_type": "execute_result"
    }
   ],
   "source": [
    "crawl_status_totals_df"
   ]
  },
  {
   "cell_type": "code",
   "execution_count": 997,
   "metadata": {},
   "outputs": [
    {
     "data": {
      "text/plain": [
       "2019-05-13 17:10:37.661    227043\n",
       "2019-06-01 00:36:19.222        34\n",
       "2019-07-01 18:50:09.802      1988\n",
       "2019-08-01 11:59:32.756       604\n",
       "2019-09-01 09:06:39.430        10\n",
       "2019-10-01 11:40:13.365      3455\n",
       "dtype: int64"
      ]
     },
     "execution_count": 997,
     "metadata": {},
     "output_type": "execute_result"
    }
   ],
   "source": [
    "crawl_status_totals_df[[Status.FIRST_CONTENT, Status.CHANGED_CONTENT]].sum(axis=1)"
   ]
  },
  {
   "cell_type": "code",
   "execution_count": 998,
   "metadata": {},
   "outputs": [
    {
     "data": {
      "text/html": [
       "<div>\n",
       "<style scoped>\n",
       "    .dataframe tbody tr th:only-of-type {\n",
       "        vertical-align: middle;\n",
       "    }\n",
       "\n",
       "    .dataframe tbody tr th {\n",
       "        vertical-align: top;\n",
       "    }\n",
       "\n",
       "    .dataframe thead th {\n",
       "        text-align: right;\n",
       "    }\n",
       "</style>\n",
       "<table border=\"1\" class=\"dataframe\">\n",
       "  <thead>\n",
       "    <tr style=\"text-align: right;\">\n",
       "      <th></th>\n",
       "      <th>Available URLs</th>\n",
       "      <th>Stable URLs</th>\n",
       "    </tr>\n",
       "  </thead>\n",
       "  <tbody>\n",
       "    <tr>\n",
       "      <th>2019-05-13 17:10:37.661</th>\n",
       "      <td>227043</td>\n",
       "      <td>227043</td>\n",
       "    </tr>\n",
       "    <tr>\n",
       "      <th>2019-06-01 00:36:19.222</th>\n",
       "      <td>184916</td>\n",
       "      <td>184916</td>\n",
       "    </tr>\n",
       "    <tr>\n",
       "      <th>2019-07-01 18:50:09.802</th>\n",
       "      <td>229036</td>\n",
       "      <td>229036</td>\n",
       "    </tr>\n",
       "    <tr>\n",
       "      <th>2019-08-01 11:59:32.756</th>\n",
       "      <td>229556</td>\n",
       "      <td>229556</td>\n",
       "    </tr>\n",
       "    <tr>\n",
       "      <th>2019-09-01 09:06:39.430</th>\n",
       "      <td>153447</td>\n",
       "      <td>153447</td>\n",
       "    </tr>\n",
       "    <tr>\n",
       "      <th>2019-10-01 11:40:13.365</th>\n",
       "      <td>232968</td>\n",
       "      <td>232968</td>\n",
       "    </tr>\n",
       "  </tbody>\n",
       "</table>\n",
       "</div>"
      ],
      "text/plain": [
       "                         Available URLs  Stable URLs\n",
       "2019-05-13 17:10:37.661          227043       227043\n",
       "2019-06-01 00:36:19.222          184916       184916\n",
       "2019-07-01 18:50:09.802          229036       229036\n",
       "2019-08-01 11:59:32.756          229556       229556\n",
       "2019-09-01 09:06:39.430          153447       153447\n",
       "2019-10-01 11:40:13.365          232968       232968"
      ]
     },
     "execution_count": 998,
     "metadata": {},
     "output_type": "execute_result"
    }
   ],
   "source": [
    "crawl_health_df = pd.DataFrame(index=crawl_status_totals_df.index)\n",
    "\n",
    "crawl_health_df[\"Available URLs\"] = crawl_status_totals_df[[\n",
    "    Status.FIRST_CONTENT,\n",
    "    Status.SAME_CONTENT,\n",
    "    Status.CHANGED_CONTENT,\n",
    "    Status.OLD_CONTENT\n",
    "]].sum(axis=1)\n",
    "\n",
    "crawl_health_df[\"Stable URLs\"] = crawl_status_totals_df[[\n",
    "    Status.FIRST_CONTENT,\n",
    "    Status.SAME_CONTENT,\n",
    "    Status.CHANGED_CONTENT,\n",
    "    Status.OLD_CONTENT\n",
    "]].sum(axis=1)\n",
    "\n",
    "crawl_health_df"
   ]
  },
  {
   "cell_type": "markdown",
   "metadata": {},
   "source": [
    "## Running URL and content totals"
   ]
  },
  {
   "cell_type": "code",
   "execution_count": 999,
   "metadata": {},
   "outputs": [
    {
     "name": "stdout",
     "output_type": "stream",
     "text": [
      "CPU times: user 766 ms, sys: 0 ns, total: 766 ms\n",
      "Wall time: 776 ms\n"
     ]
    }
   ],
   "source": [
    "%%time\n",
    "\n",
    "crawlUrlTotals = [0] * numCrawls\n",
    "crawlDatasetTotals = [0] * numCrawls\n",
    "crawlAbandonedTotals = [0] * numCrawls\n",
    "crawlFirstBreakTotals = [0] * numCrawls\n",
    "crawlFirstChangeTotals = [0] * numCrawls\n",
    "crawlFirstUnreliableTotals = [0] * numCrawls\n",
    "\n",
    "numUnavailable = 0\n",
    "numVeryAvailable = 0\n",
    "numVeryStable = 0\n",
    "numVeryReliable = 0\n",
    "numAbandoned = 0\n",
    "\n",
    "totalNumResolves = 0\n",
    "totalNumBreaks = 0\n",
    "totalNumContents = 0\n",
    "totalNumContentChanges = 0\n",
    "maxNumContentChanges = 0\n",
    "\n",
    "maxNumBreaks   = totalNumUrls * (np.ceil(numCrawls / 2)) # Round up; if the availability is [0, 1, 0] across three crawls, there are at most two breaks\n",
    "maxNumContents = totalNumUrls * (numCrawls)\n",
    "\n",
    "breakCounts = []\n",
    "contentChangeCounts = []\n",
    "\n",
    "for _, lifetime in urlLifetimes.items():\n",
    "    #if lifetime.firstCrawlPosition:\n",
    "    crawlUrlTotals[lifetime.firstCrawlPosition] += 1\n",
    "\n",
    "    totalNumResolves += lifetime.numResolves\n",
    "    totalNumBreaks += lifetime.numBreaks\n",
    "    totalNumContents += lifetime.numContents\n",
    "    totalNumContentChanges += lifetime.numContentChanges\n",
    "    maxNumContentChanges += lifetime.numResolves - 1\n",
    "\n",
    "    breakCounts.append(lifetime.numBreaks)\n",
    "    contentChangeCounts.append(lifetime.numContentChanges)\n",
    "\n",
    "    if lifetime.numBreaks == 0:\n",
    "        numVeryAvailable += 1\n",
    "\n",
    "    if lifetime.numContents == 1:\n",
    "        numVeryStable += 1\n",
    "\n",
    "    if lifetime.numBreaks == 0 and lifetime.numContents == 1:\n",
    "        numVeryReliable += 1\n",
    "\n",
    "    if lifetime.lastKnownStatus in (Status.BECAME_UNRESOLVED, Status.STILL_UNRESOLVED):\n",
    "        numUnavailable += 1\n",
    "\n",
    "    firstUnreliable = numCrawls\n",
    "    if lifetime.firstBreakPosition is not None:\n",
    "        crawlFirstBreakTotals[lifetime.firstBreakPosition] += 1\n",
    "        firstUnreliable = lifetime.firstBreakPosition\n",
    "\n",
    "    if lifetime.firstChangePosition is not None:\n",
    "        crawlFirstChangeTotals[lifetime.firstChangePosition] += 1\n",
    "        firstUnreliable = min(lifetime.firstChangePosition, firstUnreliable)\n",
    "    \n",
    "    if firstUnreliable < numCrawls:\n",
    "        crawlFirstUnreliableTotals[firstUnreliable] += 1\n",
    "\n",
    "    # If the URL stopped being queried, find out when\n",
    "    for i, status in enumerate(lifetime.statuses[::-1]):\n",
    "        if status != Status.UNKNOWN:\n",
    "            break\n",
    "\n",
    "    if i > 0:\n",
    "        crawlAbandonedTotals[numCrawls - i] += 1\n",
    "        numAbandoned += 1\n",
    "\n",
    "for _, lifetime in contentLifetimes.items():\n",
    "    #if lifetime.firstCrawlPosition:\n",
    "    crawlDatasetTotals[lifetime.firstCrawlPosition] += 1\n",
    "\n",
    "reallyBads = list()\n",
    "for url, lifetime in urlLifetimes.items():\n",
    "    skip = False\n",
    "    for status in lifetime.statuses:\n",
    "        if status not in (Status.BECAME_UNRESOLVED, Status.STILL_UNRESOLVED, Status.UNKNOWN):\n",
    "            skip = True\n",
    "            break\n",
    "    if not skip:\n",
    "        reallyBads.append((url, lifetime))\n",
    "\n",
    "numReallyBads = len(reallyBads)\n",
    "\n",
    "np.save(outputPath + \"totals\", {\n",
    "    \"totalNumUrls\" : totalNumUrls,\n",
    "    \"totalNumResolves\" : totalNumResolves,\n",
    "    \"totalNumBreaks\" : totalNumBreaks,\n",
    "    \"totalNumContents\" : totalNumContents,\n",
    "    \"totalNumContentChanges\" : totalNumContentChanges,\n",
    "    \"maxNumContentChanges\" : maxNumContentChanges,\n",
    "    \"numReallyBads\" : numReallyBads\n",
    "})"
   ]
  },
  {
   "cell_type": "code",
   "execution_count": 1000,
   "metadata": {
    "scrolled": true
   },
   "outputs": [
    {
     "name": "stdout",
     "output_type": "stream",
     "text": [
      "57.41% of URLs (142,673 total) were always available\n",
      "93.76% of URLs (232,996 total) always produced the same content\n",
      "57.39% of URLs (142,633 total) were always available and always produced the same content\n",
      "6.25% of URLs (15,531 total) were unresolved in the last crawl\n",
      "6.22% of URLs (15,450 total) never resolved in any crawl\n",
      "0.14% of URLs (336 total) stopped being queried\n",
      "On average, URLs break 9.63% of the time between queries\n",
      "On average, URLs contents change 0.01% of the time between queries\n",
      "\n"
     ]
    }
   ],
   "source": [
    "textReport = \"\"\n",
    "\n",
    "textReport += (\"%s of URLs (%s total) were always available\\n\"\n",
    "    % (\"{0:.2%}\".format(numVeryAvailable / totalNumUrls), \"{0:,}\".format(numVeryAvailable)))\n",
    "textReport += (\"%s of URLs (%s total) always produced the same content\\n\"\n",
    "    % (\"{0:.2%}\".format(numVeryStable / totalNumUrls), \"{0:,}\".format(numVeryStable)))\n",
    "textReport += (\"%s of URLs (%s total) were always available and always produced the same content\\n\"\n",
    "    % (\"{0:.2%}\".format(numVeryReliable / totalNumUrls), \"{0:,}\".format(numVeryReliable)))\n",
    "textReport += (\"%s of URLs (%s total) were unresolved in the last crawl\\n\"\n",
    "    % (\"{0:.2%}\".format(numUnavailable / totalNumUrls), \"{0:,}\".format(numUnavailable)))\n",
    "textReport += (\"%s of URLs (%s total) never resolved in any crawl\\n\"\n",
    "    % (\"{0:.2%}\".format(numReallyBads / totalNumUrls), \"{0:,}\".format(numReallyBads)))\n",
    "textReport += (\"%s of URLs (%s total) stopped being queried\\n\"\n",
    "    % (\"{0:.2%}\".format(numAbandoned / totalNumUrls), \"{0:,}\".format(numAbandoned)))\n",
    "textReport += (\"On average, URLs break %s of the time between queries\\n\"\n",
    "    % (\"{0:.2%}\".format(totalNumBreaks / (totalNumResolves + totalNumBreaks))))\n",
    "textReport += (\"On average, URLs contents change %s of the time between queries\\n\"\n",
    "    % (\"{0:.2%}\".format(totalNumContentChanges / maxNumContentChanges)))\n",
    "\n",
    "file = open(outputPath + \"report.txt\", \"w+\")\n",
    "file.write(textReport)\n",
    "file.close()\n",
    "\n",
    "print(textReport)"
   ]
  },
  {
   "cell_type": "code",
   "execution_count": 1001,
   "metadata": {},
   "outputs": [
    {
     "data": {
      "text/plain": [
       "105881"
      ]
     },
     "execution_count": 1001,
     "metadata": {},
     "output_type": "execute_result"
    }
   ],
   "source": [
    "numUnreliable = totalNumUrls - numVeryReliable\n",
    "numUnreliable"
   ]
  },
  {
   "cell_type": "code",
   "execution_count": 1002,
   "metadata": {},
   "outputs": [
    {
     "name": "stdout",
     "output_type": "stream",
     "text": [
      "15518\n",
      "0.1465607616097317\n"
     ]
    }
   ],
   "source": [
    "numUnstable = totalNumUrls - numVeryStable\n",
    "print(numUnstable)\n",
    "print(numUnstable / numUnreliable)"
   ]
  },
  {
   "cell_type": "code",
   "execution_count": 1003,
   "metadata": {},
   "outputs": [
    {
     "name": "stdout",
     "output_type": "stream",
     "text": [
      "105841\n",
      "0.999622217395\n"
     ]
    }
   ],
   "source": [
    "numUnavailable = totalNumUrls - numVeryAvailable\n",
    "print(numUnavailable)\n",
    "print(numUnavailable / numUnreliable)"
   ]
  },
  {
   "cell_type": "code",
   "execution_count": 1004,
   "metadata": {},
   "outputs": [
    {
     "name": "stdout",
     "output_type": "stream",
     "text": [
      "105841\n",
      "0.999622217395\n"
     ]
    }
   ],
   "source": [
    "print(numUnavailable)\n",
    "print(numUnavailable / numUnreliable)"
   ]
  },
  {
   "cell_type": "code",
   "execution_count": 1005,
   "metadata": {},
   "outputs": [],
   "source": [
    "breakCountFrequencies = np.unique(breakCounts, return_counts=True)\n",
    "np.save(outputPath + \"url-break-frequencies.npy\", breakCountFrequencies)"
   ]
  },
  {
   "cell_type": "code",
   "execution_count": 1006,
   "metadata": {},
   "outputs": [
    {
     "data": {
      "image/png": "[encoded data removed]",
      "text/plain": [
       "<Figure size 432x288 with 1 Axes>"
      ]
     },
     "metadata": {},
     "output_type": "display_data"
    }
   ],
   "source": [
    "plt.plot(breakCountFrequencies[0], breakCountFrequencies[1], \"-o\", color=\"black\");\n",
    "plt.xlabel(\"Number of losses of availability\");\n",
    "plt.ylabel(\"Number of URLs\");\n",
    "plt.savefig(outputPath + \"url-break-freq-dist.png\")\n",
    "plt.title(observatoryName + \": Frequency Distribution of Total Losses of Availability Per URL\");"
   ]
  },
  {
   "cell_type": "code",
   "execution_count": 1007,
   "metadata": {},
   "outputs": [],
   "source": [
    "contentChangeCountFrequencies = np.unique(contentChangeCounts, return_counts=True)\n",
    "np.save(outputPath + \"url-content-change-frequencies.npy\", contentChangeCountFrequencies)"
   ]
  },
  {
   "cell_type": "code",
   "execution_count": 1008,
   "metadata": {},
   "outputs": [
    {
     "data": {
      "image/png": "[encoded data removed]",
      "text/plain": [
       "<Figure size 432x288 with 1 Axes>"
      ]
     },
     "metadata": {},
     "output_type": "display_data"
    }
   ],
   "source": [
    "plt.plot(contentChangeCountFrequencies[0], contentChangeCountFrequencies[1], \"-o\", color=\"black\");\n",
    "plt.xlabel(\"Number of content changes\");\n",
    "plt.ylabel(\"Number of URLs\");\n",
    "plt.savefig(outputPath + \"url-content-change-freq-dist.png\")\n",
    "plt.title(observatoryName + \": Frequency Distribution of Total Content Changes Per URL\");"
   ]
  },
  {
   "cell_type": "code",
   "execution_count": 1009,
   "metadata": {},
   "outputs": [
    {
     "data": {
      "text/html": [
       "<div>\n",
       "<style scoped>\n",
       "    .dataframe tbody tr th:only-of-type {\n",
       "        vertical-align: middle;\n",
       "    }\n",
       "\n",
       "    .dataframe tbody tr th {\n",
       "        vertical-align: top;\n",
       "    }\n",
       "\n",
       "    .dataframe thead th {\n",
       "        text-align: right;\n",
       "    }\n",
       "</style>\n",
       "<table border=\"1\" class=\"dataframe\">\n",
       "  <thead>\n",
       "    <tr style=\"text-align: right;\">\n",
       "      <th></th>\n",
       "      <th>Unresolvable</th>\n",
       "      <th>Changed Content</th>\n",
       "    </tr>\n",
       "  </thead>\n",
       "  <tbody>\n",
       "    <tr>\n",
       "      <th>0</th>\n",
       "      <td>142673</td>\n",
       "      <td>248446</td>\n",
       "    </tr>\n",
       "    <tr>\n",
       "      <th>1</th>\n",
       "      <td>77767</td>\n",
       "      <td>67</td>\n",
       "    </tr>\n",
       "    <tr>\n",
       "      <th>2</th>\n",
       "      <td>28074</td>\n",
       "      <td>0</td>\n",
       "    </tr>\n",
       "  </tbody>\n",
       "</table>\n",
       "</div>"
      ],
      "text/plain": [
       "   Unresolvable  Changed Content\n",
       "0        142673           248446\n",
       "1         77767               67\n",
       "2         28074                0"
      ]
     },
     "execution_count": 1009,
     "metadata": {},
     "output_type": "execute_result"
    }
   ],
   "source": [
    "maxCount = max(len(breakCountFrequencies[0]), len(contentChangeCountFrequencies[0]))\n",
    "\n",
    "frequencies_df = pd.DataFrame(\n",
    "    columns=[\"Unresolvable\", \"Changed Content\"],\n",
    "    index=range(maxCount),\n",
    "    data=0\n",
    ")\n",
    "\n",
    "for i, numBreaks in enumerate(breakCountFrequencies[0]):\n",
    "    numUrls = breakCountFrequencies[1][i]\n",
    "    frequencies_df[\"Unresolvable\"][numBreaks] = numUrls\n",
    "\n",
    "for i, numChanges in enumerate(contentChangeCountFrequencies[0]):\n",
    "    numUrls = contentChangeCountFrequencies[1][i]\n",
    "    frequencies_df[\"Changed Content\"][numChanges] = numUrls\n",
    "\n",
    "frequencies_df"
   ]
  },
  {
   "cell_type": "code",
   "execution_count": 1010,
   "metadata": {
    "scrolled": true
   },
   "outputs": [
    {
     "data": {
      "text/plain": [
       "Text(0.5,1,'BHL: Frequency Distribution of Breaks and Changes')"
      ]
     },
     "execution_count": 1010,
     "metadata": {},
     "output_type": "execute_result"
    },
    {
     "data": {
      "image/png": "[encoded data removed]",
      "text/plain": [
       "<Figure size 432x288 with 1 Axes>"
      ]
     },
     "metadata": {},
     "output_type": "display_data"
    }
   ],
   "source": [
    "frequencies_df.plot(color=\"black\", style=[\"-+\", \"--o\"])\n",
    "plt.ylabel(\"Number of URLs\")\n",
    "plt.xlabel(\"Number of queries\")\n",
    "plt.savefig(outputPath + \"url-behavior-freq-dist\")\n",
    "plt.title(observatoryName + \": Frequency Distribution of Breaks and Changes\")"
   ]
  },
  {
   "cell_type": "code",
   "execution_count": 1011,
   "metadata": {},
   "outputs": [
    {
     "data": {
      "text/html": [
       "<div>\n",
       "<style scoped>\n",
       "    .dataframe tbody tr th:only-of-type {\n",
       "        vertical-align: middle;\n",
       "    }\n",
       "\n",
       "    .dataframe tbody tr th {\n",
       "        vertical-align: top;\n",
       "    }\n",
       "\n",
       "    .dataframe thead th {\n",
       "        text-align: right;\n",
       "    }\n",
       "</style>\n",
       "<table border=\"1\" class=\"dataframe\">\n",
       "  <thead>\n",
       "    <tr style=\"text-align: right;\">\n",
       "      <th></th>\n",
       "      <th>New URLs</th>\n",
       "      <th>New Contents</th>\n",
       "      <th>Abandoned</th>\n",
       "      <th>First Break</th>\n",
       "      <th>First Change</th>\n",
       "      <th>First Unreliable</th>\n",
       "      <th>Total URLs</th>\n",
       "      <th>Total Contents</th>\n",
       "      <th>Total Abandoned</th>\n",
       "      <th>Total Intermittent</th>\n",
       "      <th>Total Unstable</th>\n",
       "      <th>Total Unreliable</th>\n",
       "      <th>Percent Very Available</th>\n",
       "      <th>Percent Very Stable</th>\n",
       "      <th>Percent Very Reliable</th>\n",
       "    </tr>\n",
       "  </thead>\n",
       "  <tbody>\n",
       "    <tr>\n",
       "      <th>2019-05-13 17:10:37.661</th>\n",
       "      <td>242503</td>\n",
       "      <td>226861</td>\n",
       "      <td>0</td>\n",
       "      <td>15460</td>\n",
       "      <td>0</td>\n",
       "      <td>15460</td>\n",
       "      <td>242503</td>\n",
       "      <td>226861</td>\n",
       "      <td>0</td>\n",
       "      <td>15460</td>\n",
       "      <td>0</td>\n",
       "      <td>15460</td>\n",
       "      <td>0.936248</td>\n",
       "      <td>1.000000</td>\n",
       "      <td>0.936248</td>\n",
       "    </tr>\n",
       "    <tr>\n",
       "      <th>2019-06-01 00:36:19.222</th>\n",
       "      <td>0</td>\n",
       "      <td>34</td>\n",
       "      <td>0</td>\n",
       "      <td>42160</td>\n",
       "      <td>1</td>\n",
       "      <td>42161</td>\n",
       "      <td>242503</td>\n",
       "      <td>226895</td>\n",
       "      <td>0</td>\n",
       "      <td>57620</td>\n",
       "      <td>1</td>\n",
       "      <td>57621</td>\n",
       "      <td>0.762395</td>\n",
       "      <td>0.999996</td>\n",
       "      <td>0.762391</td>\n",
       "    </tr>\n",
       "    <tr>\n",
       "      <th>2019-07-01 18:50:09.802</th>\n",
       "      <td>1981</td>\n",
       "      <td>1982</td>\n",
       "      <td>31</td>\n",
       "      <td>17</td>\n",
       "      <td>5</td>\n",
       "      <td>20</td>\n",
       "      <td>244484</td>\n",
       "      <td>228877</td>\n",
       "      <td>31</td>\n",
       "      <td>57637</td>\n",
       "      <td>6</td>\n",
       "      <td>57641</td>\n",
       "      <td>0.764250</td>\n",
       "      <td>0.999975</td>\n",
       "      <td>0.764234</td>\n",
       "    </tr>\n",
       "    <tr>\n",
       "      <th>2019-08-01 11:59:32.756</th>\n",
       "      <td>581</td>\n",
       "      <td>601</td>\n",
       "      <td>25</td>\n",
       "      <td>56</td>\n",
       "      <td>42</td>\n",
       "      <td>94</td>\n",
       "      <td>245065</td>\n",
       "      <td>229478</td>\n",
       "      <td>56</td>\n",
       "      <td>57693</td>\n",
       "      <td>48</td>\n",
       "      <td>57735</td>\n",
       "      <td>0.764581</td>\n",
       "      <td>0.999804</td>\n",
       "      <td>0.764409</td>\n",
       "    </tr>\n",
       "    <tr>\n",
       "      <th>2019-09-01 09:06:39.430</th>\n",
       "      <td>1</td>\n",
       "      <td>10</td>\n",
       "      <td>0</td>\n",
       "      <td>48072</td>\n",
       "      <td>9</td>\n",
       "      <td>48069</td>\n",
       "      <td>245066</td>\n",
       "      <td>229488</td>\n",
       "      <td>56</td>\n",
       "      <td>105765</td>\n",
       "      <td>57</td>\n",
       "      <td>105804</td>\n",
       "      <td>0.568422</td>\n",
       "      <td>0.999767</td>\n",
       "      <td>0.568263</td>\n",
       "    </tr>\n",
       "    <tr>\n",
       "      <th>2019-10-01 11:40:13.365</th>\n",
       "      <td>3448</td>\n",
       "      <td>3455</td>\n",
       "      <td>280</td>\n",
       "      <td>76</td>\n",
       "      <td>11</td>\n",
       "      <td>77</td>\n",
       "      <td>248514</td>\n",
       "      <td>232943</td>\n",
       "      <td>336</td>\n",
       "      <td>105841</td>\n",
       "      <td>68</td>\n",
       "      <td>105881</td>\n",
       "      <td>0.574104</td>\n",
       "      <td>0.999726</td>\n",
       "      <td>0.573944</td>\n",
       "    </tr>\n",
       "  </tbody>\n",
       "</table>\n",
       "</div>"
      ],
      "text/plain": [
       "                         New URLs  New Contents  Abandoned  First Break  \\\n",
       "2019-05-13 17:10:37.661    242503        226861          0        15460   \n",
       "2019-06-01 00:36:19.222         0            34          0        42160   \n",
       "2019-07-01 18:50:09.802      1981          1982         31           17   \n",
       "2019-08-01 11:59:32.756       581           601         25           56   \n",
       "2019-09-01 09:06:39.430         1            10          0        48072   \n",
       "2019-10-01 11:40:13.365      3448          3455        280           76   \n",
       "\n",
       "                         First Change  First Unreliable  Total URLs  \\\n",
       "2019-05-13 17:10:37.661             0             15460      242503   \n",
       "2019-06-01 00:36:19.222             1             42161      242503   \n",
       "2019-07-01 18:50:09.802             5                20      244484   \n",
       "2019-08-01 11:59:32.756            42                94      245065   \n",
       "2019-09-01 09:06:39.430             9             48069      245066   \n",
       "2019-10-01 11:40:13.365            11                77      248514   \n",
       "\n",
       "                         Total Contents  Total Abandoned  Total Intermittent  \\\n",
       "2019-05-13 17:10:37.661          226861                0               15460   \n",
       "2019-06-01 00:36:19.222          226895                0               57620   \n",
       "2019-07-01 18:50:09.802          228877               31               57637   \n",
       "2019-08-01 11:59:32.756          229478               56               57693   \n",
       "2019-09-01 09:06:39.430          229488               56              105765   \n",
       "2019-10-01 11:40:13.365          232943              336              105841   \n",
       "\n",
       "                         Total Unstable  Total Unreliable  \\\n",
       "2019-05-13 17:10:37.661               0             15460   \n",
       "2019-06-01 00:36:19.222               1             57621   \n",
       "2019-07-01 18:50:09.802               6             57641   \n",
       "2019-08-01 11:59:32.756              48             57735   \n",
       "2019-09-01 09:06:39.430              57            105804   \n",
       "2019-10-01 11:40:13.365              68            105881   \n",
       "\n",
       "                         Percent Very Available  Percent Very Stable  \\\n",
       "2019-05-13 17:10:37.661                0.936248             1.000000   \n",
       "2019-06-01 00:36:19.222                0.762395             0.999996   \n",
       "2019-07-01 18:50:09.802                0.764250             0.999975   \n",
       "2019-08-01 11:59:32.756                0.764581             0.999804   \n",
       "2019-09-01 09:06:39.430                0.568422             0.999767   \n",
       "2019-10-01 11:40:13.365                0.574104             0.999726   \n",
       "\n",
       "                         Percent Very Reliable  \n",
       "2019-05-13 17:10:37.661               0.936248  \n",
       "2019-06-01 00:36:19.222               0.762391  \n",
       "2019-07-01 18:50:09.802               0.764234  \n",
       "2019-08-01 11:59:32.756               0.764409  \n",
       "2019-09-01 09:06:39.430               0.568263  \n",
       "2019-10-01 11:40:13.365               0.573944  "
      ]
     },
     "execution_count": 1011,
     "metadata": {},
     "output_type": "execute_result"
    }
   ],
   "source": [
    "crawl_totals_df = pd.DataFrame(\n",
    "    index   = [datetime.datetime.strptime(str(x[1]), \"%Y-%m-%dT%H:%M:%S.%fZ\") for x in crawlDates],\n",
    ")\n",
    "\n",
    "crawl_totals_df[\"New URLs\"] = crawlUrlTotals\n",
    "crawl_totals_df[\"New Contents\"] = crawlDatasetTotals\n",
    "crawl_totals_df[\"Abandoned\"] = crawlAbandonedTotals\n",
    "crawl_totals_df[\"First Break\"] = crawlFirstBreakTotals\n",
    "crawl_totals_df[\"First Change\"] = crawlFirstChangeTotals\n",
    "crawl_totals_df[\"First Unreliable\"] = crawlFirstUnreliableTotals\n",
    "crawl_totals_df[\"Total URLs\"] = crawl_totals_df[\"New URLs\"].cumsum()\n",
    "crawl_totals_df[\"Total Contents\"] = crawl_totals_df[\"New Contents\"].cumsum()\n",
    "crawl_totals_df[\"Total Abandoned\"] = crawl_totals_df[\"Abandoned\"].cumsum()\n",
    "crawl_totals_df[\"Total Intermittent\"] = crawl_totals_df[\"First Break\"].cumsum()\n",
    "crawl_totals_df[\"Total Unstable\"] = crawl_totals_df[\"First Change\"].cumsum()\n",
    "crawl_totals_df[\"Total Unreliable\"] = crawl_totals_df[\"First Unreliable\"].cumsum()\n",
    "crawl_totals_df[\"Percent Very Available\"] = 1 - crawl_totals_df[\"Total Intermittent\"] / crawl_totals_df[\"Total URLs\"]\n",
    "crawl_totals_df[\"Percent Very Stable\"] = 1 - crawl_totals_df[\"Total Unstable\"] / crawl_totals_df[\"Total URLs\"]\n",
    "crawl_totals_df[\"Percent Very Reliable\"] = 1 - crawl_totals_df[\"Total Unreliable\"] / crawl_totals_df[\"Total URLs\"]\n",
    "\n",
    "crawl_totals_df"
   ]
  },
  {
   "cell_type": "code",
   "execution_count": 1012,
   "metadata": {},
   "outputs": [],
   "source": [
    "timeFrame = [\n",
    "    datetime.datetime.strptime(startDate, \"%Y-%m-%d\"),\n",
    "    datetime.datetime.strptime(endDate, \"%Y-%m-%d\")\n",
    "]"
   ]
  },
  {
   "cell_type": "code",
   "execution_count": 1013,
   "metadata": {
    "scrolled": true
   },
   "outputs": [
    {
     "data": {
      "text/plain": [
       "Text(0.5,1,'BHL: Running Total of Unique URLs and Contents')"
      ]
     },
     "execution_count": 1013,
     "metadata": {},
     "output_type": "execute_result"
    },
    {
     "data": {
      "image/png": "[encoded data removed]",
      "text/plain": [
       "<Figure size 432x288 with 1 Axes>"
      ]
     },
     "metadata": {},
     "output_type": "display_data"
    }
   ],
   "source": [
    "crawl_totals_df[[\"Total URLs\", \"Total Contents\", \"Total Abandoned\"]].plot(color=\"black\", style=[\"-\", \"--\", \":\"]);\n",
    "plt.xlim(timeFrame)\n",
    "plt.savefig(outputPath + \"running-total-urls-and-contents.png\")\n",
    "plt.title(observatoryName + \": Running Total of Unique URLs and Contents\")"
   ]
  },
  {
   "cell_type": "code",
   "execution_count": 1018,
   "metadata": {},
   "outputs": [
    {
     "data": {
      "text/plain": [
       "Text(0.5,1,'BHL: Availability and Stability Over Time')"
      ]
     },
     "execution_count": 1018,
     "metadata": {},
     "output_type": "execute_result"
    },
    {
     "data": {
      "image/png": "[encoded data removed]",
      "text/plain": [
       "<Figure size 432x288 with 1 Axes>"
      ]
     },
     "metadata": {},
     "output_type": "display_data"
    }
   ],
   "source": [
    "crawl_totals_df[[\"Percent Very Available\", \"Percent Very Stable\", \"Percent Very Reliable\"]].plot(color=\"black\", style=[\"-\", \"--\", \":\"]);\n",
    "plt.xlim(timeFrame)\n",
    "plt.ylim([-.1, 1.1])\n",
    "plt.savefig(outputPath + \"reliability-over-time.png\")\n",
    "plt.title(observatoryName + \": Availability and Stability Over Time\")"
   ]
  }
 ],
 "metadata": {
  "kernelspec": {
   "display_name": "Python 3",
   "language": "python",
   "name": "python3"
  },
  "language_info": {
   "codemirror_mode": {
    "name": "ipython",
    "version": 3
   },
   "file_extension": ".py",
   "mimetype": "text/x-python",
   "name": "python",
   "nbconvert_exporter": "python",
   "pygments_lexer": "ipython3",
   "version": "3.6.5"
  }
 },
 "nbformat": 4,
 "nbformat_minor": 2
}
