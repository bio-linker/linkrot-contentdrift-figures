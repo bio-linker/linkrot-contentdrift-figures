{
 "cells": [
  {
   "cell_type": "markdown",
   "metadata": {},
   "source": [
    "**IMPORTANT** - running on the full Preston observatory uses about 12GB of memory as of 10/14/2019"
   ]
  },
  {
   "cell_type": "code",
   "execution_count": 1,
   "metadata": {
    "scrolled": true
   },
   "outputs": [],
   "source": [
    "import csv\n",
    "import random\n",
    "from enum import Enum\n",
    "\n",
    "from nquads import NQuads\n",
    "from prestongraph import *"
   ]
  },
  {
   "cell_type": "markdown",
   "metadata": {},
   "source": [
    "### Get provenance log\n",
    "\n",
    "On a large preston.acis.ufl.edu observatory it can take a while to run ```preston ls```, so we store its output at a temporary location\n",
    "```shell\n",
    "preston ls --remote http://preston.acis.ufl.edu > tmp/nquads\n",
    "```"
   ]
  },
  {
   "cell_type": "markdown",
   "metadata": {},
   "source": [
    "### Index the provenance logs"
   ]
  },
  {
   "cell_type": "code",
   "execution_count": 3,
   "metadata": {},
   "outputs": [
    {
     "name": "stdout",
     "output_type": "stream",
     "text": [
      "CPU times: user 1h 9min 41s, sys: 33min 5s, total: 1h 42min 47s\n",
      "Wall time: 1h 43min 2s\n"
     ]
    }
   ],
   "source": [
    "%%time\n",
    "\n",
    "import sys\n",
    "import io\n",
    "\n",
    "#path = \"../preston.acis.ufl.edu/tmp/nquads\"\n",
    "#path = \"../preston.acis.ufl.edu/tmp/nquads\"\n",
    "\n",
    "fullIndex = Index()\n",
    "\n",
    "sys.stdin = io.FileIO(path)\n",
    "\n",
    "# Parse the provenance log into a list of n-quads\n",
    "for line in sys.stdin:\n",
    "    nQuads = NQuads.Parse(str(line))\n",
    "    for nQuad in nQuads:\n",
    "        fullIndex.Ingest(nQuad)\n",
    "\n",
    "del sys\n",
    "del io"
   ]
  },
  {
   "cell_type": "code",
   "execution_count": 9,
   "metadata": {
    "scrolled": true
   },
   "outputs": [
    {
     "name": "stdout",
     "output_type": "stream",
     "text": [
      "3,681,269 nodes\n"
     ]
    }
   ],
   "source": [
    "print(\"{:,}\".format(len(fullIndex.nodes)), \"nodes\")"
   ]
  },
  {
   "cell_type": "code",
   "execution_count": 5,
   "metadata": {},
   "outputs": [
    {
     "name": "stdout",
     "output_type": "stream",
     "text": [
      "http://purl.org/dc/terms/description\n",
      "http://www.w3.org/ns/prov#qualifiedGeneration\n",
      "http://www.w3.org/ns/prov#wasGeneratedBy\n",
      "http://www.w3.org/ns/prov#used\n",
      "http://purl.org/dc/terms/bibliographicCitation\n",
      "http://www.w3.org/ns/prov#generatedAtTime\n",
      "http://purl.org/pav/previousVersion\n",
      "http://purl.org/pav/hasVersion\n",
      "http://www.w3.org/1999/02/22-rdf-syntax-ns#seeAlso\n",
      "http://purl.org/dc/elements/1.1/format\n",
      "http://www.w3.org/ns/prov#startedAtTime\n",
      "http://www.w3.org/ns/prov#usedBy\n",
      "http://www.w3.org/ns/prov#wasStartedBy\n",
      "http://www.w3.org/ns/prov#hadMember\n",
      "http://www.w3.org/ns/prov#activity\n",
      "http://www.w3.org/1999/02/22-rdf-syntax-ns#type\n",
      "http://www.w3.org/ns/prov#wasAssociatedWith\n",
      "http://purl.org/pav/createdBy\n"
     ]
    }
   ],
   "source": [
    "for x in fullIndex.verbs: print(x)"
   ]
  },
  {
   "cell_type": "code",
   "execution_count": 3,
   "metadata": {},
   "outputs": [],
   "source": [
    "def PrintNodeSubTree(node, maxDepth=1, root=True):\n",
    "    if root:\n",
    "        for x in node.inwardTriples:\n",
    "            print(x)\n",
    "\n",
    "    if maxDepth > 0:\n",
    "        for x in node.outwardTriples:\n",
    "            print(x)\n",
    "            PrintNodeSubTree(x.object, maxDepth - 1, False)"
   ]
  },
  {
   "cell_type": "code",
   "execution_count": 398,
   "metadata": {},
   "outputs": [],
   "source": [
    "def Peek(nativeSet):\n",
    "    if len(nativeSet) == 0:\n",
    "        return None\n",
    "    else:\n",
    "        item = nativeSet.pop()\n",
    "        nativeSet.add(item)\n",
    "        return item"
   ]
  },
  {
   "cell_type": "code",
   "execution_count": 440,
   "metadata": {},
   "outputs": [],
   "source": [
    "def ContentIsValid(content):\n",
    "    return str(content).startswith(\"http\")"
   ]
  },
  {
   "cell_type": "markdown",
   "metadata": {},
   "source": [
    "### Get crawl UUIDs and sort them by date"
   ]
  },
  {
   "cell_type": "code",
   "execution_count": 399,
   "metadata": {},
   "outputs": [],
   "source": [
    "class CrawlMeta:\n",
    "    def __init__(self, position, date):\n",
    "        # Properties\n",
    "        self.position = position\n",
    "        self.date = date"
   ]
  },
  {
   "cell_type": "code",
   "execution_count": 400,
   "metadata": {},
   "outputs": [
    {
     "name": "stdout",
     "output_type": "stream",
     "text": [
      "Ignoring non-crawl log 394b5178-e861-41aa-8a35-f207af62b461 (\"An event that (re-) processes existing biodiversity datasets graphs and their provenance.\")\n",
      "Ignoring non-crawl log 452260c8-f5e1-49de-84b0-37b2777e7643 (\"An event that (re-) processes existing biodiversity datasets graphs and their provenance.\")\n",
      "\n",
      "1d711945-d205-4663-b534-6d706b8b77b6\t2018-09-04T07:29:11.130Z\t0\n",
      "4e540f45-d7a1-40d6-a2b8-f623f1c1d566\t2018-09-04T20:47:09.581Z\t1\n",
      "f496b900-679d-4470-99d4-9d4901f828d0\t2018-09-04T20:49:40.349Z\t2\n",
      "e1d0c6ea-f402-4186-affd-bc10806b822f\t2018-09-05T07:28:51.929Z\t3\n",
      "90fa570e-579f-4e98-b060-f5886019f0b6\t2018-09-05T07:36:06.462Z\t4\n",
      "27c0f6fa-a74f-41ac-b9c4-2f596ea940a6\t2018-09-07T19:02:50.655Z\t5\n",
      "d8952f30-4b8f-4c10-9867-b04b2807fe89\t2018-09-15T22:05:29.715Z\t6\n",
      "f55b0d70-3b1e-4012-9109-7497481e2af5\t2018-09-15T22:06:06.646Z\t7\n",
      "4655fd3f-3df6-4c30-b356-a02499058339\t2018-09-15T22:06:44.636Z\t8\n",
      "e9ae04ba-79bf-4e84-8617-e155bf1bb9cf\t2018-09-22T05:07:01.664Z\t9\n",
      "6ee12a54-7315-4181-9b67-37861ed41153\t2018-09-22T05:30:30.164Z\t10\n",
      "e871efcd-c2f9-4e8e-ac3a-bc45943c3e65\t2018-10-01T04:59:15.301Z\t11\n",
      "091c9d67-2f58-45fc-83dc-5656c848ba33\t2018-10-07T17:16:39.644Z\t12\n",
      "76401ae1-4d1e-4175-a4c3-bc45139bcc35\t2018-10-15T22:20:58.497Z\t13\n",
      "6e151310-45b7-469d-94fd-88d471175e7b\t2018-10-22T18:46:37.188Z\t14\n",
      "70040298-643c-45c7-adb8-521a26f4a20f\t2018-11-02T15:32:36.532Z\t15\n",
      "6b8ffc57-a961-442c-871b-1e602a11730c\t2018-11-05T11:26:57.236Z\t16\n",
      "f6e5e460-feac-4ee1-a209-f1da3f1611aa\t2018-11-12T21:37:58.104Z\t17\n",
      "79e086a6-0a0e-476a-b7ac-05282ebece23\t2018-11-19T21:39:38.479Z\t18\n",
      "7a983044-664a-49e6-aa2a-971b01581f44\t2018-11-26T12:58:10.183Z\t19\n",
      "b497cb10-c6ce-44f9-b412-435c8dffe4c7\t2018-12-03T20:31:58.085Z\t20\n",
      "a789fe5b-08df-463c-b42e-6e9bc3742c29\t2018-12-10T02:32:58.185Z\t21\n",
      "aee23214-c086-4afa-8838-5e8fa1f01097\t2018-12-17T06:41:48.255Z\t22\n",
      "10cf0d9f-2ff3-40f6-995e-bab60179c38a\t2018-12-24T20:53:52.071Z\t23\n",
      "d2853d87-5b1f-4c14-8813-da3ffbe34150\t2018-12-31T04:18:46.098Z\t24\n",
      "08a0de15-2a1e-4213-a288-16bf5dd16bed\t2019-01-07T13:26:09.359Z\t25\n",
      "4288c839-9fb9-4b11-9c02-9904044d64e0\t2019-01-14T19:02:15.502Z\t26\n",
      "f9576de3-d5d5-49a0-98bf-f7ef0af98102\t2019-01-21T02:32:47.817Z\t27\n",
      "92ecd84d-4b07-49c9-9589-cc8668516743\t2019-01-28T12:30:52.598Z\t28\n",
      "daf3ee3f-8f3e-495e-b57f-bc93c8fccb2c\t2019-02-04T16:33:24.359Z\t29\n",
      "93dfc861-dfa3-4556-b50b-0b1c50ea8d49\t2019-03-01T20:37:34.877Z\t30\n",
      "074aaf35-30b6-4597-9b53-d250bf8ff5ed\t2019-03-31T23:33:18.478Z\t31\n",
      "6f4c186b-d4c8-40a7-b314-ea386fa68d8b\t2019-05-01T03:57:18.530Z\t32\n",
      "1340f08c-3e43-45fb-8802-e67243007a65\t2019-06-01T10:43:38.196Z\t33\n",
      "01b33c3e-d4ed-429d-937e-5921e088a151\t2019-07-01T21:41:36.023Z\t34\n",
      "e4f8e335-4454-4889-b7fd-95f8f67e6f24\t2019-08-01T02:27:40.507Z\t35\n",
      "501dadd3-0468-4a12-b6a9-1cd6c228be70\t2019-09-01T09:34:33.505Z\t36\n"
     ]
    }
   ],
   "source": [
    "crawlDates = []\n",
    "for triple in fullIndex.verbLookup[\"http://www.w3.org/ns/prov#startedAtTime\"].triples:\n",
    "    crawlUuid = triple.subject\n",
    "    crawlDate = triple.object\n",
    "\n",
    "    descriptionTriple = Peek(crawlUuid.outwardTriples & fullIndex.verbLookup[\"http://purl.org/dc/terms/description\"].triples)\n",
    "    if descriptionTriple.object == \"A crawl event that discovers biodiversity archives.\":\n",
    "        crawlDates.append((crawlUuid, crawlDate))\n",
    "    else:\n",
    "        print(\"Ignoring non-crawl log %s (\\\"%s\\\")\" % (str(crawlUuid), str(descriptionTriple.object)))\n",
    "numCrawls = len(crawlDates)\n",
    "\n",
    "crawlDates.sort(key=lambda x: x[1])\n",
    "\n",
    "print()\n",
    "# Assign some helpful metadata to each crawl\n",
    "crawlMetaLookup = dict()\n",
    "for i, crawlDate in enumerate(crawlDates):\n",
    "    # Contaminate crawl nodes with their chronological position in the preston history\n",
    "    crawlMeta = CrawlMeta(\n",
    "        position=i,\n",
    "        date=crawlDate[1]\n",
    "    )\n",
    "\n",
    "    crawlMetaLookup[crawlDate[0]] = crawlMeta\n",
    "\n",
    "    print(\"%s\\t%s\\t%d\" % (crawlDate[0], crawlMeta.date, crawlMeta.position))"
   ]
  },
  {
   "cell_type": "markdown",
   "metadata": {},
   "source": [
    "### Build a history for each URL"
   ]
  },
  {
   "cell_type": "code",
   "execution_count": 481,
   "metadata": {},
   "outputs": [],
   "source": [
    "class UrlLifetime:\n",
    "    def __init__(self, numCrawls):\n",
    "        self.statuses = [Status.UNKNOWN] * numCrawls\n",
    "        self.contents = [None] * numCrawls\n",
    "\n",
    "        self.firstCrawlPosition = None\n",
    "        self.lastCrawlPosition = None\n",
    "\n",
    "        self.numBreaks = 0\n",
    "        self.numContents = 0\n",
    "        self.numContentChanges = 0"
   ]
  },
  {
   "cell_type": "code",
   "execution_count": 482,
   "metadata": {},
   "outputs": [],
   "source": [
    "class ContentLifetime:\n",
    "    def __init__(self, numCrawls):\n",
    "        self.firstCrawlPosition = None\n",
    "        self.lastCrawlPosition = None"
   ]
  },
  {
   "cell_type": "markdown",
   "metadata": {},
   "source": [
    "### Collect the contents seen over the course of each URL's lifetime"
   ]
  },
  {
   "cell_type": "code",
   "execution_count": 483,
   "metadata": {},
   "outputs": [
    {
     "name": "stdout",
     "output_type": "stream",
     "text": [
      "CPU times: user 41.3 s, sys: 12.2 ms, total: 41.3 s\n",
      "Wall time: 41.6 s\n"
     ]
    }
   ],
   "source": [
    "%%time\n",
    "\n",
    "contentLifetimes = dict()\n",
    "urlLifetimes = dict()\n",
    "for x in fullIndex.verbLookup[\"http://www.w3.org/ns/prov#qualifiedGeneration\"].triples:\n",
    "    qualGen = x.object\n",
    "\n",
    "    # Get content\n",
    "    contentTriple = Peek(qualGen.inwardTriples & fullIndex.verbLookup[\"http://www.w3.org/ns/prov#qualifiedGeneration\"].triples)\n",
    "    content = contentTriple.subject\n",
    "\n",
    "    # Get URL\n",
    "    urlTriple = Peek(qualGen.outwardTriples & fullIndex.verbLookup[\"http://www.w3.org/ns/prov#used\"].triples)\n",
    "    url = urlTriple.object\n",
    "\n",
    "    # Get crawl\n",
    "    crawlTriple = Peek(qualGen.outwardTriples & fullIndex.verbLookup[\"http://www.w3.org/ns/prov#activity\"].triples)\n",
    "    crawl = crawlTriple.object\n",
    "    crawlMeta = crawlMetaLookup[crawl]\n",
    "\n",
    "    # Fill in URL lifetime data\n",
    "    if url in urlLifetimes:\n",
    "        lifetime = urlLifetimes[url]\n",
    "    else:\n",
    "        lifetime = UrlLifetime(numCrawls)\n",
    "        urlLifetimes[url] = lifetime\n",
    "\n",
    "    if lifetime.firstCrawlPosition == None or crawlMeta.position < lifetime.firstCrawlPosition:\n",
    "        lifetime.firstCrawlPosition = crawlMeta.position\n",
    "\n",
    "    if lifetime.lastCrawlPosition == None or crawlMeta.position > lifetime.lastCrawlPosition:\n",
    "        lifetime.lastCrawlPosition = crawlMeta.position\n",
    "\n",
    "    lifetime.contents[crawlMeta.position] = content\n",
    "    \n",
    "    # Fill in content lifetime data\n",
    "    if not ContentIsValid(content):\n",
    "        if content in contentLifetimes:\n",
    "            lifetime = contentLifetimes[content]\n",
    "        else:\n",
    "            lifetime = ContentLifetime(numCrawls)\n",
    "            contentLifetimes[content] = lifetime\n",
    "        \n",
    "        if lifetime.firstCrawlPosition == None or crawlMeta.position < lifetime.firstCrawlPosition:\n",
    "            lifetime.firstCrawlPosition = crawlMeta.position\n",
    "\n",
    "        if lifetime.lastCrawlPosition == None or crawlMeta.position > lifetime.lastCrawlPosition:\n",
    "            lifetime.lastCrawlPosition = crawlMeta.position"
   ]
  },
  {
   "cell_type": "code",
   "execution_count": 484,
   "metadata": {},
   "outputs": [
    {
     "name": "stdout",
     "output_type": "stream",
     "text": [
      "75,337 urls\n"
     ]
    }
   ],
   "source": [
    "numUrls = len(urlLifetimes)\n",
    "print(\"{:,}\".format(numUrls), \"urls\")"
   ]
  },
  {
   "cell_type": "markdown",
   "metadata": {},
   "source": [
    "### Assign a status for each stage of each URL's lifetime"
   ]
  },
  {
   "cell_type": "code",
   "execution_count": 485,
   "metadata": {},
   "outputs": [],
   "source": [
    "class Status(Enum):\n",
    "    UNKNOWN             = 0    # Did not check for content\n",
    "    FIRST_CONTENT       = 1    # Returned content for the first time\n",
    "    SAME_CONTENT        = 2    # Returned the same content as the last successful query\n",
    "    CHANGED_CONTENT     = 3    # Returned new content\n",
    "    OLD_CONTENT         = 4    # Returned previously seen content that is different from the previous successful data\n",
    "    BECAME_UNRESOLVED   = 5    # Failed to return content after a successful query\n",
    "    STILL_UNRESOLVED    = 6    # Failed to return content again\n",
    "    ERROR               = 7    # Returned malformed content"
   ]
  },
  {
   "cell_type": "markdown",
   "metadata": {},
   "source": [
    "There's some ambiguity in the status of a URL's first query; we make some arbitrary, totally unfounded assumptions:\n",
    "* If unresolved, consider it BECAME_UNRESOLVED rather than STILL_UNRESOLVED\n",
    "* If resolved, consider it FIRST_CONTENT rather than SAME_CONTENT, OLD_CONTENT, or CHANGED_CONTENT"
   ]
  },
  {
   "cell_type": "code",
   "execution_count": 486,
   "metadata": {},
   "outputs": [
    {
     "name": "stdout",
     "output_type": "stream",
     "text": [
      "CPU times: user 14.9 s, sys: 7.41 ms, total: 15 s\n",
      "Wall time: 15 s\n"
     ]
    }
   ],
   "source": [
    "%%time\n",
    "\n",
    "for url, lifetime in urlLifetimes.items():\n",
    "    wasAlive = True\n",
    "    mostRecentContent = None\n",
    "    for i, content in enumerate(lifetime.contents):\n",
    "\n",
    "        if content:\n",
    "            if ContentIsValid(content):\n",
    "        # Became unresolved\n",
    "                if wasAlive:\n",
    "                    status = Status.BECAME_UNRESOLVED\n",
    "                    lifetime.numBreaks += 1\n",
    "\n",
    "        # Still unresolved\n",
    "                else:\n",
    "                    status = Status.STILL_UNRESOLVED\n",
    "\n",
    "                wasAlive = False\n",
    "\n",
    "        # First content\n",
    "            else:\n",
    "                if mostRecentContent == None:\n",
    "                    status = Status.FIRST_CONTENT\n",
    "                    mostRecentContent = content\n",
    "                    lifetime.numContents += 1\n",
    "\n",
    "        # Same content\n",
    "                elif content == mostRecentContent:\n",
    "                    status = Status.SAME_CONTENT\n",
    "\n",
    "                else:\n",
    "        # Old content\n",
    "                    if content in lifetime.contents[0:i]:\n",
    "                        status = Status.OLD_CONTENT\n",
    "\n",
    "        # Changed content\n",
    "                    else:\n",
    "                        status = Status.CHANGED_CONTENT\n",
    "                        lifetime.numContents += 1\n",
    "\n",
    "                    mostRecentContent = content\n",
    "                    lifetime.numContentChanges += 1\n",
    "\n",
    "                wasAlive = True\n",
    "\n",
    "        # Unknown\n",
    "        else:\n",
    "            status = Status.UNKNOWN\n",
    "\n",
    "        lifetime.statuses[i] = status"
   ]
  },
  {
   "cell_type": "code",
   "execution_count": 487,
   "metadata": {},
   "outputs": [
    {
     "name": "stdout",
     "output_type": "stream",
     "text": [
      "Lifetime for http://tb.plazi.org/GgServer/dwca/FFE0FFDFC14600674E4EFF9DFFF6FF8D.zip\n",
      "\n",
      "0:\tStatus.FIRST_CONTENT\thash://sha256/d18549fce64f19e9a6f4d0a6c94b49d2f6d3d17c8f84fba7f42fe4b6d0df2c71\n",
      "1:\tStatus.SAME_CONTENT\thash://sha256/d18549fce64f19e9a6f4d0a6c94b49d2f6d3d17c8f84fba7f42fe4b6d0df2c71\n",
      "2:\tStatus.SAME_CONTENT\thash://sha256/d18549fce64f19e9a6f4d0a6c94b49d2f6d3d17c8f84fba7f42fe4b6d0df2c71\n",
      "3:\tStatus.UNKNOWN\tNone\n",
      "4:\tStatus.UNKNOWN\tNone\n",
      "5:\tStatus.SAME_CONTENT\thash://sha256/d18549fce64f19e9a6f4d0a6c94b49d2f6d3d17c8f84fba7f42fe4b6d0df2c71\n",
      "6:\tStatus.UNKNOWN\tNone\n",
      "7:\tStatus.UNKNOWN\tNone\n",
      "8:\tStatus.SAME_CONTENT\thash://sha256/d18549fce64f19e9a6f4d0a6c94b49d2f6d3d17c8f84fba7f42fe4b6d0df2c71\n",
      "9:\tStatus.UNKNOWN\tNone\n",
      "10:\tStatus.SAME_CONTENT\thash://sha256/d18549fce64f19e9a6f4d0a6c94b49d2f6d3d17c8f84fba7f42fe4b6d0df2c71\n",
      "11:\tStatus.SAME_CONTENT\thash://sha256/d18549fce64f19e9a6f4d0a6c94b49d2f6d3d17c8f84fba7f42fe4b6d0df2c71\n",
      "12:\tStatus.SAME_CONTENT\thash://sha256/d18549fce64f19e9a6f4d0a6c94b49d2f6d3d17c8f84fba7f42fe4b6d0df2c71\n",
      "13:\tStatus.SAME_CONTENT\thash://sha256/d18549fce64f19e9a6f4d0a6c94b49d2f6d3d17c8f84fba7f42fe4b6d0df2c71\n",
      "14:\tStatus.SAME_CONTENT\thash://sha256/d18549fce64f19e9a6f4d0a6c94b49d2f6d3d17c8f84fba7f42fe4b6d0df2c71\n",
      "15:\tStatus.SAME_CONTENT\thash://sha256/d18549fce64f19e9a6f4d0a6c94b49d2f6d3d17c8f84fba7f42fe4b6d0df2c71\n",
      "16:\tStatus.SAME_CONTENT\thash://sha256/d18549fce64f19e9a6f4d0a6c94b49d2f6d3d17c8f84fba7f42fe4b6d0df2c71\n",
      "17:\tStatus.SAME_CONTENT\thash://sha256/d18549fce64f19e9a6f4d0a6c94b49d2f6d3d17c8f84fba7f42fe4b6d0df2c71\n",
      "18:\tStatus.SAME_CONTENT\thash://sha256/d18549fce64f19e9a6f4d0a6c94b49d2f6d3d17c8f84fba7f42fe4b6d0df2c71\n",
      "19:\tStatus.SAME_CONTENT\thash://sha256/d18549fce64f19e9a6f4d0a6c94b49d2f6d3d17c8f84fba7f42fe4b6d0df2c71\n",
      "20:\tStatus.SAME_CONTENT\thash://sha256/d18549fce64f19e9a6f4d0a6c94b49d2f6d3d17c8f84fba7f42fe4b6d0df2c71\n",
      "21:\tStatus.SAME_CONTENT\thash://sha256/d18549fce64f19e9a6f4d0a6c94b49d2f6d3d17c8f84fba7f42fe4b6d0df2c71\n",
      "22:\tStatus.SAME_CONTENT\thash://sha256/d18549fce64f19e9a6f4d0a6c94b49d2f6d3d17c8f84fba7f42fe4b6d0df2c71\n",
      "23:\tStatus.CHANGED_CONTENT\thash://sha256/17f7b2546dfaab665c5f47347d0f45087e0746f5214f3c287b2293d3c25d81cb\n",
      "24:\tStatus.SAME_CONTENT\thash://sha256/17f7b2546dfaab665c5f47347d0f45087e0746f5214f3c287b2293d3c25d81cb\n",
      "25:\tStatus.SAME_CONTENT\thash://sha256/17f7b2546dfaab665c5f47347d0f45087e0746f5214f3c287b2293d3c25d81cb\n",
      "26:\tStatus.SAME_CONTENT\thash://sha256/17f7b2546dfaab665c5f47347d0f45087e0746f5214f3c287b2293d3c25d81cb\n",
      "27:\tStatus.CHANGED_CONTENT\thash://sha256/acc08c5d5a640affb7966ddd425d4e97e518001bcad7cb3b2864333749c1a128\n",
      "28:\tStatus.SAME_CONTENT\thash://sha256/acc08c5d5a640affb7966ddd425d4e97e518001bcad7cb3b2864333749c1a128\n",
      "29:\tStatus.SAME_CONTENT\thash://sha256/acc08c5d5a640affb7966ddd425d4e97e518001bcad7cb3b2864333749c1a128\n",
      "30:\tStatus.OLD_CONTENT\thash://sha256/d18549fce64f19e9a6f4d0a6c94b49d2f6d3d17c8f84fba7f42fe4b6d0df2c71\n",
      "31:\tStatus.SAME_CONTENT\thash://sha256/d18549fce64f19e9a6f4d0a6c94b49d2f6d3d17c8f84fba7f42fe4b6d0df2c71\n",
      "32:\tStatus.SAME_CONTENT\thash://sha256/d18549fce64f19e9a6f4d0a6c94b49d2f6d3d17c8f84fba7f42fe4b6d0df2c71\n",
      "33:\tStatus.SAME_CONTENT\thash://sha256/d18549fce64f19e9a6f4d0a6c94b49d2f6d3d17c8f84fba7f42fe4b6d0df2c71\n",
      "34:\tStatus.SAME_CONTENT\thash://sha256/d18549fce64f19e9a6f4d0a6c94b49d2f6d3d17c8f84fba7f42fe4b6d0df2c71\n",
      "35:\tStatus.SAME_CONTENT\thash://sha256/d18549fce64f19e9a6f4d0a6c94b49d2f6d3d17c8f84fba7f42fe4b6d0df2c71\n",
      "36:\tStatus.SAME_CONTENT\thash://sha256/d18549fce64f19e9a6f4d0a6c94b49d2f6d3d17c8f84fba7f42fe4b6d0df2c71\n"
     ]
    }
   ],
   "source": [
    "print(\"Lifetime for %s\\n\" % url)\n",
    "print(\"\\n\".join([\"%d:\\t%s\\t%s\" % (i, lifetime.statuses[i], lifetime.contents[i]) for i in range(numCrawls)]))"
   ]
  },
  {
   "cell_type": "markdown",
   "metadata": {},
   "source": [
    "## Build figures\n",
    "These should probably be colorless (i.e. use black and white textures and dotted lines)"
   ]
  },
  {
   "cell_type": "markdown",
   "metadata": {},
   "source": [
    "### New, modified, lost content per crawl"
   ]
  },
  {
   "cell_type": "code",
   "execution_count": 458,
   "metadata": {},
   "outputs": [],
   "source": [
    "import pandas as pd\n",
    "import numpy as np\n",
    "import matplotlib.pyplot as plt\n",
    "import datetime\n",
    "from itertools import cycle, islice\n",
    "\n",
    "%matplotlib inline"
   ]
  },
  {
   "cell_type": "code",
   "execution_count": 416,
   "metadata": {},
   "outputs": [
    {
     "name": "stdout",
     "output_type": "stream",
     "text": [
      "CPU times: user 8min 57s, sys: 179 ms, total: 8min 57s\n",
      "Wall time: 8min 59s\n"
     ]
    }
   ],
   "source": [
    "%%time\n",
    "\n",
    "crawl_status_totals_df = pd.DataFrame(\n",
    "    index   = [datetime.datetime.strptime(str(x[1]), \"%Y-%m-%dT%H:%M:%S.%fZ\") for x in crawlDates],\n",
    "    columns = [x for x in Status],\n",
    "    data    = 0,\n",
    "    dtype   = int\n",
    ")\n",
    "\n",
    "for _, lifetime in urlLifetimes.items():\n",
    "    for i, status in enumerate(lifetime.statuses):\n",
    "        crawl_status_totals_df.iloc[i][status.value] += 1"
   ]
  },
  {
   "cell_type": "code",
   "execution_count": 417,
   "metadata": {},
   "outputs": [
    {
     "data": {
      "text/html": [
       "<div>\n",
       "<style scoped>\n",
       "    .dataframe tbody tr th:only-of-type {\n",
       "        vertical-align: middle;\n",
       "    }\n",
       "\n",
       "    .dataframe tbody tr th {\n",
       "        vertical-align: top;\n",
       "    }\n",
       "\n",
       "    .dataframe thead th {\n",
       "        text-align: right;\n",
       "    }\n",
       "</style>\n",
       "<table border=\"1\" class=\"dataframe\">\n",
       "  <thead>\n",
       "    <tr style=\"text-align: right;\">\n",
       "      <th></th>\n",
       "      <th>2018-09-04 07:29:11.130000</th>\n",
       "      <th>2018-09-04 20:47:09.581000</th>\n",
       "      <th>2018-09-04 20:49:40.349000</th>\n",
       "      <th>2018-09-05 07:28:51.929000</th>\n",
       "      <th>2018-09-05 07:36:06.462000</th>\n",
       "      <th>2018-09-07 19:02:50.655000</th>\n",
       "      <th>2018-09-15 22:05:29.715000</th>\n",
       "      <th>2018-09-15 22:06:06.646000</th>\n",
       "      <th>2018-09-15 22:06:44.636000</th>\n",
       "      <th>2018-09-22 05:07:01.664000</th>\n",
       "      <th>...</th>\n",
       "      <th>2019-01-21 02:32:47.817000</th>\n",
       "      <th>2019-01-28 12:30:52.598000</th>\n",
       "      <th>2019-02-04 16:33:24.359000</th>\n",
       "      <th>2019-03-01 20:37:34.877000</th>\n",
       "      <th>2019-03-31 23:33:18.478000</th>\n",
       "      <th>2019-05-01 03:57:18.530000</th>\n",
       "      <th>2019-06-01 10:43:38.196000</th>\n",
       "      <th>2019-07-01 21:41:36.023000</th>\n",
       "      <th>2019-08-01 02:27:40.507000</th>\n",
       "      <th>2019-09-01 09:34:33.505000</th>\n",
       "    </tr>\n",
       "  </thead>\n",
       "  <tbody>\n",
       "    <tr>\n",
       "      <th>Status.UNKNOWN</th>\n",
       "      <td>26841</td>\n",
       "      <td>26841</td>\n",
       "      <td>60146</td>\n",
       "      <td>75166</td>\n",
       "      <td>75143</td>\n",
       "      <td>35121</td>\n",
       "      <td>75319</td>\n",
       "      <td>75332</td>\n",
       "      <td>25837</td>\n",
       "      <td>75325</td>\n",
       "      <td>...</td>\n",
       "      <td>25121</td>\n",
       "      <td>34320</td>\n",
       "      <td>22955</td>\n",
       "      <td>58121</td>\n",
       "      <td>21015</td>\n",
       "      <td>20177</td>\n",
       "      <td>19649</td>\n",
       "      <td>19097</td>\n",
       "      <td>28446</td>\n",
       "      <td>19681</td>\n",
       "    </tr>\n",
       "    <tr>\n",
       "      <th>Status.FIRST_CONTENT</th>\n",
       "      <td>46426</td>\n",
       "      <td>48</td>\n",
       "      <td>2</td>\n",
       "      <td>68</td>\n",
       "      <td>21</td>\n",
       "      <td>932</td>\n",
       "      <td>0</td>\n",
       "      <td>0</td>\n",
       "      <td>228</td>\n",
       "      <td>0</td>\n",
       "      <td>...</td>\n",
       "      <td>6</td>\n",
       "      <td>6</td>\n",
       "      <td>4056</td>\n",
       "      <td>363</td>\n",
       "      <td>2010</td>\n",
       "      <td>15372</td>\n",
       "      <td>750</td>\n",
       "      <td>697</td>\n",
       "      <td>709</td>\n",
       "      <td>580</td>\n",
       "    </tr>\n",
       "    <tr>\n",
       "      <th>Status.SAME_CONTENT</th>\n",
       "      <td>0</td>\n",
       "      <td>45605</td>\n",
       "      <td>13424</td>\n",
       "      <td>28</td>\n",
       "      <td>146</td>\n",
       "      <td>33613</td>\n",
       "      <td>11</td>\n",
       "      <td>5</td>\n",
       "      <td>37040</td>\n",
       "      <td>7</td>\n",
       "      <td>...</td>\n",
       "      <td>19715</td>\n",
       "      <td>35730</td>\n",
       "      <td>36998</td>\n",
       "      <td>9812</td>\n",
       "      <td>19974</td>\n",
       "      <td>27071</td>\n",
       "      <td>39879</td>\n",
       "      <td>42826</td>\n",
       "      <td>40106</td>\n",
       "      <td>42102</td>\n",
       "    </tr>\n",
       "    <tr>\n",
       "      <th>Status.CHANGED_CONTENT</th>\n",
       "      <td>0</td>\n",
       "      <td>672</td>\n",
       "      <td>676</td>\n",
       "      <td>52</td>\n",
       "      <td>4</td>\n",
       "      <td>3705</td>\n",
       "      <td>4</td>\n",
       "      <td>0</td>\n",
       "      <td>10182</td>\n",
       "      <td>3</td>\n",
       "      <td>...</td>\n",
       "      <td>28685</td>\n",
       "      <td>3819</td>\n",
       "      <td>10062</td>\n",
       "      <td>2723</td>\n",
       "      <td>11516</td>\n",
       "      <td>11231</td>\n",
       "      <td>11346</td>\n",
       "      <td>11260</td>\n",
       "      <td>4814</td>\n",
       "      <td>11576</td>\n",
       "    </tr>\n",
       "    <tr>\n",
       "      <th>Status.OLD_CONTENT</th>\n",
       "      <td>0</td>\n",
       "      <td>0</td>\n",
       "      <td>0</td>\n",
       "      <td>0</td>\n",
       "      <td>0</td>\n",
       "      <td>0</td>\n",
       "      <td>0</td>\n",
       "      <td>0</td>\n",
       "      <td>7</td>\n",
       "      <td>0</td>\n",
       "      <td>...</td>\n",
       "      <td>0</td>\n",
       "      <td>0</td>\n",
       "      <td>158</td>\n",
       "      <td>3432</td>\n",
       "      <td>4985</td>\n",
       "      <td>0</td>\n",
       "      <td>1</td>\n",
       "      <td>27</td>\n",
       "      <td>0</td>\n",
       "      <td>2</td>\n",
       "    </tr>\n",
       "    <tr>\n",
       "      <th>Status.BECAME_UNRESOLVED</th>\n",
       "      <td>2070</td>\n",
       "      <td>149</td>\n",
       "      <td>70</td>\n",
       "      <td>10</td>\n",
       "      <td>0</td>\n",
       "      <td>42</td>\n",
       "      <td>0</td>\n",
       "      <td>0</td>\n",
       "      <td>104</td>\n",
       "      <td>0</td>\n",
       "      <td>...</td>\n",
       "      <td>37</td>\n",
       "      <td>173</td>\n",
       "      <td>429</td>\n",
       "      <td>315</td>\n",
       "      <td>14717</td>\n",
       "      <td>373</td>\n",
       "      <td>2286</td>\n",
       "      <td>56</td>\n",
       "      <td>254</td>\n",
       "      <td>41</td>\n",
       "    </tr>\n",
       "    <tr>\n",
       "      <th>Status.STILL_UNRESOLVED</th>\n",
       "      <td>0</td>\n",
       "      <td>2022</td>\n",
       "      <td>1019</td>\n",
       "      <td>13</td>\n",
       "      <td>23</td>\n",
       "      <td>1924</td>\n",
       "      <td>3</td>\n",
       "      <td>0</td>\n",
       "      <td>1939</td>\n",
       "      <td>2</td>\n",
       "      <td>...</td>\n",
       "      <td>1773</td>\n",
       "      <td>1289</td>\n",
       "      <td>679</td>\n",
       "      <td>571</td>\n",
       "      <td>1120</td>\n",
       "      <td>1113</td>\n",
       "      <td>1426</td>\n",
       "      <td>1374</td>\n",
       "      <td>1008</td>\n",
       "      <td>1355</td>\n",
       "    </tr>\n",
       "    <tr>\n",
       "      <th>Status.ERROR</th>\n",
       "      <td>0</td>\n",
       "      <td>0</td>\n",
       "      <td>0</td>\n",
       "      <td>0</td>\n",
       "      <td>0</td>\n",
       "      <td>0</td>\n",
       "      <td>0</td>\n",
       "      <td>0</td>\n",
       "      <td>0</td>\n",
       "      <td>0</td>\n",
       "      <td>...</td>\n",
       "      <td>0</td>\n",
       "      <td>0</td>\n",
       "      <td>0</td>\n",
       "      <td>0</td>\n",
       "      <td>0</td>\n",
       "      <td>0</td>\n",
       "      <td>0</td>\n",
       "      <td>0</td>\n",
       "      <td>0</td>\n",
       "      <td>0</td>\n",
       "    </tr>\n",
       "  </tbody>\n",
       "</table>\n",
       "<p>8 rows × 37 columns</p>\n",
       "</div>"
      ],
      "text/plain": [
       "                          2018-09-04 07:29:11.130  2018-09-04 20:47:09.581  \\\n",
       "Status.UNKNOWN                              26841                    26841   \n",
       "Status.FIRST_CONTENT                        46426                       48   \n",
       "Status.SAME_CONTENT                             0                    45605   \n",
       "Status.CHANGED_CONTENT                          0                      672   \n",
       "Status.OLD_CONTENT                              0                        0   \n",
       "Status.BECAME_UNRESOLVED                     2070                      149   \n",
       "Status.STILL_UNRESOLVED                         0                     2022   \n",
       "Status.ERROR                                    0                        0   \n",
       "\n",
       "                          2018-09-04 20:49:40.349  2018-09-05 07:28:51.929  \\\n",
       "Status.UNKNOWN                              60146                    75166   \n",
       "Status.FIRST_CONTENT                            2                       68   \n",
       "Status.SAME_CONTENT                         13424                       28   \n",
       "Status.CHANGED_CONTENT                        676                       52   \n",
       "Status.OLD_CONTENT                              0                        0   \n",
       "Status.BECAME_UNRESOLVED                       70                       10   \n",
       "Status.STILL_UNRESOLVED                      1019                       13   \n",
       "Status.ERROR                                    0                        0   \n",
       "\n",
       "                          2018-09-05 07:36:06.462  2018-09-07 19:02:50.655  \\\n",
       "Status.UNKNOWN                              75143                    35121   \n",
       "Status.FIRST_CONTENT                           21                      932   \n",
       "Status.SAME_CONTENT                           146                    33613   \n",
       "Status.CHANGED_CONTENT                          4                     3705   \n",
       "Status.OLD_CONTENT                              0                        0   \n",
       "Status.BECAME_UNRESOLVED                        0                       42   \n",
       "Status.STILL_UNRESOLVED                        23                     1924   \n",
       "Status.ERROR                                    0                        0   \n",
       "\n",
       "                          2018-09-15 22:05:29.715  2018-09-15 22:06:06.646  \\\n",
       "Status.UNKNOWN                              75319                    75332   \n",
       "Status.FIRST_CONTENT                            0                        0   \n",
       "Status.SAME_CONTENT                            11                        5   \n",
       "Status.CHANGED_CONTENT                          4                        0   \n",
       "Status.OLD_CONTENT                              0                        0   \n",
       "Status.BECAME_UNRESOLVED                        0                        0   \n",
       "Status.STILL_UNRESOLVED                         3                        0   \n",
       "Status.ERROR                                    0                        0   \n",
       "\n",
       "                          2018-09-15 22:06:44.636  2018-09-22 05:07:01.664  \\\n",
       "Status.UNKNOWN                              25837                    75325   \n",
       "Status.FIRST_CONTENT                          228                        0   \n",
       "Status.SAME_CONTENT                         37040                        7   \n",
       "Status.CHANGED_CONTENT                      10182                        3   \n",
       "Status.OLD_CONTENT                              7                        0   \n",
       "Status.BECAME_UNRESOLVED                      104                        0   \n",
       "Status.STILL_UNRESOLVED                      1939                        2   \n",
       "Status.ERROR                                    0                        0   \n",
       "\n",
       "                          ...  2019-01-21 02:32:47.817  \\\n",
       "Status.UNKNOWN            ...                    25121   \n",
       "Status.FIRST_CONTENT      ...                        6   \n",
       "Status.SAME_CONTENT       ...                    19715   \n",
       "Status.CHANGED_CONTENT    ...                    28685   \n",
       "Status.OLD_CONTENT        ...                        0   \n",
       "Status.BECAME_UNRESOLVED  ...                       37   \n",
       "Status.STILL_UNRESOLVED   ...                     1773   \n",
       "Status.ERROR              ...                        0   \n",
       "\n",
       "                          2019-01-28 12:30:52.598  2019-02-04 16:33:24.359  \\\n",
       "Status.UNKNOWN                              34320                    22955   \n",
       "Status.FIRST_CONTENT                            6                     4056   \n",
       "Status.SAME_CONTENT                         35730                    36998   \n",
       "Status.CHANGED_CONTENT                       3819                    10062   \n",
       "Status.OLD_CONTENT                              0                      158   \n",
       "Status.BECAME_UNRESOLVED                      173                      429   \n",
       "Status.STILL_UNRESOLVED                      1289                      679   \n",
       "Status.ERROR                                    0                        0   \n",
       "\n",
       "                          2019-03-01 20:37:34.877  2019-03-31 23:33:18.478  \\\n",
       "Status.UNKNOWN                              58121                    21015   \n",
       "Status.FIRST_CONTENT                          363                     2010   \n",
       "Status.SAME_CONTENT                          9812                    19974   \n",
       "Status.CHANGED_CONTENT                       2723                    11516   \n",
       "Status.OLD_CONTENT                           3432                     4985   \n",
       "Status.BECAME_UNRESOLVED                      315                    14717   \n",
       "Status.STILL_UNRESOLVED                       571                     1120   \n",
       "Status.ERROR                                    0                        0   \n",
       "\n",
       "                          2019-05-01 03:57:18.530  2019-06-01 10:43:38.196  \\\n",
       "Status.UNKNOWN                              20177                    19649   \n",
       "Status.FIRST_CONTENT                        15372                      750   \n",
       "Status.SAME_CONTENT                         27071                    39879   \n",
       "Status.CHANGED_CONTENT                      11231                    11346   \n",
       "Status.OLD_CONTENT                              0                        1   \n",
       "Status.BECAME_UNRESOLVED                      373                     2286   \n",
       "Status.STILL_UNRESOLVED                      1113                     1426   \n",
       "Status.ERROR                                    0                        0   \n",
       "\n",
       "                          2019-07-01 21:41:36.023  2019-08-01 02:27:40.507  \\\n",
       "Status.UNKNOWN                              19097                    28446   \n",
       "Status.FIRST_CONTENT                          697                      709   \n",
       "Status.SAME_CONTENT                         42826                    40106   \n",
       "Status.CHANGED_CONTENT                      11260                     4814   \n",
       "Status.OLD_CONTENT                             27                        0   \n",
       "Status.BECAME_UNRESOLVED                       56                      254   \n",
       "Status.STILL_UNRESOLVED                      1374                     1008   \n",
       "Status.ERROR                                    0                        0   \n",
       "\n",
       "                          2019-09-01 09:34:33.505  \n",
       "Status.UNKNOWN                              19681  \n",
       "Status.FIRST_CONTENT                          580  \n",
       "Status.SAME_CONTENT                         42102  \n",
       "Status.CHANGED_CONTENT                      11576  \n",
       "Status.OLD_CONTENT                              2  \n",
       "Status.BECAME_UNRESOLVED                       41  \n",
       "Status.STILL_UNRESOLVED                      1355  \n",
       "Status.ERROR                                    0  \n",
       "\n",
       "[8 rows x 37 columns]"
      ]
     },
     "execution_count": 417,
     "metadata": {},
     "output_type": "execute_result"
    }
   ],
   "source": [
    "crawl_status_totals_df.transpose()"
   ]
  },
  {
   "cell_type": "code",
   "execution_count": 418,
   "metadata": {},
   "outputs": [],
   "source": [
    "col_hex = {\n",
    "    \"blue\"      : \"#1f77b4\",\n",
    "    \"orange\"    : \"#ff7f0e\",\n",
    "    \"green\"     : \"#2ca02c\",\n",
    "    \"red\"       : \"#d62728\",\n",
    "    \"purple\"    : \"#9467bd\",\n",
    "    \"brown\"     : \"#8c564b\",\n",
    "    \"pink\"      : \"#e377c2\",\n",
    "    \"gray\"      : \"#7f7f7f\",\n",
    "    \"yellow\"    : \"#bcbd22\",\n",
    "    \"teal\"      : \"#17becf\",\n",
    "    \n",
    "    \"bright green\"  : \"#00ff00\",\n",
    "    \"bright red\"    : \"#ff0000\",\n",
    "    \"green yellow\"  : \"#9ACD32\",\n",
    "    \"olive\"         : \"#808000\"\n",
    "}\n",
    "\n",
    "fig_df = crawl_status_totals_df[[\n",
    "    Status.SAME_CONTENT,\n",
    "    Status.FIRST_CONTENT,\n",
    "    Status.OLD_CONTENT,\n",
    "    Status.CHANGED_CONTENT,\n",
    "    Status.STILL_UNRESOLVED,\n",
    "    Status.BECAME_UNRESOLVED,\n",
    "    Status.UNKNOWN,\n",
    "    Status.ERROR\n",
    "]]\n",
    "\n",
    "status_colors = {\n",
    "    Status.UNKNOWN             : \"gray\",\n",
    "    Status.FIRST_CONTENT       : \"bright green\",\n",
    "    Status.SAME_CONTENT        : \"green\",\n",
    "    Status.CHANGED_CONTENT     : \"yellow\",\n",
    "    Status.OLD_CONTENT         : \"olive\",\n",
    "    Status.BECAME_UNRESOLVED   : \"bright red\",\n",
    "    Status.STILL_UNRESOLVED    : \"red\",\n",
    "    Status.ERROR               : \"purple\",\n",
    "}\n",
    "\n",
    "status_color_map = list(islice(cycle([col_hex[status_colors[x]] for x in fig_df.columns]), None, 256))"
   ]
  },
  {
   "cell_type": "code",
   "execution_count": 419,
   "metadata": {
    "scrolled": false
   },
   "outputs": [
    {
     "data": {
      "image/png": "[encoded data removed]",
      "text/plain": [
       "<Figure size 1080x360 with 1 Axes>"
      ]
     },
     "metadata": {
      "needs_background": "light"
     },
     "output_type": "display_data"
    }
   ],
   "source": [
    "fig_df.plot(kind=\"bar\", stacked=True, width=.95, color=status_color_map, figsize=(15, 5),\n",
    "                      title=\"Stacked URL status counts per crawl\");"
   ]
  },
  {
   "cell_type": "code",
   "execution_count": 420,
   "metadata": {
    "scrolled": true
   },
   "outputs": [
    {
     "data": {
      "image/png": "[encoded data removed]",
      "text/plain": [
       "<Figure size 1152x360 with 1 Axes>"
      ]
     },
     "metadata": {
      "needs_background": "light"
     },
     "output_type": "display_data"
    }
   ],
   "source": [
    "# Make figure\n",
    "fig = plt.figure(figsize=(16, 5))\n",
    "ax = fig.add_subplot(111, title=\"Stacked URL status counts over time (stepped)\")\n",
    "\n",
    "# Fill in space between lines\n",
    "x = fig_df.index.append(pd.Index([datetime.datetime.now()]))\n",
    "y1 = pd.Series({ q : 0 for q in x })\n",
    "\n",
    "columns = fig_df.columns\n",
    "n = len(columns)\n",
    "for i in range(0, n):\n",
    "    y2 = y1 + fig_df[columns[i]] + 0\n",
    "    ax.fill_between(x, y1, y2, step=\"post\", color=status_color_map[i])\n",
    "    y1 = y2"
   ]
  },
  {
   "cell_type": "code",
   "execution_count": 424,
   "metadata": {
    "scrolled": false
   },
   "outputs": [
    {
     "data": {
      "image/png": "[encoded data removed]",
      "text/plain": [
       "<Figure size 1152x360 with 1 Axes>"
      ]
     },
     "metadata": {
      "needs_background": "light"
     },
     "output_type": "display_data"
    }
   ],
   "source": [
    "# Make figure\n",
    "fig = plt.figure(figsize=(16, 5))\n",
    "ax = fig.add_subplot(111, title=\"Stacked URL status counts over time (stepped)\")\n",
    "\n",
    "# Draw stepped lines\n",
    "x = fig_df.index\n",
    "for status in fig_df.columns:\n",
    "    y = fig_df[status]\n",
    "    plt.step(x, y, where=\"post\", color=col_hex[status_colors[status]])"
   ]
  },
  {
   "cell_type": "code",
   "execution_count": 425,
   "metadata": {
    "scrolled": true
   },
   "outputs": [
    {
     "data": {
      "image/png": "[encoded data removed]",
      "text/plain": [
       "<Figure size 1080x360 with 1 Axes>"
      ]
     },
     "metadata": {
      "needs_background": "light"
     },
     "output_type": "display_data"
    }
   ],
   "source": [
    "ax = fig_df.plot(kind=\"line\", stacked=False, color=status_color_map, figsize=(15, 5),\n",
    "                 title=\"URL status counts over time (interpolated)\")"
   ]
  },
  {
   "cell_type": "markdown",
   "metadata": {},
   "source": [
    "Fun fact: there are many URLs that never resolved"
   ]
  },
  {
   "cell_type": "code",
   "execution_count": 469,
   "metadata": {},
   "outputs": [
    {
     "name": "stdout",
     "output_type": "stream",
     "text": [
      "2186 URLs never resolved in any crawl\n"
     ]
    }
   ],
   "source": [
    "reallyBads = list()\n",
    "for url, lifetime in urlLifetimes.items():\n",
    "    skip = False\n",
    "    for status in lifetime.statuses:\n",
    "        if status not in (Status.BECAME_UNRESOLVED, Status.STILL_UNRESOLVED, Status.UNKNOWN):\n",
    "            skip = True\n",
    "            break\n",
    "    if not skip:\n",
    "        reallyBads.append((url, lifetime))\n",
    "print(\"%d URLs never resolved in any crawl\" % len(reallyBads))"
   ]
  },
  {
   "cell_type": "markdown",
   "metadata": {},
   "source": [
    "## Running URL and dataset totals"
   ]
  },
  {
   "cell_type": "code",
   "execution_count": 470,
   "metadata": {},
   "outputs": [],
   "source": [
    "#crawl_status_totals_df[[Status.FIRST_CONTENT, Status.BECAME_UNRESOLVED]].cumsum()"
   ]
  },
  {
   "cell_type": "code",
   "execution_count": 507,
   "metadata": {},
   "outputs": [],
   "source": [
    "crawlUrlTotals = [0] * numCrawls\n",
    "crawlDatasetTotals = [0] * numCrawls\n",
    "\n",
    "numVeryAvailable = 0\n",
    "numVeryStable = 0\n",
    "\n",
    "totalNumBreaks = 0\n",
    "totalNumContents = 0\n",
    "totalNumContentChanges = 0\n",
    "\n",
    "maxNumBreaks            = numUrls * (np.ceil(numCrawls / 2)) # Round up; if the availability is [0, 1, 0] across three crawls, there are at most two breaks\n",
    "maxNumContents          = numUrls * (numCrawls)\n",
    "maxNumContentChanges    = numUrls * (numCrawls - 1)\n",
    "\n",
    "breakCounts = []\n",
    "contentChangeCounts = []\n",
    "\n",
    "for _, lifetime in urlLifetimes.items():\n",
    "    #if lifetime.firstCrawlPosition:\n",
    "    crawlUrlTotals[lifetime.firstCrawlPosition] += 1\n",
    "\n",
    "    totalNumBreaks += lifetime.numBreaks\n",
    "    totalNumContents += lifetime.numContents\n",
    "    totalNumContentChanges += lifetime.numContentChanges\n",
    "\n",
    "    breakCounts.append(lifetime.numBreaks)\n",
    "    contentChangeCounts.append(lifetime.numContentChanges)\n",
    "\n",
    "    if lifetime.numBreaks == 0:\n",
    "        numVeryAvailable += 1\n",
    "\n",
    "    if lifetime.numContents == 1:\n",
    "        numVeryStable += 1\n",
    "\n",
    "for _, lifetime in contentLifetimes.items():\n",
    "    #if lifetime.firstCrawlPosition:\n",
    "    crawlDatasetTotals[lifetime.firstCrawlPosition] += 1"
   ]
  },
  {
   "cell_type": "code",
   "execution_count": 506,
   "metadata": {
    "scrolled": true
   },
   "outputs": [
    {
     "name": "stdout",
     "output_type": "stream",
     "text": [
      "66.54% of URLs (50,132 total) were always available\n",
      "44.19% of URLs (33,291 total) always produced the same content\n",
      "URLs break 2.02% of the time between queries\n",
      "URLs contents change 11.67% of the time between queries\n"
     ]
    }
   ],
   "source": [
    "print(\"%s of URLs (%s total) were always available\"\n",
    "      % (\"{0:.2%}\".format(numVeryAvailable / numUrls), \"{0:,}\".format(numVeryAvailable)))\n",
    "print(\"%s of URLs (%s total) always produced the same content\"\n",
    "      % (\"{0:.2%}\".format(numVeryStable / numUrls), \"{0:,}\".format(numVeryStable)))\n",
    "print(\"On average, URLs break %s of the time between queries\"\n",
    "      % (\"{0:.2%}\".format(totalNumBreaks / maxNumBreaks)))\n",
    "print(\"On average, URLs contents change %s of the time between queries\"\n",
    "      % (\"{0:.2%}\".format(totalNumContentChanges / maxNumContentChanges)))"
   ]
  },
  {
   "cell_type": "code",
   "execution_count": 523,
   "metadata": {},
   "outputs": [
    {
     "name": "stdout",
     "output_type": "stream",
     "text": [
      "Number of URLs that broke n times\n",
      "0 : 50132\n",
      "1 : 22099\n",
      "2 : 2836\n",
      "3 : 112\n",
      "4 : 83\n",
      "5 : 52\n",
      "6 : 9\n",
      "7 : 3\n",
      "8 : 9\n",
      "9 : 2\n"
     ]
    }
   ],
   "source": [
    "breakCountFrequencies = np.unique(breakCounts, return_counts=True)\n",
    "\n",
    "print(\"Number of URLs that broke n times\")\n",
    "for i in range(len(breakCountFrequencies[0])):\n",
    "    print(breakCountFrequencies[0][i], \":\", breakCountFrequencies[1][i])"
   ]
  },
  {
   "cell_type": "code",
   "execution_count": 535,
   "metadata": {},
   "outputs": [
    {
     "data": {
      "image/png": "[encoded data removed]",
      "text/plain": [
       "<Figure size 432x288 with 1 Axes>"
      ]
     },
     "metadata": {
      "needs_background": "light"
     },
     "output_type": "display_data"
    }
   ],
   "source": [
    "plt.plot(breakCountFrequencies[0], breakCountFrequencies[1]);\n",
    "plt.title(\"Frequency distribution of total losses of availability per URL\");\n",
    "plt.xlabel(\"Number of losses of availability\");\n",
    "plt.ylabel(\"Number of URLs\");"
   ]
  },
  {
   "cell_type": "code",
   "execution_count": 524,
   "metadata": {},
   "outputs": [
    {
     "name": "stdout",
     "output_type": "stream",
     "text": [
      "Number of URLs that changed content n times\n",
      "0 : 35477\n",
      "1 : 5133\n",
      "2 : 15842\n",
      "3 : 7688\n",
      "4 : 334\n",
      "5 : 210\n",
      "6 : 82\n",
      "7 : 39\n",
      "8 : 37\n",
      "9 : 38\n",
      "10 : 29\n",
      "11 : 121\n",
      "12 : 428\n",
      "13 : 36\n",
      "14 : 9\n",
      "15 : 91\n",
      "16 : 26\n",
      "17 : 88\n",
      "18 : 44\n",
      "19 : 36\n",
      "20 : 42\n",
      "21 : 19\n",
      "22 : 4\n",
      "23 : 33\n",
      "24 : 5983\n",
      "25 : 252\n",
      "26 : 977\n",
      "27 : 1228\n",
      "28 : 345\n",
      "29 : 30\n",
      "30 : 158\n",
      "31 : 428\n",
      "32 : 47\n",
      "33 : 3\n"
     ]
    }
   ],
   "source": [
    "contentChangeCountFrequencies = np.unique(contentChangeCounts, return_counts=True)\n",
    "\n",
    "print(\"Number of URLs that changed content n times\")\n",
    "for i in range(len(contentChangeCountFrequencies[0])):\n",
    "    print(contentChangeCountFrequencies[0][i], \":\", contentChangeCountFrequencies[1][i])"
   ]
  },
  {
   "cell_type": "code",
   "execution_count": 534,
   "metadata": {},
   "outputs": [
    {
     "data": {
      "image/png": "[encoded data removed]",
      "text/plain": [
       "<Figure size 432x288 with 1 Axes>"
      ]
     },
     "metadata": {
      "needs_background": "light"
     },
     "output_type": "display_data"
    }
   ],
   "source": [
    "plt.plot(contentChangeCountFrequencies[0], contentChangeCountFrequencies[1]);\n",
    "plt.title(\"Frequency distribution of total content changes per URL\");\n",
    "plt.xlabel(\"Number of content changes\");\n",
    "plt.ylabel(\"Number of URLs\");"
   ]
  },
  {
   "cell_type": "code",
   "execution_count": 491,
   "metadata": {},
   "outputs": [
    {
     "data": {
      "text/html": [
       "<div>\n",
       "<style scoped>\n",
       "    .dataframe tbody tr th:only-of-type {\n",
       "        vertical-align: middle;\n",
       "    }\n",
       "\n",
       "    .dataframe tbody tr th {\n",
       "        vertical-align: top;\n",
       "    }\n",
       "\n",
       "    .dataframe thead th {\n",
       "        text-align: right;\n",
       "    }\n",
       "</style>\n",
       "<table border=\"1\" class=\"dataframe\">\n",
       "  <thead>\n",
       "    <tr style=\"text-align: right;\">\n",
       "      <th></th>\n",
       "      <th>New URLs</th>\n",
       "      <th>New Contents</th>\n",
       "      <th>Total URLs</th>\n",
       "      <th>Total Contents</th>\n",
       "    </tr>\n",
       "  </thead>\n",
       "  <tbody>\n",
       "    <tr>\n",
       "      <th>2018-09-04 07:29:11.130</th>\n",
       "      <td>48496</td>\n",
       "      <td>46354</td>\n",
       "      <td>48496</td>\n",
       "      <td>46354</td>\n",
       "    </tr>\n",
       "    <tr>\n",
       "      <th>2018-09-04 20:47:09.581</th>\n",
       "      <td>0</td>\n",
       "      <td>719</td>\n",
       "      <td>48496</td>\n",
       "      <td>47073</td>\n",
       "    </tr>\n",
       "    <tr>\n",
       "      <th>2018-09-04 20:49:40.349</th>\n",
       "      <td>0</td>\n",
       "      <td>685</td>\n",
       "      <td>48496</td>\n",
       "      <td>47758</td>\n",
       "    </tr>\n",
       "    <tr>\n",
       "      <th>2018-09-05 07:28:51.929</th>\n",
       "      <td>78</td>\n",
       "      <td>122</td>\n",
       "      <td>48574</td>\n",
       "      <td>47880</td>\n",
       "    </tr>\n",
       "    <tr>\n",
       "      <th>2018-09-05 07:36:06.462</th>\n",
       "      <td>21</td>\n",
       "      <td>21</td>\n",
       "      <td>48595</td>\n",
       "      <td>47901</td>\n",
       "    </tr>\n",
       "    <tr>\n",
       "      <th>2018-09-07 19:02:50.655</th>\n",
       "      <td>905</td>\n",
       "      <td>4641</td>\n",
       "      <td>49500</td>\n",
       "      <td>52542</td>\n",
       "    </tr>\n",
       "    <tr>\n",
       "      <th>2018-09-15 22:05:29.715</th>\n",
       "      <td>0</td>\n",
       "      <td>4</td>\n",
       "      <td>49500</td>\n",
       "      <td>52546</td>\n",
       "    </tr>\n",
       "    <tr>\n",
       "      <th>2018-09-15 22:06:06.646</th>\n",
       "      <td>0</td>\n",
       "      <td>0</td>\n",
       "      <td>49500</td>\n",
       "      <td>52546</td>\n",
       "    </tr>\n",
       "    <tr>\n",
       "      <th>2018-09-15 22:06:44.636</th>\n",
       "      <td>0</td>\n",
       "      <td>10399</td>\n",
       "      <td>49500</td>\n",
       "      <td>62945</td>\n",
       "    </tr>\n",
       "    <tr>\n",
       "      <th>2018-09-22 05:07:01.664</th>\n",
       "      <td>0</td>\n",
       "      <td>3</td>\n",
       "      <td>49500</td>\n",
       "      <td>62948</td>\n",
       "    </tr>\n",
       "    <tr>\n",
       "      <th>2018-09-22 05:30:30.164</th>\n",
       "      <td>0</td>\n",
       "      <td>1646</td>\n",
       "      <td>49500</td>\n",
       "      <td>64594</td>\n",
       "    </tr>\n",
       "    <tr>\n",
       "      <th>2018-10-01 04:59:15.301</th>\n",
       "      <td>2</td>\n",
       "      <td>10134</td>\n",
       "      <td>49502</td>\n",
       "      <td>74728</td>\n",
       "    </tr>\n",
       "    <tr>\n",
       "      <th>2018-10-07 17:16:39.644</th>\n",
       "      <td>0</td>\n",
       "      <td>10034</td>\n",
       "      <td>49502</td>\n",
       "      <td>84762</td>\n",
       "    </tr>\n",
       "    <tr>\n",
       "      <th>2018-10-15 22:20:58.497</th>\n",
       "      <td>0</td>\n",
       "      <td>9881</td>\n",
       "      <td>49502</td>\n",
       "      <td>94643</td>\n",
       "    </tr>\n",
       "    <tr>\n",
       "      <th>2018-10-22 18:46:37.188</th>\n",
       "      <td>2</td>\n",
       "      <td>9125</td>\n",
       "      <td>49504</td>\n",
       "      <td>103768</td>\n",
       "    </tr>\n",
       "    <tr>\n",
       "      <th>2018-11-02 15:32:36.532</th>\n",
       "      <td>396</td>\n",
       "      <td>10487</td>\n",
       "      <td>49900</td>\n",
       "      <td>114255</td>\n",
       "    </tr>\n",
       "    <tr>\n",
       "      <th>2018-11-05 11:26:57.236</th>\n",
       "      <td>6</td>\n",
       "      <td>9565</td>\n",
       "      <td>49906</td>\n",
       "      <td>123820</td>\n",
       "    </tr>\n",
       "    <tr>\n",
       "      <th>2018-11-12 21:37:58.104</th>\n",
       "      <td>17</td>\n",
       "      <td>9992</td>\n",
       "      <td>49923</td>\n",
       "      <td>133812</td>\n",
       "    </tr>\n",
       "    <tr>\n",
       "      <th>2018-11-19 21:39:38.479</th>\n",
       "      <td>8</td>\n",
       "      <td>9894</td>\n",
       "      <td>49931</td>\n",
       "      <td>143706</td>\n",
       "    </tr>\n",
       "    <tr>\n",
       "      <th>2018-11-26 12:58:10.183</th>\n",
       "      <td>4</td>\n",
       "      <td>9877</td>\n",
       "      <td>49935</td>\n",
       "      <td>153583</td>\n",
       "    </tr>\n",
       "    <tr>\n",
       "      <th>2018-12-03 20:31:58.085</th>\n",
       "      <td>11</td>\n",
       "      <td>10624</td>\n",
       "      <td>49946</td>\n",
       "      <td>164207</td>\n",
       "    </tr>\n",
       "    <tr>\n",
       "      <th>2018-12-10 02:32:58.185</th>\n",
       "      <td>2</td>\n",
       "      <td>10041</td>\n",
       "      <td>49948</td>\n",
       "      <td>174248</td>\n",
       "    </tr>\n",
       "    <tr>\n",
       "      <th>2018-12-17 06:41:48.255</th>\n",
       "      <td>16</td>\n",
       "      <td>19406</td>\n",
       "      <td>49964</td>\n",
       "      <td>193654</td>\n",
       "    </tr>\n",
       "    <tr>\n",
       "      <th>2018-12-24 20:53:52.071</th>\n",
       "      <td>154</td>\n",
       "      <td>24601</td>\n",
       "      <td>50118</td>\n",
       "      <td>218255</td>\n",
       "    </tr>\n",
       "    <tr>\n",
       "      <th>2018-12-31 04:18:46.098</th>\n",
       "      <td>0</td>\n",
       "      <td>9925</td>\n",
       "      <td>50118</td>\n",
       "      <td>228180</td>\n",
       "    </tr>\n",
       "    <tr>\n",
       "      <th>2019-01-07 13:26:09.359</th>\n",
       "      <td>10</td>\n",
       "      <td>10025</td>\n",
       "      <td>50128</td>\n",
       "      <td>238205</td>\n",
       "    </tr>\n",
       "    <tr>\n",
       "      <th>2019-01-14 19:02:15.502</th>\n",
       "      <td>82</td>\n",
       "      <td>11731</td>\n",
       "      <td>50210</td>\n",
       "      <td>249936</td>\n",
       "    </tr>\n",
       "    <tr>\n",
       "      <th>2019-01-21 02:32:47.817</th>\n",
       "      <td>6</td>\n",
       "      <td>28804</td>\n",
       "      <td>50216</td>\n",
       "      <td>278740</td>\n",
       "    </tr>\n",
       "    <tr>\n",
       "      <th>2019-01-28 12:30:52.598</th>\n",
       "      <td>6</td>\n",
       "      <td>3842</td>\n",
       "      <td>50222</td>\n",
       "      <td>282582</td>\n",
       "    </tr>\n",
       "    <tr>\n",
       "      <th>2019-02-04 16:33:24.359</th>\n",
       "      <td>4404</td>\n",
       "      <td>13213</td>\n",
       "      <td>54626</td>\n",
       "      <td>295795</td>\n",
       "    </tr>\n",
       "    <tr>\n",
       "      <th>2019-03-01 20:37:34.877</th>\n",
       "      <td>423</td>\n",
       "      <td>3105</td>\n",
       "      <td>55049</td>\n",
       "      <td>298900</td>\n",
       "    </tr>\n",
       "    <tr>\n",
       "      <th>2019-03-31 23:33:18.478</th>\n",
       "      <td>1953</td>\n",
       "      <td>13450</td>\n",
       "      <td>57002</td>\n",
       "      <td>312350</td>\n",
       "    </tr>\n",
       "    <tr>\n",
       "      <th>2019-05-01 03:57:18.530</th>\n",
       "      <td>15578</td>\n",
       "      <td>13174</td>\n",
       "      <td>72580</td>\n",
       "      <td>325524</td>\n",
       "    </tr>\n",
       "    <tr>\n",
       "      <th>2019-06-01 10:43:38.196</th>\n",
       "      <td>777</td>\n",
       "      <td>12225</td>\n",
       "      <td>73357</td>\n",
       "      <td>337749</td>\n",
       "    </tr>\n",
       "    <tr>\n",
       "      <th>2019-07-01 21:41:36.023</th>\n",
       "      <td>692</td>\n",
       "      <td>12017</td>\n",
       "      <td>74049</td>\n",
       "      <td>349766</td>\n",
       "    </tr>\n",
       "    <tr>\n",
       "      <th>2019-08-01 02:27:40.507</th>\n",
       "      <td>704</td>\n",
       "      <td>5503</td>\n",
       "      <td>74753</td>\n",
       "      <td>355269</td>\n",
       "    </tr>\n",
       "    <tr>\n",
       "      <th>2019-09-01 09:34:33.505</th>\n",
       "      <td>584</td>\n",
       "      <td>12097</td>\n",
       "      <td>75337</td>\n",
       "      <td>367366</td>\n",
       "    </tr>\n",
       "  </tbody>\n",
       "</table>\n",
       "</div>"
      ],
      "text/plain": [
       "                         New URLs  New Contents  Total URLs  Total Contents\n",
       "2018-09-04 07:29:11.130     48496         46354       48496           46354\n",
       "2018-09-04 20:47:09.581         0           719       48496           47073\n",
       "2018-09-04 20:49:40.349         0           685       48496           47758\n",
       "2018-09-05 07:28:51.929        78           122       48574           47880\n",
       "2018-09-05 07:36:06.462        21            21       48595           47901\n",
       "2018-09-07 19:02:50.655       905          4641       49500           52542\n",
       "2018-09-15 22:05:29.715         0             4       49500           52546\n",
       "2018-09-15 22:06:06.646         0             0       49500           52546\n",
       "2018-09-15 22:06:44.636         0         10399       49500           62945\n",
       "2018-09-22 05:07:01.664         0             3       49500           62948\n",
       "2018-09-22 05:30:30.164         0          1646       49500           64594\n",
       "2018-10-01 04:59:15.301         2         10134       49502           74728\n",
       "2018-10-07 17:16:39.644         0         10034       49502           84762\n",
       "2018-10-15 22:20:58.497         0          9881       49502           94643\n",
       "2018-10-22 18:46:37.188         2          9125       49504          103768\n",
       "2018-11-02 15:32:36.532       396         10487       49900          114255\n",
       "2018-11-05 11:26:57.236         6          9565       49906          123820\n",
       "2018-11-12 21:37:58.104        17          9992       49923          133812\n",
       "2018-11-19 21:39:38.479         8          9894       49931          143706\n",
       "2018-11-26 12:58:10.183         4          9877       49935          153583\n",
       "2018-12-03 20:31:58.085        11         10624       49946          164207\n",
       "2018-12-10 02:32:58.185         2         10041       49948          174248\n",
       "2018-12-17 06:41:48.255        16         19406       49964          193654\n",
       "2018-12-24 20:53:52.071       154         24601       50118          218255\n",
       "2018-12-31 04:18:46.098         0          9925       50118          228180\n",
       "2019-01-07 13:26:09.359        10         10025       50128          238205\n",
       "2019-01-14 19:02:15.502        82         11731       50210          249936\n",
       "2019-01-21 02:32:47.817         6         28804       50216          278740\n",
       "2019-01-28 12:30:52.598         6          3842       50222          282582\n",
       "2019-02-04 16:33:24.359      4404         13213       54626          295795\n",
       "2019-03-01 20:37:34.877       423          3105       55049          298900\n",
       "2019-03-31 23:33:18.478      1953         13450       57002          312350\n",
       "2019-05-01 03:57:18.530     15578         13174       72580          325524\n",
       "2019-06-01 10:43:38.196       777         12225       73357          337749\n",
       "2019-07-01 21:41:36.023       692         12017       74049          349766\n",
       "2019-08-01 02:27:40.507       704          5503       74753          355269\n",
       "2019-09-01 09:34:33.505       584         12097       75337          367366"
      ]
     },
     "execution_count": 491,
     "metadata": {},
     "output_type": "execute_result"
    }
   ],
   "source": [
    "crawl_totals_df = pd.DataFrame(\n",
    "    index   = [datetime.datetime.strptime(str(x[1]), \"%Y-%m-%dT%H:%M:%S.%fZ\") for x in crawlDates],\n",
    "    columns = [\"New URLs\", \"New Contents\", \"Total URLs\", \"Total Contents\"],\n",
    "    data    = 0,\n",
    "    dtype   = int\n",
    ")\n",
    "\n",
    "crawl_totals_df[\"New URLs\"] = crawlUrlTotals\n",
    "crawl_totals_df[\"New Contents\"] = crawlDatasetTotals\n",
    "crawl_totals_df[\"Total URLs\"] = crawl_totals_df[\"New URLs\"].cumsum()\n",
    "crawl_totals_df[\"Total Contents\"] = crawl_totals_df[\"New Contents\"].cumsum()\n",
    "crawl_totals_df"
   ]
  },
  {
   "cell_type": "code",
   "execution_count": 492,
   "metadata": {
    "scrolled": true
   },
   "outputs": [
    {
     "data": {
      "image/png": "[encoded data removed]",
      "text/plain": [
       "<Figure size 432x288 with 1 Axes>"
      ]
     },
     "metadata": {
      "needs_background": "light"
     },
     "output_type": "display_data"
    }
   ],
   "source": [
    "crawl_totals_df[[\"Total URLs\", \"Total Contents\"]].plot();"
   ]
  },
  {
   "cell_type": "code",
   "execution_count": null,
   "metadata": {},
   "outputs": [],
   "source": [
    "for lifetime in lifetimes:\n",
    "    total"
   ]
  }
 ],
 "metadata": {
  "kernelspec": {
   "display_name": "Python 3",
   "language": "python",
   "name": "python3"
  },
  "language_info": {
   "codemirror_mode": {
    "name": "ipython",
    "version": 3
   },
   "file_extension": ".py",
   "mimetype": "text/x-python",
   "name": "python",
   "nbconvert_exporter": "python",
   "pygments_lexer": "ipython3",
   "version": "3.5.2"
  }
 },
 "nbformat": 4,
 "nbformat_minor": 2
}
