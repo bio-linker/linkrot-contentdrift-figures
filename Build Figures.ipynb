{
 "cells": [
  {
   "cell_type": "markdown",
   "metadata": {},
   "source": [
    "**IMPORTANT** - running on the full Preston observatory uses about 12GB of memory as of 10/14/2019"
   ]
  },
  {
   "cell_type": "code",
   "execution_count": 2,
   "metadata": {
    "scrolled": true
   },
   "outputs": [],
   "source": [
    "import numpy as np\n",
    "import pandas as pd\n",
    "from enum import Enum\n",
    "\n",
    "from nquads import NQuads\n",
    "from prestongraph import *"
   ]
  },
  {
   "cell_type": "markdown",
   "metadata": {},
   "source": [
    "### Get provenance log\n",
    "\n",
    "On a large preston.acis.ufl.edu observatory it can take a while to run ```preston ls```, so we store its output at a temporary location\n",
    "```shell\n",
    "preston ls --remote http://preston.acis.ufl.edu > tmp/nquads\n",
    "```"
   ]
  },
  {
   "cell_type": "markdown",
   "metadata": {},
   "source": [
    "### Index the provenance logs"
   ]
  },
  {
   "cell_type": "code",
   "execution_count": 3,
   "metadata": {},
   "outputs": [],
   "source": [
    "class Observatory:\n",
    "    def __init__(self, name, dataPath=None, outputPath=None):\n",
    "        self.name = name\n",
    "        self.dataPath = dataPath\n",
    "        self.index = None\n",
    "        \n",
    "        if outputPath is not None:\n",
    "            self.outputPath = outputPath\n",
    "        else:\n",
    "            self.outputPath = \"./\" + name.lower().replace(\" \", \"-\") + \"-analysis/\""
   ]
  },
  {
   "cell_type": "code",
   "execution_count": 69,
   "metadata": {},
   "outputs": [],
   "source": [
    "def MakeIndexFromLogs(paths):\n",
    "    #import sys\n",
    "    #import io\n",
    "    global line\n",
    "    global nQuad\n",
    "    index = Index()\n",
    "\n",
    "    if type(paths) == str:\n",
    "        paths = [paths]\n",
    "    #sys.stdin = io.FileIO(path)\n",
    "\n",
    "    # Parse the provenance log into a list of n-quads\n",
    "    for path in paths:\n",
    "        with open(path) as file:\n",
    "            parsingGenerations = False\n",
    "            for line in file:\n",
    "                nQuads = NQuads.Parse(str(line))\n",
    "                for nQuad in nQuads:\n",
    "                    if len(nQuad) < 3: # Only ingest well-formed n-quads\n",
    "                        continue\n",
    "                    elif not parsingGenerations:\n",
    "                        if nQuad[1][0] == \"http://www.w3.org/ns/prov#qualifiedGeneration\":\n",
    "                            parsingGenerations = True\n",
    "                        elif nQuad[1][0] not in (\n",
    "                            \"http://www.w3.org/ns/prov#Activity\",\n",
    "                            \"http://purl.org/dc/terms/description\",\n",
    "                            \"http://www.w3.org/ns/prov#startedAtTime\"\n",
    "                        ):\n",
    "                            continue\n",
    "                    index.Ingest(nQuad)\n",
    "\n",
    "    return index"
   ]
  },
  {
   "cell_type": "code",
   "execution_count": null,
   "metadata": {},
   "outputs": [],
   "source": [
    "observatories = []"
   ]
  },
  {
   "cell_type": "code",
   "execution_count": 60,
   "metadata": {},
   "outputs": [],
   "source": [
    "observatories.append(Observatory(\"iDigBio\", \"../zenodo_deeplinker/idigbio.nq\"))"
   ]
  },
  {
   "cell_type": "code",
   "execution_count": null,
   "metadata": {},
   "outputs": [],
   "source": [
    "observatories.append(Observatory(\"GBIF\", \"../zenodo_deeplinker/gbif.nq\"))"
   ]
  },
  {
   "cell_type": "code",
   "execution_count": 115,
   "metadata": {},
   "outputs": [],
   "source": [
    "observatories.append(Observatory(\"DataONE\", \"../zenodo_dataone/nquads\"))"
   ]
  },
  {
   "cell_type": "code",
   "execution_count": 117,
   "metadata": {},
   "outputs": [],
   "source": [
    "observatories.append(Observatory(\"BHL\", \"../zenodo_bhl/nquads\"))"
   ]
  },
  {
   "cell_type": "code",
   "execution_count": null,
   "metadata": {},
   "outputs": [],
   "source": [
    "# observatories.append(Observatory(\"Deeplinker\", \"../zenodo_deeplinker/nquads\"))"
   ]
  },
  {
   "cell_type": "code",
   "execution_count": null,
   "metadata": {},
   "outputs": [],
   "source": [
    "# observatories.append(Observatory(\"All\", [x.dataPath for x in observatories]))"
   ]
  },
  {
   "cell_type": "code",
   "execution_count": 68,
   "metadata": {},
   "outputs": [
    {
     "data": {
      "text/plain": [
       "' <http://www.w3.org/ns/prov#qualifiedGeneration>  .\\n'"
      ]
     },
     "execution_count": 68,
     "metadata": {},
     "output_type": "execute_result"
    }
   ],
   "source": [
    "line"
   ]
  },
  {
   "cell_type": "code",
   "execution_count": 67,
   "metadata": {},
   "outputs": [
    {
     "data": {
      "text/plain": [
       "[('http://www.w3.org/ns/prov#qualifiedGeneration',)]"
      ]
     },
     "execution_count": 67,
     "metadata": {},
     "output_type": "execute_result"
    }
   ],
   "source": [
    "nQuad"
   ]
  },
  {
   "cell_type": "code",
   "execution_count": 118,
   "metadata": {},
   "outputs": [
    {
     "name": "stdout",
     "output_type": "stream",
     "text": [
      "Skipping iDigBio; already loaded\n",
      "Skipping GBIF; already loaded\n",
      "Reading DataONE...\n",
      "CPU times: user 8min 30s, sys: 1min 36s, total: 10min 6s\n",
      "Wall time: 10min 6s\n",
      "Done reading DataONE\n",
      "\n",
      "Reading BHL...\n",
      "CPU times: user 4min 20s, sys: 1min 13s, total: 5min 33s\n",
      "Wall time: 5min 33s\n",
      "Done reading BHL\n",
      "\n",
      "CPU times: user 12min 50s, sys: 2min 49s, total: 15min 39s\n",
      "Wall time: 15min 39s\n"
     ]
    }
   ],
   "source": [
    "%%time\n",
    "\n",
    "import os\n",
    "\n",
    "for observatory in observatories:\n",
    "    if observatory.index is not None:\n",
    "        print(\"Skipping %s; already loaded\" % observatory.name)\n",
    "        continue\n",
    "\n",
    "    # Prepare a place to store results\n",
    "    try:\n",
    "        os.mkdir(observatory.outputPath)\n",
    "    except OSError:\n",
    "        pass\n",
    "    \n",
    "    # Make an index\n",
    "    if observatory.dataPath is None:\n",
    "        print(\"Skipping %s; data path not specified\" % observatory.name)\n",
    "    else:\n",
    "        print(\"Reading %s...\" % observatory.name)\n",
    "        %time observatory.index = MakeIndexFromLogs(observatory.dataPath)\n",
    "        print(\"Done reading %s\\n\" % observatory.name)"
   ]
  },
  {
   "cell_type": "code",
   "execution_count": 160,
   "metadata": {},
   "outputs": [
    {
     "name": "stdout",
     "output_type": "stream",
     "text": [
      "Using DataONE\n"
     ]
    }
   ],
   "source": [
    "observatory = observatories[-2]\n",
    "observatoryName = observatory.name\n",
    "fullIndex = observatory.index\n",
    "outputPath = observatory.outputPath\n",
    "dataPath = observatory.dataPath\n",
    "print(\"Using %s\" % observatoryName)"
   ]
  },
  {
   "cell_type": "code",
   "execution_count": 161,
   "metadata": {
    "scrolled": true
   },
   "outputs": [
    {
     "name": "stdout",
     "output_type": "stream",
     "text": [
      "b8fdca11-c665-45f7-9fc6-d14457b534f2\thttp://www.w3.org/ns/prov#startedAtTime\t2019-10-01T01:29:29.672Z\n",
      "3b294f86-9437-4bda-a4a4-15d3cdda2f58\thttp://www.w3.org/ns/prov#startedAtTime\t2019-06-01T07:32:31.022Z\n",
      "97892995-268b-4ab7-8d05-e015511075eb\thttp://www.w3.org/ns/prov#startedAtTime\t2019-09-01T15:07:03.524Z\n",
      "de08ea83-d32a-478b-bf34-7e77ee5a9c81\thttp://www.w3.org/ns/prov#startedAtTime\t2019-08-01T04:21:24.356Z\n",
      "b34ce2a0-ec51-4fd5-a67a-990d6c08bca5\thttp://www.w3.org/ns/prov#startedAtTime\t2018-12-04T01:25:48.721Z\n",
      "a0c36b74-4c95-4a7d-9cf1-994b3bc16961\thttp://www.w3.org/ns/prov#startedAtTime\t2019-02-13T08:55:08.176Z\n",
      "7fe26593-d48d-4c4c-93f2-79885231e36f\thttp://www.w3.org/ns/prov#startedAtTime\t2019-02-08T00:17:15.510Z\n",
      "d75927b3-8a33-45ed-8e02-bcc35b52b67c\thttp://www.w3.org/ns/prov#startedAtTime\t2019-05-14T20:26:29.383Z\n",
      "7415c514-572d-4b26-8a95-1133cc77a194\thttp://www.w3.org/ns/prov#startedAtTime\t2019-04-29T19:11:30.720Z\n",
      "044dea8b-0169-4751-9f61-82f53aa2dbbf\thttp://www.w3.org/ns/prov#startedAtTime\t2018-11-13T15:13:01.286Z\n",
      "fd271e0a-ed05-4805-81ae-7ad6dba9b52a\thttp://www.w3.org/ns/prov#startedAtTime\t2019-03-13T07:55:12.903Z\n",
      "f9ff0cf7-13b1-4ea5-80f5-0c1607e55b86\thttp://www.w3.org/ns/prov#startedAtTime\t2019-07-01T08:17:18.571Z\n",
      "b6a73da4-25f4-4829-bc0f-886f65b7e496\thttp://www.w3.org/ns/prov#startedAtTime\t2018-10-17T22:42:41.609Z\n",
      "77b671d1-525c-4258-8e2e-8d50f295ef6e\thttp://www.w3.org/ns/prov#startedAtTime\t2019-10-13T23:30:50.264Z\n"
     ]
    }
   ],
   "source": [
    "for x in fullIndex.verbLookup[\"http://www.w3.org/ns/prov#startedAtTime\"].triples: print(x)"
   ]
  },
  {
   "cell_type": "code",
   "execution_count": 162,
   "metadata": {
    "scrolled": true
   },
   "outputs": [
    {
     "name": "stdout",
     "output_type": "stream",
     "text": [
      "4,586,698 nodes\n"
     ]
    }
   ],
   "source": [
    "print(\"{:,}\".format(len(fullIndex.nodes)), \"nodes\")"
   ]
  },
  {
   "cell_type": "code",
   "execution_count": 163,
   "metadata": {},
   "outputs": [],
   "source": [
    "# formats = set()\n",
    "\n",
    "# for x in fullIndex.verbLookup[\"http://purl.org/dc/elements/1.1/format\"].triples:\n",
    "#     formats.add(x.object)\n",
    "\n",
    "# for x in formats: print(x)"
   ]
  },
  {
   "cell_type": "code",
   "execution_count": 164,
   "metadata": {},
   "outputs": [
    {
     "name": "stdout",
     "output_type": "stream",
     "text": [
      "http://www.w3.org/ns/prov#generatedAtTime\n",
      "http://www.w3.org/ns/prov#wasStartedBy\n",
      "http://www.w3.org/1999/02/22-rdf-syntax-ns#type\n",
      "http://purl.org/pav/createdBy\n",
      "http://www.w3.org/ns/prov#activity\n",
      "http://purl.org/dc/terms/bibliographicCitation\n",
      "http://www.w3.org/ns/prov#qualifiedGeneration\n",
      "http://purl.org/pav/hasVersion\n",
      "http://www.w3.org/ns/prov#used\n",
      "http://www.w3.org/ns/prov#hadMember\n",
      "http://purl.org/dc/elements/1.1/format\n",
      "http://www.w3.org/ns/prov#wasAssociatedWith\n",
      "http://www.w3.org/ns/prov#usedBy\n",
      "http://www.w3.org/ns/prov#wasGeneratedBy\n",
      "http://purl.org/dc/terms/description\n",
      "http://www.w3.org/ns/prov#startedAtTime\n"
     ]
    }
   ],
   "source": [
    "for x in fullIndex.verbs: print(x)"
   ]
  },
  {
   "cell_type": "code",
   "execution_count": 165,
   "metadata": {},
   "outputs": [],
   "source": [
    "def PrintNodeSubTree(node, maxDepth=1, root=True):\n",
    "    if root:\n",
    "        for x in node.inwardTriples:\n",
    "            print(x)\n",
    "\n",
    "    if maxDepth > 0:\n",
    "        for x in node.outwardTriples:\n",
    "            print(x)\n",
    "            PrintNodeSubTree(x.object, maxDepth - 1, False)\n",
    "\n",
    "def Peek(nativeSet):\n",
    "    if len(nativeSet) == 0:\n",
    "        return None\n",
    "    else:\n",
    "        item = nativeSet.pop()\n",
    "        nativeSet.add(item)\n",
    "        return item\n",
    "\n",
    "def ContentIsValid(content):\n",
    "    return str(content).startswith(\"http\")"
   ]
  },
  {
   "cell_type": "markdown",
   "metadata": {},
   "source": [
    "### Get crawl UUIDs and sort them by date"
   ]
  },
  {
   "cell_type": "code",
   "execution_count": 166,
   "metadata": {},
   "outputs": [],
   "source": [
    "class CrawlMeta:\n",
    "    def __init__(self, position, date):\n",
    "        # Properties\n",
    "        self.position = position\n",
    "        self.date = date"
   ]
  },
  {
   "cell_type": "code",
   "execution_count": 167,
   "metadata": {},
   "outputs": [
    {
     "name": "stdout",
     "output_type": "stream",
     "text": [
      "Ignoring non-crawl log 77b671d1-525c-4258-8e2e-8d50f295ef6e (\"An event that (re-) processes existing biodiversity datasets graphs and their provenance.\")\n",
      "\n",
      "b6a73da4-25f4-4829-bc0f-886f65b7e496\t2018-10-17T22:42:41.609Z\t0\n",
      "044dea8b-0169-4751-9f61-82f53aa2dbbf\t2018-11-13T15:13:01.286Z\t1\n",
      "b34ce2a0-ec51-4fd5-a67a-990d6c08bca5\t2018-12-04T01:25:48.721Z\t2\n",
      "7fe26593-d48d-4c4c-93f2-79885231e36f\t2019-02-08T00:17:15.510Z\t3\n",
      "a0c36b74-4c95-4a7d-9cf1-994b3bc16961\t2019-02-13T08:55:08.176Z\t4\n",
      "fd271e0a-ed05-4805-81ae-7ad6dba9b52a\t2019-03-13T07:55:12.903Z\t5\n",
      "7415c514-572d-4b26-8a95-1133cc77a194\t2019-04-29T19:11:30.720Z\t6\n",
      "d75927b3-8a33-45ed-8e02-bcc35b52b67c\t2019-05-14T20:26:29.383Z\t7\n",
      "3b294f86-9437-4bda-a4a4-15d3cdda2f58\t2019-06-01T07:32:31.022Z\t8\n",
      "f9ff0cf7-13b1-4ea5-80f5-0c1607e55b86\t2019-07-01T08:17:18.571Z\t9\n",
      "de08ea83-d32a-478b-bf34-7e77ee5a9c81\t2019-08-01T04:21:24.356Z\t10\n",
      "97892995-268b-4ab7-8d05-e015511075eb\t2019-09-01T15:07:03.524Z\t11\n",
      "b8fdca11-c665-45f7-9fc6-d14457b534f2\t2019-10-01T01:29:29.672Z\t12\n"
     ]
    }
   ],
   "source": [
    "checkDescription = (\"http://purl.org/dc/terms/description\" in fullIndex.verbLookup)\n",
    "\n",
    "crawlDates = []\n",
    "for triple in fullIndex.verbLookup[\"http://www.w3.org/ns/prov#startedAtTime\"].triples:\n",
    "    crawlUuid = triple.subject\n",
    "    crawlDate = triple.object\n",
    "\n",
    "    if checkDescription:\n",
    "        descriptionTriple = Peek(crawlUuid.outwardTriples & fullIndex.verbLookup[\"http://purl.org/dc/terms/description\"].triples)\n",
    "        if descriptionTriple.object == \"A crawl event that discovers biodiversity archives.\":\n",
    "            crawlDates.append((crawlUuid, crawlDate))\n",
    "        else:\n",
    "            print(\"Ignoring non-crawl log %s (\\\"%s\\\")\" % (str(crawlUuid), str(descriptionTriple.object)))\n",
    "    else:\n",
    "        crawlDates.append((crawlUuid, crawlDate))\n",
    "numCrawls = len(crawlDates)\n",
    "\n",
    "crawlDates.sort(key=lambda x: x[1])\n",
    "\n",
    "print()\n",
    "# Assign some helpful metadata to each crawl\n",
    "crawlMetaLookup = dict()\n",
    "for i, crawlDate in enumerate(crawlDates):\n",
    "    # Contaminate crawl nodes with their chronological position in the preston history\n",
    "    crawlMeta = CrawlMeta(\n",
    "        position=i,\n",
    "        date=crawlDate[1]\n",
    "    )\n",
    "\n",
    "    crawlMetaLookup[crawlDate[0]] = crawlMeta\n",
    "\n",
    "    print(\"%s\\t%s\\t%d\" % (crawlDate[0], crawlMeta.date, crawlMeta.position))"
   ]
  },
  {
   "cell_type": "markdown",
   "metadata": {},
   "source": [
    "### Build a history for each URL"
   ]
  },
  {
   "cell_type": "code",
   "execution_count": 168,
   "metadata": {},
   "outputs": [],
   "source": [
    "class Status(Enum):\n",
    "    UNKNOWN             = 0    # Did not check for content\n",
    "    FIRST_CONTENT       = 1    # Returned content for the first time\n",
    "    SAME_CONTENT        = 2    # Returned the same content as the last successful query\n",
    "    CHANGED_CONTENT     = 3    # Returned new content\n",
    "    OLD_CONTENT         = 4    # Returned previously seen content that is different from the previous successful data\n",
    "    BECAME_UNRESOLVED   = 5    # Failed to return content after a successful query\n",
    "    STILL_UNRESOLVED    = 6    # Failed to return content again\n",
    "    ERROR               = 7    # Returned malformed content\n",
    "\n",
    "class UrlLifetime:\n",
    "    def __init__(self, numCrawls):\n",
    "        self.statuses = [Status.UNKNOWN] * numCrawls\n",
    "        self.contents = [None] * numCrawls\n",
    "\n",
    "        self.firstCrawlPosition = None\n",
    "        self.lastCrawlPosition = None\n",
    "        self.lastKnownStatus = Status.UNKNOWN\n",
    "\n",
    "        self.numResolves = 0\n",
    "        self.numBreaks = 0\n",
    "        self.numContents = 0\n",
    "        self.numContentChanges = 0\n",
    "\n",
    "class ContentLifetime:\n",
    "    def __init__(self, numCrawls):\n",
    "        self.firstCrawlPosition = None\n",
    "        self.lastCrawlPosition = None"
   ]
  },
  {
   "cell_type": "markdown",
   "metadata": {},
   "source": [
    "### Collect the contents seen over the course of each URL's lifetime"
   ]
  },
  {
   "cell_type": "code",
   "execution_count": 169,
   "metadata": {},
   "outputs": [
    {
     "name": "stdout",
     "output_type": "stream",
     "text": [
      "CPU times: user 37.6 s, sys: 4.41 s, total: 42 s\n",
      "Wall time: 42 s\n"
     ]
    }
   ],
   "source": [
    "%%time\n",
    "\n",
    "contentLifetimes = dict()\n",
    "urlLifetimes = dict()\n",
    "for x in fullIndex.verbLookup[\"http://www.w3.org/ns/prov#qualifiedGeneration\"].triples:\n",
    "    qualGen = x.object\n",
    "\n",
    "    # Get content\n",
    "    contentTriple = Peek(qualGen.inwardTriples & fullIndex.verbLookup[\"http://www.w3.org/ns/prov#qualifiedGeneration\"].triples)\n",
    "    content = contentTriple.subject\n",
    "\n",
    "    # Get URL\n",
    "    urlTriple = Peek(qualGen.outwardTriples & fullIndex.verbLookup[\"http://www.w3.org/ns/prov#used\"].triples)\n",
    "    url = urlTriple.object\n",
    "\n",
    "    # Get crawl\n",
    "    crawlTriple = Peek(qualGen.outwardTriples & fullIndex.verbLookup[\"http://www.w3.org/ns/prov#activity\"].triples)\n",
    "    crawl = crawlTriple.object\n",
    "    crawlMeta = crawlMetaLookup[crawl]\n",
    "\n",
    "    # Fill in URL lifetime data\n",
    "    if url in urlLifetimes:\n",
    "        lifetime = urlLifetimes[url]\n",
    "    else:\n",
    "        lifetime = UrlLifetime(numCrawls)\n",
    "        urlLifetimes[url] = lifetime\n",
    "\n",
    "    if lifetime.firstCrawlPosition == None or crawlMeta.position < lifetime.firstCrawlPosition:\n",
    "        lifetime.firstCrawlPosition = crawlMeta.position\n",
    "\n",
    "    if lifetime.lastCrawlPosition == None or crawlMeta.position > lifetime.lastCrawlPosition:\n",
    "        lifetime.lastCrawlPosition = crawlMeta.position\n",
    "\n",
    "    lifetime.contents[crawlMeta.position] = content\n",
    "    \n",
    "    # Fill in content lifetime data\n",
    "    if not ContentIsValid(content):\n",
    "        if content in contentLifetimes:\n",
    "            lifetime = contentLifetimes[content]\n",
    "        else:\n",
    "            lifetime = ContentLifetime(numCrawls)\n",
    "            contentLifetimes[content] = lifetime\n",
    "        \n",
    "        if lifetime.firstCrawlPosition == None or crawlMeta.position < lifetime.firstCrawlPosition:\n",
    "            lifetime.firstCrawlPosition = crawlMeta.position\n",
    "\n",
    "        if lifetime.lastCrawlPosition == None or crawlMeta.position > lifetime.lastCrawlPosition:\n",
    "            lifetime.lastCrawlPosition = crawlMeta.position"
   ]
  },
  {
   "cell_type": "code",
   "execution_count": 170,
   "metadata": {},
   "outputs": [
    {
     "name": "stdout",
     "output_type": "stream",
     "text": [
      "377,395 urls\n"
     ]
    }
   ],
   "source": [
    "totalNumUrls = len(urlLifetimes)\n",
    "print(\"{:,}\".format(totalNumUrls), \"urls\")"
   ]
  },
  {
   "cell_type": "markdown",
   "metadata": {},
   "source": [
    "### Assign a status for each stage of each URL's lifetime"
   ]
  },
  {
   "cell_type": "markdown",
   "metadata": {},
   "source": [
    "There's some ambiguity in the status of a URL's first query; we make some arbitrary, totally unfounded assumptions:\n",
    "* If unresolved, consider it BECAME_UNRESOLVED rather than STILL_UNRESOLVED\n",
    "* If resolved, consider it FIRST_CONTENT rather than SAME_CONTENT, OLD_CONTENT, or CHANGED_CONTENT"
   ]
  },
  {
   "cell_type": "code",
   "execution_count": 171,
   "metadata": {},
   "outputs": [
    {
     "name": "stdout",
     "output_type": "stream",
     "text": [
      "CPU times: user 6.83 s, sys: 0 ns, total: 6.83 s\n",
      "Wall time: 6.82 s\n"
     ]
    }
   ],
   "source": [
    "%%time\n",
    "\n",
    "for url, lifetime in urlLifetimes.items():\n",
    "    wasAlive = True\n",
    "    mostRecentContent = None\n",
    "    for i, content in enumerate(lifetime.contents):\n",
    "\n",
    "        if content:\n",
    "            if ContentIsValid(content):\n",
    "        # Became unresolved\n",
    "                if wasAlive:\n",
    "                    status = Status.BECAME_UNRESOLVED\n",
    "                    lifetime.numBreaks += 1\n",
    "\n",
    "        # Still unresolved\n",
    "                else:\n",
    "                    status = Status.STILL_UNRESOLVED\n",
    "\n",
    "                wasAlive = False\n",
    "\n",
    "        # First content\n",
    "            else:\n",
    "                if mostRecentContent == None:\n",
    "                    status = Status.FIRST_CONTENT\n",
    "                    mostRecentContent = content\n",
    "                    lifetime.numContents += 1\n",
    "\n",
    "        # Same content\n",
    "                elif content == mostRecentContent:\n",
    "                    status = Status.SAME_CONTENT\n",
    "\n",
    "                else:\n",
    "        # Old content\n",
    "                    if content in lifetime.contents[0:i]:\n",
    "                        status = Status.OLD_CONTENT\n",
    "\n",
    "        # Changed content\n",
    "                    else:\n",
    "                        status = Status.CHANGED_CONTENT\n",
    "                        lifetime.numContents += 1\n",
    "\n",
    "                    mostRecentContent = content\n",
    "                    lifetime.numContentChanges += 1\n",
    "\n",
    "                wasAlive = True\n",
    "                lifetime.numResolves += 1\n",
    "\n",
    "            lifetime.lastKnownStatus = status\n",
    "        # Unknown\n",
    "        else:\n",
    "            status = Status.UNKNOWN\n",
    "\n",
    "        lifetime.statuses[i] = status"
   ]
  },
  {
   "cell_type": "code",
   "execution_count": 172,
   "metadata": {
    "scrolled": false
   },
   "outputs": [
    {
     "data": {
      "text/plain": [
       "[<prestongraph.Node at 0x7fd188ad5b38>,\n",
       " <prestongraph.Node at 0x7fd188ad5b38>,\n",
       " <prestongraph.Node at 0x7fd188ad5b38>,\n",
       " None,\n",
       " <prestongraph.Node at 0x7fd188ad5b38>,\n",
       " <prestongraph.Node at 0x7fd188ad5b38>,\n",
       " None,\n",
       " <prestongraph.Node at 0x7fd188ad5b38>,\n",
       " None,\n",
       " <prestongraph.Node at 0x7fd188ad5b38>,\n",
       " <prestongraph.Node at 0x7fd188ad5b38>,\n",
       " <prestongraph.Node at 0x7fd188ad5b38>,\n",
       " None]"
      ]
     },
     "execution_count": 172,
     "metadata": {},
     "output_type": "execute_result"
    }
   ],
   "source": [
    "list(urlLifetimes.items())[0][1].contents"
   ]
  },
  {
   "cell_type": "code",
   "execution_count": 173,
   "metadata": {},
   "outputs": [],
   "source": [
    "textUrlLifetimes = dict()\n",
    "for url, lifetime in urlLifetimes.items():\n",
    "    textContents = [None] * numCrawls\n",
    "    for i, content in enumerate(lifetime.contents):\n",
    "        textContents[i] = str(content)\n",
    "    textUrlLifetimes[str(url)] = textContents\n",
    "\n",
    "np.save(outputPath + \"url-lifetimes\", textUrlLifetimes)"
   ]
  },
  {
   "cell_type": "code",
   "execution_count": 174,
   "metadata": {},
   "outputs": [
    {
     "data": {
      "text/plain": [
       "377395"
      ]
     },
     "execution_count": 174,
     "metadata": {},
     "output_type": "execute_result"
    }
   ],
   "source": [
    "len(textUrlLifetimes)"
   ]
  },
  {
   "cell_type": "code",
   "execution_count": 175,
   "metadata": {},
   "outputs": [
    {
     "name": "stdout",
     "output_type": "stream",
     "text": [
      "Lifetime for https://cn.dataone.org/cn/v2/resolve/NEON.D07.WALK.DP1.20193.2016.12.2017.09.25.15.44.57\n",
      "\n",
      "0:\tStatus.UNKNOWN\tNone\n",
      "1:\tStatus.UNKNOWN\tNone\n",
      "2:\tStatus.UNKNOWN\tNone\n",
      "3:\tStatus.UNKNOWN\tNone\n",
      "4:\tStatus.UNKNOWN\tNone\n",
      "5:\tStatus.UNKNOWN\tNone\n",
      "6:\tStatus.UNKNOWN\tNone\n",
      "7:\tStatus.UNKNOWN\tNone\n",
      "8:\tStatus.UNKNOWN\tNone\n",
      "9:\tStatus.UNKNOWN\tNone\n",
      "10:\tStatus.UNKNOWN\tNone\n",
      "11:\tStatus.FIRST_CONTENT\thash://sha256/7c6875cb0eaa3f2bcd8700e4dd81f11a8ca2108b70bd781126f20100a17823f5\n",
      "12:\tStatus.UNKNOWN\tNone\n"
     ]
    }
   ],
   "source": [
    "print(\"Lifetime for %s\\n\" % url)\n",
    "print(\"\\n\".join([\"%d:\\t%s\\t%s\" % (i, lifetime.statuses[i], lifetime.contents[i]) for i in range(numCrawls)]))"
   ]
  },
  {
   "cell_type": "markdown",
   "metadata": {},
   "source": [
    "## Build figures\n",
    "These should probably be colorless (i.e. use black and white textures and dotted lines)"
   ]
  },
  {
   "cell_type": "markdown",
   "metadata": {},
   "source": [
    "### New, modified, lost content per crawl"
   ]
  },
  {
   "cell_type": "code",
   "execution_count": 176,
   "metadata": {},
   "outputs": [],
   "source": [
    "import pandas as pd\n",
    "import numpy as np\n",
    "import matplotlib.pyplot as plt\n",
    "import datetime\n",
    "from itertools import cycle, islice\n",
    "\n",
    "%matplotlib inline"
   ]
  },
  {
   "cell_type": "code",
   "execution_count": 177,
   "metadata": {},
   "outputs": [
    {
     "data": {
      "text/plain": [
       "{<Status.UNKNOWN: 0>: 0,\n",
       " <Status.FIRST_CONTENT: 1>: 0,\n",
       " <Status.SAME_CONTENT: 2>: 0,\n",
       " <Status.CHANGED_CONTENT: 3>: 0,\n",
       " <Status.OLD_CONTENT: 4>: 0,\n",
       " <Status.BECAME_UNRESOLVED: 5>: 0,\n",
       " <Status.STILL_UNRESOLVED: 6>: 0,\n",
       " <Status.ERROR: 7>: 0}"
      ]
     },
     "execution_count": 177,
     "metadata": {},
     "output_type": "execute_result"
    }
   ],
   "source": [
    "dict([(status, 0) for status in Status])"
   ]
  },
  {
   "cell_type": "code",
   "execution_count": 178,
   "metadata": {},
   "outputs": [
    {
     "name": "stdout",
     "output_type": "stream",
     "text": [
      "CPU times: user 2.06 s, sys: 0 ns, total: 2.06 s\n",
      "Wall time: 2.06 s\n"
     ]
    }
   ],
   "source": [
    "%%time\n",
    "\n",
    "crawlStatusTotals = [(dict([(status, 0) for status in Status])) for crawlDate in crawlDates]\n",
    "# for crawl in range(numCrawls):\n",
    "#     crawlStatusTotals[crawl] = \n",
    "\n",
    "# crawlStatusTotals = dict()\n",
    "\n",
    "\n",
    "for _, lifetime in urlLifetimes.items():\n",
    "    for i, status in enumerate(lifetime.statuses):\n",
    "        crawlStatusTotals[i][status] += 1\n",
    "\n",
    "# crawl_status_totals_df = pd.DataFrame(\n",
    "#     index   = [datetime.datetime.strptime(str(x[1]), \"%Y-%m-%dT%H:%M:%S.%fZ\") for x in crawlDates],\n",
    "#     columns = [x for x in Status],\n",
    "#     data    = ,\n",
    "#     dtype   = int\n",
    "# )\n",
    "\n",
    "crawl_status_totals_df = pd.DataFrame(\n",
    "    index = [datetime.datetime.strptime(str(x[1]), \"%Y-%m-%dT%H:%M:%S.%fZ\") for x in crawlDates],\n",
    "    data = crawlStatusTotals\n",
    ")"
   ]
  },
  {
   "cell_type": "code",
   "execution_count": 179,
   "metadata": {},
   "outputs": [
    {
     "data": {
      "text/html": [
       "<div>\n",
       "<style scoped>\n",
       "    .dataframe tbody tr th:only-of-type {\n",
       "        vertical-align: middle;\n",
       "    }\n",
       "\n",
       "    .dataframe tbody tr th {\n",
       "        vertical-align: top;\n",
       "    }\n",
       "\n",
       "    .dataframe thead th {\n",
       "        text-align: right;\n",
       "    }\n",
       "</style>\n",
       "<table border=\"1\" class=\"dataframe\">\n",
       "  <thead>\n",
       "    <tr style=\"text-align: right;\">\n",
       "      <th></th>\n",
       "    </tr>\n",
       "  </thead>\n",
       "  <tbody>\n",
       "    <tr>\n",
       "      <th>Status.UNKNOWN</th>\n",
       "    </tr>\n",
       "    <tr>\n",
       "      <th>Status.FIRST_CONTENT</th>\n",
       "    </tr>\n",
       "    <tr>\n",
       "      <th>Status.SAME_CONTENT</th>\n",
       "    </tr>\n",
       "    <tr>\n",
       "      <th>Status.CHANGED_CONTENT</th>\n",
       "    </tr>\n",
       "    <tr>\n",
       "      <th>Status.OLD_CONTENT</th>\n",
       "    </tr>\n",
       "    <tr>\n",
       "      <th>Status.BECAME_UNRESOLVED</th>\n",
       "    </tr>\n",
       "    <tr>\n",
       "      <th>Status.STILL_UNRESOLVED</th>\n",
       "    </tr>\n",
       "    <tr>\n",
       "      <th>Status.ERROR</th>\n",
       "    </tr>\n",
       "  </tbody>\n",
       "</table>\n",
       "</div>"
      ],
      "text/plain": [
       "Empty DataFrame\n",
       "Columns: []\n",
       "Index: [Status.UNKNOWN, Status.FIRST_CONTENT, Status.SAME_CONTENT, Status.CHANGED_CONTENT, Status.OLD_CONTENT, Status.BECAME_UNRESOLVED, Status.STILL_UNRESOLVED, Status.ERROR]"
      ]
     },
     "execution_count": 179,
     "metadata": {},
     "output_type": "execute_result"
    }
   ],
   "source": [
    "crawl_status_totals_df.to_csv(outputPath + \"crawl-status-totals-df\")\n",
    "crawl_status_totals_df[38:50].transpose()"
   ]
  },
  {
   "cell_type": "code",
   "execution_count": 180,
   "metadata": {},
   "outputs": [],
   "source": [
    "col_hex = {\n",
    "    \"blue\"      : \"#1f77b4\",\n",
    "    \"orange\"    : \"#ff7f0e\",\n",
    "    \"green\"     : \"#2ca02c\",\n",
    "    \"red\"       : \"#d62728\",\n",
    "    \"purple\"    : \"#9467bd\",\n",
    "    \"brown\"     : \"#8c564b\",\n",
    "    \"pink\"      : \"#e377c2\",\n",
    "    \"gray\"      : \"#7f7f7f\",\n",
    "    \"yellow\"    : \"#bcbd22\",\n",
    "    \"teal\"      : \"#17becf\",\n",
    "    \n",
    "    \"bright green\"  : \"#00ff00\",\n",
    "    \"bright red\"    : \"#ff0000\",\n",
    "    \"green yellow\"  : \"#9ACD32\",\n",
    "    \"olive\"         : \"#808000\"\n",
    "}\n",
    "\n",
    "fig_df = crawl_status_totals_df[[\n",
    "    Status.SAME_CONTENT,\n",
    "    Status.FIRST_CONTENT,\n",
    "    Status.OLD_CONTENT,\n",
    "    Status.CHANGED_CONTENT,\n",
    "    Status.STILL_UNRESOLVED,\n",
    "    Status.BECAME_UNRESOLVED,\n",
    "    Status.UNKNOWN,\n",
    "    Status.ERROR\n",
    "]]\n",
    "\n",
    "status_colors = {\n",
    "    Status.UNKNOWN             : \"gray\",\n",
    "    Status.FIRST_CONTENT       : \"bright green\",\n",
    "    Status.SAME_CONTENT        : \"green\",\n",
    "    Status.CHANGED_CONTENT     : \"yellow\",\n",
    "    Status.OLD_CONTENT         : \"olive\",\n",
    "    Status.BECAME_UNRESOLVED   : \"bright red\",\n",
    "    Status.STILL_UNRESOLVED    : \"red\",\n",
    "    Status.ERROR               : \"purple\",\n",
    "}\n",
    "\n",
    "status_color_map = list(islice(cycle([col_hex[status_colors[x]] for x in fig_df.columns]), None, 256))"
   ]
  },
  {
   "cell_type": "code",
   "execution_count": 181,
   "metadata": {
    "scrolled": false
   },
   "outputs": [
    {
     "data": {
      "image/png": "[encoded data removed]",
      "text/plain": [
       "<Figure size 1080x360 with 1 Axes>"
      ]
     },
     "metadata": {},
     "output_type": "display_data"
    }
   ],
   "source": [
    "fig_df.plot(kind=\"bar\", stacked=True, width=.95, color=status_color_map, figsize=(15, 5),\n",
    "                      title=\"Stacked URL status counts per crawl\");\n",
    "plt.savefig(outputPath + \"stacked-query-status-counts-per-crawl\")"
   ]
  },
  {
   "cell_type": "code",
   "execution_count": 182,
   "metadata": {},
   "outputs": [],
   "source": [
    "figureTitles = False"
   ]
  },
  {
   "cell_type": "code",
   "execution_count": 183,
   "metadata": {
    "scrolled": true
   },
   "outputs": [
    {
     "name": "stdout",
     "output_type": "stream",
     "text": [
      "DataONE: Stacked URL Status Counts Over Time (Stepped)\n"
     ]
    },
    {
     "data": {
      "image/png": "[encoded data removed]",
      "text/plain": [
       "<Figure size 1152x360 with 1 Axes>"
      ]
     },
     "metadata": {},
     "output_type": "display_data"
    }
   ],
   "source": [
    "# Make figure\n",
    "fig = plt.figure(figsize=(16, 5))\n",
    "ax = fig.add_subplot(111)\n",
    "if figureTitles: plt.title(observatoryName + \": Stacked URL Status Counts Over Time (Stepped)\")\n",
    "\n",
    "# Fill in space between lines\n",
    "x = fig_df.index.append(pd.Index([datetime.datetime.now()]))\n",
    "y1 = pd.Series({ q : 0 for q in x })\n",
    "\n",
    "columns = fig_df.columns\n",
    "n = len(columns)\n",
    "for i in range(0, n):\n",
    "    y2 = y1 + fig_df[columns[i]] + 0\n",
    "    ax.fill_between(x, y1, y2, step=\"post\", color=status_color_map[i])\n",
    "    y1 = y2\n",
    "\n",
    "print(observatoryName + \": Stacked URL Status Counts Over Time (Stepped)\")\n",
    "plt.savefig(outputPath + \"stacked-query-status-counts-over-time\")"
   ]
  },
  {
   "cell_type": "code",
   "execution_count": 184,
   "metadata": {
    "scrolled": false
   },
   "outputs": [
    {
     "data": {
      "image/png": "[encoded data removed]",
      "text/plain": [
       "<Figure size 1152x360 with 1 Axes>"
      ]
     },
     "metadata": {},
     "output_type": "display_data"
    }
   ],
   "source": [
    "# Make figure\n",
    "fig = plt.figure(figsize=(16, 5))\n",
    "ax = fig.add_subplot(111)\n",
    "\n",
    "# Draw stepped lines\n",
    "x = fig_df.index\n",
    "for status in fig_df.columns:\n",
    "    y = fig_df[status]\n",
    "    plt.step(x, y, where=\"post\", color=col_hex[status_colors[status]])"
   ]
  },
  {
   "cell_type": "code",
   "execution_count": 185,
   "metadata": {
    "scrolled": true
   },
   "outputs": [
    {
     "data": {
      "image/png": "[encoded data removed]",
      "text/plain": [
       "<Figure size 1080x360 with 1 Axes>"
      ]
     },
     "metadata": {},
     "output_type": "display_data"
    }
   ],
   "source": [
    "ax = fig_df.plot(kind=\"line\", stacked=False, color=status_color_map, figsize=(15, 5),\n",
    "                 title=\"URL status counts over time (interpolated)\")"
   ]
  },
  {
   "cell_type": "markdown",
   "metadata": {},
   "source": [
    "Fun fact: there are many URLs that never resolved"
   ]
  },
  {
   "cell_type": "markdown",
   "metadata": {},
   "source": [
    "## Running URL and content totals"
   ]
  },
  {
   "cell_type": "code",
   "execution_count": 186,
   "metadata": {},
   "outputs": [
    {
     "name": "stdout",
     "output_type": "stream",
     "text": [
      "CPU times: user 969 ms, sys: 15.6 ms, total: 984 ms\n",
      "Wall time: 973 ms\n"
     ]
    }
   ],
   "source": [
    "%%time\n",
    "\n",
    "crawlUrlTotals = [0] * numCrawls\n",
    "crawlDatasetTotals = [0] * numCrawls\n",
    "\n",
    "numUnavailable = 0\n",
    "numVeryAvailable = 0\n",
    "numVeryStable = 0\n",
    "numVeryReliable = 0\n",
    "\n",
    "totalNumResolves = 0\n",
    "totalNumBreaks = 0\n",
    "totalNumContents = 0\n",
    "totalNumContentChanges = 0\n",
    "maxNumContentChanges = 0\n",
    "\n",
    "maxNumBreaks   = totalNumUrls * (np.ceil(numCrawls / 2)) # Round up; if the availability is [0, 1, 0] across three crawls, there are at most two breaks\n",
    "maxNumContents = totalNumUrls * (numCrawls)\n",
    "\n",
    "breakCounts = []\n",
    "contentChangeCounts = []\n",
    "\n",
    "for _, lifetime in urlLifetimes.items():\n",
    "    #if lifetime.firstCrawlPosition:\n",
    "    crawlUrlTotals[lifetime.firstCrawlPosition] += 1\n",
    "\n",
    "    totalNumResolves += lifetime.numResolves\n",
    "    totalNumBreaks += lifetime.numBreaks\n",
    "    totalNumContents += lifetime.numContents\n",
    "    totalNumContentChanges += lifetime.numContentChanges\n",
    "    maxNumContentChanges += lifetime.numResolves - 1\n",
    "\n",
    "    breakCounts.append(lifetime.numBreaks)\n",
    "    contentChangeCounts.append(lifetime.numContentChanges)\n",
    "\n",
    "    if lifetime.numBreaks == 0:\n",
    "        numVeryAvailable += 1\n",
    "\n",
    "    if lifetime.numContents == 1:\n",
    "        numVeryStable += 1\n",
    "\n",
    "    if lifetime.numBreaks == 0 and lifetime.numContents == 1:\n",
    "        numVeryReliable += 1\n",
    "\n",
    "    if lifetime.lastKnownStatus in (Status.BECAME_UNRESOLVED, Status.STILL_UNRESOLVED):\n",
    "        numUnavailable += 1\n",
    "\n",
    "for _, lifetime in contentLifetimes.items():\n",
    "    #if lifetime.firstCrawlPosition:\n",
    "    crawlDatasetTotals[lifetime.firstCrawlPosition] += 1\n",
    "\n",
    "reallyBads = list()\n",
    "for url, lifetime in urlLifetimes.items():\n",
    "    skip = False\n",
    "    for status in lifetime.statuses:\n",
    "        if status not in (Status.BECAME_UNRESOLVED, Status.STILL_UNRESOLVED, Status.UNKNOWN):\n",
    "            skip = True\n",
    "            break\n",
    "    if not skip:\n",
    "        reallyBads.append((url, lifetime))\n",
    "\n",
    "numReallyBads = len(reallyBads)\n",
    "\n",
    "np.save(outputPath + \"totals\", {\n",
    "    \"totalNumUrls\" : totalNumUrls,\n",
    "    \"totalNumResolves\" : totalNumResolves,\n",
    "    \"totalNumBreaks\" : totalNumBreaks,\n",
    "    \"totalNumContents\" : totalNumContents,\n",
    "    \"totalNumContentChanges\" : totalNumContentChanges,\n",
    "    \"maxNumContentChanges\" : maxNumContentChanges,\n",
    "    \"numReallyBads\" : numReallyBads\n",
    "})"
   ]
  },
  {
   "cell_type": "code",
   "execution_count": 187,
   "metadata": {
    "scrolled": true
   },
   "outputs": [
    {
     "name": "stdout",
     "output_type": "stream",
     "text": [
      "92.93% of URLs (350,699 total) were always available\n",
      "90.83% of URLs (342,795 total) always produced the same content\n",
      "85.06% of URLs (321,024 total) were always available and always produced the same content\n",
      "2.97% of URLs (11,191 total) were unresolved in the last crawl\n",
      "1.05% of URLs (3,955 total) never resolved in any crawl\n",
      "On average, URLs break 1.00% of the time between queries\n",
      "On average, URLs contents change 1.66% of the time between queries\n",
      "\n"
     ]
    }
   ],
   "source": [
    "textReport = \"\"\n",
    "\n",
    "textReport += (\"%s of URLs (%s total) were always available\\n\"\n",
    "    % (\"{0:.2%}\".format(numVeryAvailable / totalNumUrls), \"{0:,}\".format(numVeryAvailable)))\n",
    "textReport += (\"%s of URLs (%s total) always produced the same content\\n\"\n",
    "    % (\"{0:.2%}\".format(numVeryStable / totalNumUrls), \"{0:,}\".format(numVeryStable)))\n",
    "textReport += (\"%s of URLs (%s total) were always available and always produced the same content\\n\"\n",
    "    % (\"{0:.2%}\".format(numVeryReliable / totalNumUrls), \"{0:,}\".format(numVeryReliable)))\n",
    "textReport += (\"%s of URLs (%s total) were unresolved in the last crawl\\n\"\n",
    "    % (\"{0:.2%}\".format(numUnavailable / totalNumUrls), \"{0:,}\".format(numUnavailable)))\n",
    "textReport += (\"%s of URLs (%s total) never resolved in any crawl\\n\"\n",
    "    % (\"{0:.2%}\".format(numReallyBads / totalNumUrls), \"{0:,}\".format(numReallyBads)))\n",
    "textReport += (\"On average, URLs break %s of the time between queries\\n\"\n",
    "    % (\"{0:.2%}\".format(totalNumBreaks / (totalNumResolves + totalNumBreaks))))\n",
    "textReport += (\"On average, URLs contents change %s of the time between queries\\n\"\n",
    "    % (\"{0:.2%}\".format(totalNumContentChanges / maxNumContentChanges)))\n",
    "\n",
    "file = open(outputPath + \"report.txt\", \"w+\")\n",
    "file.write(textReport)\n",
    "file.close()\n",
    "\n",
    "print(textReport)"
   ]
  },
  {
   "cell_type": "code",
   "execution_count": 188,
   "metadata": {},
   "outputs": [
    {
     "data": {
      "text/plain": [
       "56371"
      ]
     },
     "execution_count": 188,
     "metadata": {},
     "output_type": "execute_result"
    }
   ],
   "source": [
    "numUnreliable = totalNumUrls - numVeryReliable\n",
    "numUnreliable"
   ]
  },
  {
   "cell_type": "code",
   "execution_count": 189,
   "metadata": {},
   "outputs": [
    {
     "name": "stdout",
     "output_type": "stream",
     "text": [
      "34600\n",
      "0.6137907789466215\n"
     ]
    }
   ],
   "source": [
    "numUnstable = totalNumUrls - numVeryStable\n",
    "print(numUnstable)\n",
    "print(numUnstable / numUnreliable)"
   ]
  },
  {
   "cell_type": "code",
   "execution_count": 190,
   "metadata": {},
   "outputs": [
    {
     "name": "stdout",
     "output_type": "stream",
     "text": [
      "26696\n",
      "0.4735768391548846\n"
     ]
    }
   ],
   "source": [
    "numUnavailable = totalNumUrls - numVeryAvailable\n",
    "print(numUnavailable)\n",
    "print(numUnavailable / numUnreliable)"
   ]
  },
  {
   "cell_type": "code",
   "execution_count": 191,
   "metadata": {},
   "outputs": [
    {
     "name": "stdout",
     "output_type": "stream",
     "text": [
      "26696\n",
      "0.4735768391548846\n"
     ]
    }
   ],
   "source": [
    "print(numUnavailable)\n",
    "print(numUnavailable / numUnreliable)"
   ]
  },
  {
   "cell_type": "code",
   "execution_count": 192,
   "metadata": {},
   "outputs": [],
   "source": [
    "breakCountFrequencies = np.unique(breakCounts, return_counts=True)\n",
    "np.save(outputPath + \"url-break-frequencies.npy\", breakCountFrequencies)"
   ]
  },
  {
   "cell_type": "code",
   "execution_count": 193,
   "metadata": {},
   "outputs": [
    {
     "data": {
      "image/png": "[encoded data removed]",
      "text/plain": [
       "<Figure size 432x288 with 1 Axes>"
      ]
     },
     "metadata": {},
     "output_type": "display_data"
    }
   ],
   "source": [
    "plt.plot(breakCountFrequencies[0], breakCountFrequencies[1], \"-o\", color=\"black\");\n",
    "plt.xlabel(\"Number of losses of availability\");\n",
    "plt.ylabel(\"Number of URLs\");\n",
    "plt.savefig(outputPath + \"url-break-freq-dist.png\")\n",
    "plt.title(observatoryName + \": Frequency Distribution of Total Losses of Availability Per URL\");"
   ]
  },
  {
   "cell_type": "code",
   "execution_count": 194,
   "metadata": {},
   "outputs": [],
   "source": [
    "contentChangeCountFrequencies = np.unique(contentChangeCounts, return_counts=True)\n",
    "np.save(outputPath + \"url-content-change-frequencies.npy\", contentChangeCountFrequencies)"
   ]
  },
  {
   "cell_type": "code",
   "execution_count": 195,
   "metadata": {},
   "outputs": [
    {
     "data": {
      "image/png": "[encoded data removed]",
      "text/plain": [
       "<Figure size 432x288 with 1 Axes>"
      ]
     },
     "metadata": {},
     "output_type": "display_data"
    }
   ],
   "source": [
    "plt.plot(contentChangeCountFrequencies[0], contentChangeCountFrequencies[1], \"-o\", color=\"black\");\n",
    "plt.xlabel(\"Number of content changes\");\n",
    "plt.ylabel(\"Number of URLs\");\n",
    "plt.savefig(outputPath + \"url-content-change-freq-dist.png\")\n",
    "plt.title(observatoryName + \": Frequency Distribution of Total Content Changes Per URL\");"
   ]
  },
  {
   "cell_type": "code",
   "execution_count": 196,
   "metadata": {},
   "outputs": [
    {
     "data": {
      "text/html": [
       "<div>\n",
       "<style scoped>\n",
       "    .dataframe tbody tr th:only-of-type {\n",
       "        vertical-align: middle;\n",
       "    }\n",
       "\n",
       "    .dataframe tbody tr th {\n",
       "        vertical-align: top;\n",
       "    }\n",
       "\n",
       "    .dataframe thead th {\n",
       "        text-align: right;\n",
       "    }\n",
       "</style>\n",
       "<table border=\"1\" class=\"dataframe\">\n",
       "  <thead>\n",
       "    <tr style=\"text-align: right;\">\n",
       "      <th></th>\n",
       "      <th>Unresolvable</th>\n",
       "      <th>Changed Content</th>\n",
       "    </tr>\n",
       "  </thead>\n",
       "  <tbody>\n",
       "    <tr>\n",
       "      <th>0</th>\n",
       "      <td>350699</td>\n",
       "      <td>346750</td>\n",
       "    </tr>\n",
       "    <tr>\n",
       "      <th>1</th>\n",
       "      <td>22367</td>\n",
       "      <td>22602</td>\n",
       "    </tr>\n",
       "    <tr>\n",
       "      <th>2</th>\n",
       "      <td>2979</td>\n",
       "      <td>5743</td>\n",
       "    </tr>\n",
       "    <tr>\n",
       "      <th>3</th>\n",
       "      <td>1316</td>\n",
       "      <td>1038</td>\n",
       "    </tr>\n",
       "    <tr>\n",
       "      <th>4</th>\n",
       "      <td>34</td>\n",
       "      <td>211</td>\n",
       "    </tr>\n",
       "    <tr>\n",
       "      <th>5</th>\n",
       "      <td>0</td>\n",
       "      <td>28</td>\n",
       "    </tr>\n",
       "    <tr>\n",
       "      <th>6</th>\n",
       "      <td>0</td>\n",
       "      <td>45</td>\n",
       "    </tr>\n",
       "    <tr>\n",
       "      <th>7</th>\n",
       "      <td>0</td>\n",
       "      <td>2</td>\n",
       "    </tr>\n",
       "    <tr>\n",
       "      <th>8</th>\n",
       "      <td>0</td>\n",
       "      <td>589</td>\n",
       "    </tr>\n",
       "    <tr>\n",
       "      <th>9</th>\n",
       "      <td>0</td>\n",
       "      <td>239</td>\n",
       "    </tr>\n",
       "    <tr>\n",
       "      <th>10</th>\n",
       "      <td>0</td>\n",
       "      <td>3</td>\n",
       "    </tr>\n",
       "    <tr>\n",
       "      <th>11</th>\n",
       "      <td>0</td>\n",
       "      <td>83</td>\n",
       "    </tr>\n",
       "    <tr>\n",
       "      <th>12</th>\n",
       "      <td>0</td>\n",
       "      <td>62</td>\n",
       "    </tr>\n",
       "  </tbody>\n",
       "</table>\n",
       "</div>"
      ],
      "text/plain": [
       "    Unresolvable  Changed Content\n",
       "0         350699           346750\n",
       "1          22367            22602\n",
       "2           2979             5743\n",
       "3           1316             1038\n",
       "4             34              211\n",
       "5              0               28\n",
       "6              0               45\n",
       "7              0                2\n",
       "8              0              589\n",
       "9              0              239\n",
       "10             0                3\n",
       "11             0               83\n",
       "12             0               62"
      ]
     },
     "execution_count": 196,
     "metadata": {},
     "output_type": "execute_result"
    }
   ],
   "source": [
    "maxCount = max(len(breakCountFrequencies[0]), len(contentChangeCountFrequencies[0]))\n",
    "\n",
    "frequencies_df = pd.DataFrame(\n",
    "    columns=[\"Unresolvable\", \"Changed Content\"],\n",
    "    index=range(maxCount),\n",
    "    data=0\n",
    ")\n",
    "\n",
    "for i, numBreaks in enumerate(breakCountFrequencies[0]):\n",
    "    numUrls = breakCountFrequencies[1][i]\n",
    "    frequencies_df[\"Unresolvable\"][numBreaks] = numUrls\n",
    "\n",
    "for i, numChanges in enumerate(contentChangeCountFrequencies[0]):\n",
    "    numUrls = contentChangeCountFrequencies[1][i]\n",
    "    frequencies_df[\"Changed Content\"][numChanges] = numUrls\n",
    "\n",
    "frequencies_df"
   ]
  },
  {
   "cell_type": "code",
   "execution_count": 197,
   "metadata": {
    "scrolled": true
   },
   "outputs": [
    {
     "data": {
      "text/plain": [
       "Text(0.5,1,'DataONE: Frequency Distribution of Breaks and Changes')"
      ]
     },
     "execution_count": 197,
     "metadata": {},
     "output_type": "execute_result"
    },
    {
     "data": {
      "image/png": "[encoded data removed]",
      "text/plain": [
       "<Figure size 432x288 with 1 Axes>"
      ]
     },
     "metadata": {},
     "output_type": "display_data"
    }
   ],
   "source": [
    "frequencies_df.plot(color=\"black\", style=[\"-+\", \"--o\"])\n",
    "plt.ylabel(\"Number of URLs\")\n",
    "plt.xlabel(\"Number of queries\")\n",
    "plt.savefig(outputPath + \"url-behavior-freq-dist\")\n",
    "plt.title(observatoryName + \": Frequency Distribution of Breaks and Changes\")"
   ]
  },
  {
   "cell_type": "code",
   "execution_count": 199,
   "metadata": {},
   "outputs": [
    {
     "data": {
      "text/html": [
       "<div>\n",
       "<style scoped>\n",
       "    .dataframe tbody tr th:only-of-type {\n",
       "        vertical-align: middle;\n",
       "    }\n",
       "\n",
       "    .dataframe tbody tr th {\n",
       "        vertical-align: top;\n",
       "    }\n",
       "\n",
       "    .dataframe thead th {\n",
       "        text-align: right;\n",
       "    }\n",
       "</style>\n",
       "<table border=\"1\" class=\"dataframe\">\n",
       "  <thead>\n",
       "    <tr style=\"text-align: right;\">\n",
       "      <th></th>\n",
       "      <th>New URLs</th>\n",
       "      <th>New Contents</th>\n",
       "      <th>Total URLs</th>\n",
       "      <th>Total Contents</th>\n",
       "    </tr>\n",
       "  </thead>\n",
       "  <tbody>\n",
       "    <tr>\n",
       "      <th>2018-10-17 22:42:41.609</th>\n",
       "      <td>334469</td>\n",
       "      <td>203082</td>\n",
       "      <td>334469</td>\n",
       "      <td>203082</td>\n",
       "    </tr>\n",
       "    <tr>\n",
       "      <th>2018-11-13 15:13:01.286</th>\n",
       "      <td>0</td>\n",
       "      <td>2361</td>\n",
       "      <td>334469</td>\n",
       "      <td>205443</td>\n",
       "    </tr>\n",
       "    <tr>\n",
       "      <th>2018-12-04 01:25:48.721</th>\n",
       "      <td>0</td>\n",
       "      <td>1156</td>\n",
       "      <td>334469</td>\n",
       "      <td>206599</td>\n",
       "    </tr>\n",
       "    <tr>\n",
       "      <th>2019-02-08 00:17:15.510</th>\n",
       "      <td>1057</td>\n",
       "      <td>688</td>\n",
       "      <td>335526</td>\n",
       "      <td>207287</td>\n",
       "    </tr>\n",
       "    <tr>\n",
       "      <th>2019-02-13 08:55:08.176</th>\n",
       "      <td>4756</td>\n",
       "      <td>3949</td>\n",
       "      <td>340282</td>\n",
       "      <td>211236</td>\n",
       "    </tr>\n",
       "    <tr>\n",
       "      <th>2019-03-13 07:55:12.903</th>\n",
       "      <td>8102</td>\n",
       "      <td>6175</td>\n",
       "      <td>348384</td>\n",
       "      <td>217411</td>\n",
       "    </tr>\n",
       "    <tr>\n",
       "      <th>2019-04-29 19:11:30.720</th>\n",
       "      <td>1181</td>\n",
       "      <td>1069</td>\n",
       "      <td>349565</td>\n",
       "      <td>218480</td>\n",
       "    </tr>\n",
       "    <tr>\n",
       "      <th>2019-05-14 20:26:29.383</th>\n",
       "      <td>4518</td>\n",
       "      <td>8309</td>\n",
       "      <td>354083</td>\n",
       "      <td>226789</td>\n",
       "    </tr>\n",
       "    <tr>\n",
       "      <th>2019-06-01 07:32:31.022</th>\n",
       "      <td>0</td>\n",
       "      <td>606</td>\n",
       "      <td>354083</td>\n",
       "      <td>227395</td>\n",
       "    </tr>\n",
       "    <tr>\n",
       "      <th>2019-07-01 08:17:18.571</th>\n",
       "      <td>2494</td>\n",
       "      <td>13445</td>\n",
       "      <td>356577</td>\n",
       "      <td>240840</td>\n",
       "    </tr>\n",
       "    <tr>\n",
       "      <th>2019-08-01 04:21:24.356</th>\n",
       "      <td>19866</td>\n",
       "      <td>18001</td>\n",
       "      <td>376443</td>\n",
       "      <td>258841</td>\n",
       "    </tr>\n",
       "    <tr>\n",
       "      <th>2019-09-01 15:07:03.524</th>\n",
       "      <td>946</td>\n",
       "      <td>9582</td>\n",
       "      <td>377389</td>\n",
       "      <td>268423</td>\n",
       "    </tr>\n",
       "    <tr>\n",
       "      <th>2019-10-01 01:29:29.672</th>\n",
       "      <td>6</td>\n",
       "      <td>2437</td>\n",
       "      <td>377395</td>\n",
       "      <td>270860</td>\n",
       "    </tr>\n",
       "  </tbody>\n",
       "</table>\n",
       "</div>"
      ],
      "text/plain": [
       "                         New URLs  New Contents  Total URLs  Total Contents\n",
       "2018-10-17 22:42:41.609    334469        203082      334469          203082\n",
       "2018-11-13 15:13:01.286         0          2361      334469          205443\n",
       "2018-12-04 01:25:48.721         0          1156      334469          206599\n",
       "2019-02-08 00:17:15.510      1057           688      335526          207287\n",
       "2019-02-13 08:55:08.176      4756          3949      340282          211236\n",
       "2019-03-13 07:55:12.903      8102          6175      348384          217411\n",
       "2019-04-29 19:11:30.720      1181          1069      349565          218480\n",
       "2019-05-14 20:26:29.383      4518          8309      354083          226789\n",
       "2019-06-01 07:32:31.022         0           606      354083          227395\n",
       "2019-07-01 08:17:18.571      2494         13445      356577          240840\n",
       "2019-08-01 04:21:24.356     19866         18001      376443          258841\n",
       "2019-09-01 15:07:03.524       946          9582      377389          268423\n",
       "2019-10-01 01:29:29.672         6          2437      377395          270860"
      ]
     },
     "execution_count": 199,
     "metadata": {},
     "output_type": "execute_result"
    }
   ],
   "source": [
    "crawl_totals_df = pd.DataFrame(\n",
    "    index   = [datetime.datetime.strptime(str(x[1]), \"%Y-%m-%dT%H:%M:%S.%fZ\") for x in crawlDates],\n",
    "    columns = [\"New URLs\", \"New Contents\", \"Total URLs\", \"Total Contents\"],\n",
    "    data    = 0,\n",
    "    dtype   = int\n",
    ")\n",
    "\n",
    "crawl_totals_df[\"New URLs\"] = crawlUrlTotals\n",
    "crawl_totals_df[\"New Contents\"] = crawlDatasetTotals\n",
    "crawl_totals_df[\"Total URLs\"] = crawl_totals_df[\"New URLs\"].cumsum()\n",
    "crawl_totals_df[\"Total Contents\"] = crawl_totals_df[\"New Contents\"].cumsum()\n",
    "crawl_totals_df"
   ]
  },
  {
   "cell_type": "code",
   "execution_count": 200,
   "metadata": {
    "scrolled": true
   },
   "outputs": [
    {
     "data": {
      "text/plain": [
       "Text(0.5,1,'DataONE: Running Total of Unique URLs and Contents')"
      ]
     },
     "execution_count": 200,
     "metadata": {},
     "output_type": "execute_result"
    },
    {
     "data": {
      "image/png": "[encoded data removed]",
      "text/plain": [
       "<Figure size 432x288 with 1 Axes>"
      ]
     },
     "metadata": {},
     "output_type": "display_data"
    }
   ],
   "source": [
    "crawl_totals_df[[\"Total URLs\", \"Total Contents\"]].plot(color=\"black\", style=[\"-\", \"--\"]);\n",
    "plt.savefig(outputPath + \"running-total-urls-and-contents.png\")\n",
    "plt.title(observatoryName + \": Running Total of Unique URLs and Contents\")"
   ]
  }
 ],
 "metadata": {
  "kernelspec": {
   "display_name": "Python 3",
   "language": "python",
   "name": "python3"
  },
  "language_info": {
   "codemirror_mode": {
    "name": "ipython",
    "version": 3
   },
   "file_extension": ".py",
   "mimetype": "text/x-python",
   "name": "python",
   "nbconvert_exporter": "python",
   "pygments_lexer": "ipython3",
   "version": "3.6.5"
  }
 },
 "nbformat": 4,
 "nbformat_minor": 2
}
