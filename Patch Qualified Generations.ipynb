{
 "cells": [
  {
   "cell_type": "code",
   "execution_count": 1,
   "metadata": {},
   "outputs": [],
   "source": [
    "import codecs\n",
    "import re\n",
    "from uuid import uuid4 as UUID\n",
    "import uuid\n",
    "\n",
    "from nquads import NQuads\n",
    "from prestongraph import *"
   ]
  },
  {
   "cell_type": "code",
   "execution_count": 2,
   "metadata": {
    "scrolled": true
   },
   "outputs": [
    {
     "data": {
      "text/plain": [
       "[[('https://preston.guoda.bio',),\n",
       "  ('http://purl.org/dc/terms/description',),\n",
       "  ('Preston is a software program that finds, archives and provides access to biodiversity datasets.',)]]"
      ]
     },
     "execution_count": 2,
     "metadata": {},
     "output_type": "execute_result"
    }
   ],
   "source": [
    "NQuads.Parse('<https://preston.guoda.bio> <http://purl.org/dc/terms/description> \"Preston is a software program that finds, archives and provides access to biodiversity datasets.\"@en .')"
   ]
  },
  {
   "cell_type": "code",
   "execution_count": 3,
   "metadata": {
    "scrolled": true
   },
   "outputs": [
    {
     "data": {
      "text/plain": [
       "[[('https://idigbio.org',),\n",
       "  ('http://www.w3.org/ns/prov#wasAssociatedWith',),\n",
       "  ('daf3ee3f-8f3e-495e-b57f-bc93c8fccb2c',)]]"
      ]
     },
     "execution_count": 3,
     "metadata": {},
     "output_type": "execute_result"
    }
   ],
   "source": [
    "NQuads.Parse('<https://idigbio.org> <http://www.w3.org/ns/prov#wasAssociatedWith> <daf3ee3f-8f3e-495e-b57f-bc93c8fccb2c> .')"
   ]
  },
  {
   "cell_type": "code",
   "execution_count": 4,
   "metadata": {
    "scrolled": true
   },
   "outputs": [
    {
     "data": {
      "text/plain": [
       "[[('hash://sha256/844e59241f5d0f44891ce46ea1816394baf49184698005c66de73e6163d49d3b',),\n",
       "  ('http://www.w3.org/ns/prov#generatedAtTime',),\n",
       "  ('2019-02-04T16:34:10.865Z', 'http://www.w3.org/2001/XMLSchema#dateTime')]]"
      ]
     },
     "execution_count": 4,
     "metadata": {},
     "output_type": "execute_result"
    }
   ],
   "source": [
    "NQuads.Parse('<hash://sha256/844e59241f5d0f44891ce46ea1816394baf49184698005c66de73e6163d49d3b> <http://www.w3.org/ns/prov#generatedAtTime> \"2019-02-04T16:34:10.865Z\"^^<http://www.w3.org/2001/XMLSchema#dateTime> .')"
   ]
  },
  {
   "cell_type": "code",
   "execution_count": 5,
   "metadata": {},
   "outputs": [],
   "source": [
    "path = \"../preston.acis.ufl.edu/data/05/a8/05a877bdb8617144fe166a13bf51828d4ad1bc11631c360b9e648a9f7df2bbcd\"\n",
    "path = \"../preston.acis.ufl.edu/data/20/d3/20d36a6f879ba1dd797d4288a4f2e32719d3c674156194c2765a3ec6b43f5e17\"\n",
    "\n",
    "allNQuads = []\n",
    "with codecs.open(path, 'r', encoding='utf-8', errors='ignore') as file:\n",
    "    nQuads = NQuads.Parse(file.read())\n",
    "    allNQuads += nQuads"
   ]
  },
  {
   "cell_type": "code",
   "execution_count": 6,
   "metadata": {},
   "outputs": [],
   "source": [
    "fullIndex = Index(allNQuads)"
   ]
  },
  {
   "cell_type": "markdown",
   "metadata": {},
   "source": [
    "List verbs read from the ingested logs"
   ]
  },
  {
   "cell_type": "code",
   "execution_count": 7,
   "metadata": {},
   "outputs": [
    {
     "name": "stdout",
     "output_type": "stream",
     "text": [
      "http://purl.org/dc/elements/1.1/format\n",
      "http://purl.org/dc/terms/description\n",
      "http://purl.org/pav/createdBy\n",
      "http://purl.org/pav/hasVersion\n",
      "http://purl.org/pav/previousVersion\n",
      "http://www.w3.org/1999/02/22-rdf-syntax-ns#type\n",
      "http://www.w3.org/ns/prov#generatedAtTime\n",
      "http://www.w3.org/ns/prov#hadMember\n",
      "http://www.w3.org/ns/prov#startedAtTime\n",
      "http://www.w3.org/ns/prov#usedBy\n",
      "http://www.w3.org/ns/prov#wasAssociatedWith\n",
      "http://www.w3.org/ns/prov#wasGeneratedBy\n",
      "http://www.w3.org/ns/prov#wasStartedBy\n"
     ]
    }
   ],
   "source": [
    "for x in sorted(fullIndex.verbs): print(x)"
   ]
  },
  {
   "cell_type": "markdown",
   "metadata": {},
   "source": [
    "Find the UUID of the crawl activity"
   ]
  },
  {
   "cell_type": "code",
   "execution_count": 8,
   "metadata": {},
   "outputs": [
    {
     "name": "stdout",
     "output_type": "stream",
     "text": [
      "e871efcd-c2f9-4e8e-ac3a-bc45943c3e65\n"
     ]
    }
   ],
   "source": [
    "crawlNode = None\n",
    "for t in fullIndex.verbLookup[\"http://www.w3.org/1999/02/22-rdf-syntax-ns#type\"].triples:\n",
    "    if t.object == \"http://www.w3.org/ns/prov#Activity\":\n",
    "        crawlNode = t.subject\n",
    "        break\n",
    "crawlUUID = str(crawlNode)\n",
    "print(crawlUUID)"
   ]
  },
  {
   "cell_type": "code",
   "execution_count": 9,
   "metadata": {},
   "outputs": [
    {
     "name": "stdout",
     "output_type": "stream",
     "text": [
      "https://search.idigbio.org/v2/search/publishers\thttp://purl.org/pav/hasVersion\thash://sha256/3eff98d4b66368fd8d1f8fa1af6a057774d8a407a4771490beeb9e7add76f362\n",
      "https://api.gbif.org/v1/dataset\thttp://purl.org/pav/hasVersion\thash://sha256/184886cc6ae4490a49a70b6fd9a3e1dfafce433fc8e3d022c89e0b75ea3cda0b\n",
      "https://bms.gfbio.org/services/data-sources/\thttp://purl.org/pav/hasVersion\thash://sha256/ba4f1de1f97ef57c90d321b7bf36426ac4031fa3a312af2c22a538d0f4387a4c\n"
     ]
    }
   ],
   "source": [
    "exampleQuery = [\n",
    "    x for x in fullIndex.triples if (\n",
    "        x.subject.Type() == Value.Type.URL and\n",
    "        x.verb == \"http://purl.org/pav/hasVersion\" and\n",
    "        x.object.Type() == Value.Type.CONTENT\n",
    "    )\n",
    "]\n",
    "\n",
    "for triple in exampleQuery[:3]:\n",
    "    print(triple)"
   ]
  },
  {
   "cell_type": "markdown",
   "metadata": {},
   "source": [
    "To construct qualified generations from past logs:\n",
    "1. Start at (`URL hasVersion HASH`)\n",
    "1. Collect (`HASH X Y`) triples that follow\n",
    "1. Follow the `previousVersion` chain in reverse to find the actual content generated by the crawl (the \"latest version\")\n",
    "\n",
    "NOTE: recursively following the `previousVersion` chain doesn't always work since sometimes it's circular. Infinite recursion ensues."
   ]
  },
  {
   "cell_type": "code",
   "execution_count": 10,
   "metadata": {},
   "outputs": [],
   "source": [
    "# def GetLatestVersion(node):\n",
    "#     previousVersions = [x for x in node.inwardTriples if x.verb == \"http://purl.org/pav/previousVersion\"]\n",
    "#     if len(previousVersions) > 0:\n",
    "#         return GetLatestVersion(previousVersions[0].subject)\n",
    "#     else:\n",
    "#         return node\n",
    "\n",
    "# def MakeQualifiedGeneration(url, context, crawlUUID):\n",
    "#     index = Index(context)\n",
    "\n",
    "#     urlNode = index.nodeLookup[url]\n",
    "#     firstVersion = [x for x in urlNode.outwardTriples if x.verb == \"http://purl.org/pav/hasVersion\"][0].object\n",
    "#     latestVersion = GetLatestVersion(firstVersion)\n",
    "    \n",
    "#     qualGenUUID = UUID()\n",
    "\n",
    "#     newLines = [\n",
    "#         \"<%s> <%s> <%s> .\" % \\\n",
    "#             (str(latestVersion), \"http://www.w3.org/ns/prov#qualifiedGeneration\", str(qualGenUUID)),\n",
    "\n",
    "#         \"<%s> <%s> <%s> .\" % \\\n",
    "#             (str(qualGenUUID), \"http://www.w3.org/1999/02/22-rdf-syntax-ns#type\", \"http://www.w3.org/ns/prov#Generation\"),\n",
    "\n",
    "#         \"<%s> <%s> <%s> .\" % \\\n",
    "#             (str(qualGenUUID), \"http://www.w3.org/ns/prov#activity\", str(crawlUUID)),\n",
    "\n",
    "#         \"<%s> <%s> <%s> .\" % \\\n",
    "#             (str(qualGenUUID), \"http://www.w3.org/ns/prov#used\", str(url)),\n",
    "#     ]\n",
    "    \n",
    "#     return newLines"
   ]
  },
  {
   "cell_type": "markdown",
   "metadata": {},
   "source": [
    "For now, let's assume the version furthest down the list of n-quads is the most recent. Is this a safe assumption?"
   ]
  },
  {
   "cell_type": "code",
   "execution_count": 11,
   "metadata": {},
   "outputs": [],
   "source": [
    "def PrintQualifiedGeneration(url, latestVersion, crawlUUID):\n",
    "    qualGenUUID = UUID()\n",
    "\n",
    "    print(\"<%s> <%s> <%s> .\" %\n",
    "        (str(latestVersion), \"http://www.w3.org/ns/prov#qualifiedGeneration\", str(qualGenUUID))\n",
    "    )\n",
    "\n",
    "    print(\"<%s> <%s> <%s> .\" %\n",
    "        (str(qualGenUUID), \"http://www.w3.org/1999/02/22-rdf-syntax-ns#type\", \"http://www.w3.org/ns/prov#Generation\")\n",
    "    )\n",
    "    \n",
    "    print(\"<%s> <%s> <%s> .\" %\n",
    "        (str(qualGenUUID), \"http://www.w3.org/ns/prov#activity\", str(crawlUUID))\n",
    "    )\n",
    "\n",
    "    print(\"<%s> <%s> <%s> .\" %\n",
    "        (str(qualGenUUID), \"http://www.w3.org/ns/prov#used\", str(url)),\n",
    "    )"
   ]
  },
  {
   "cell_type": "code",
   "execution_count": 12,
   "metadata": {},
   "outputs": [],
   "source": [
    "import sys\n",
    "import io\n",
    "\n",
    "path = \"../preston.acis.ufl.edu/data/20/d3/20d36a6f879ba1dd797d4288a4f2e32719d3c674156194c2765a3ec6b43f5e17\"\n",
    "\n",
    "file = open(path, \"r\")\n",
    "sys.stdin = io.StringIO(file.read())"
   ]
  },
  {
   "cell_type": "code",
   "execution_count": 13,
   "metadata": {
    "scrolled": true
   },
   "outputs": [
    {
     "name": "stdout",
     "output_type": "stream",
     "text": [
      "<hash://sha256/3eff98d4b66368fd8d1f8fa1af6a057774d8a407a4771490beeb9e7add76f362> <http://www.w3.org/ns/prov#qualifiedGeneration> <0631b15f-225f-460e-b9ca-c2f906f4cbe0> .\n",
      "<0631b15f-225f-460e-b9ca-c2f906f4cbe0> <http://www.w3.org/1999/02/22-rdf-syntax-ns#type> <http://www.w3.org/ns/prov#Generation> .\n",
      "<0631b15f-225f-460e-b9ca-c2f906f4cbe0> <http://www.w3.org/ns/prov#activity> <e871efcd-c2f9-4e8e-ac3a-bc45943c3e65> .\n",
      "<0631b15f-225f-460e-b9ca-c2f906f4cbe0> <http://www.w3.org/ns/prov#used> <https://search.idigbio.org/v2/search/publishers> .\n"
     ]
    }
   ],
   "source": [
    "url = None\n",
    "latestVersion = None\n",
    "crawlUUID = None\n",
    "didOne = False\n",
    "for line in sys.stdin:\n",
    "    nQuads = NQuads.Parse(line)\n",
    "    for nQuad in nQuads:\n",
    "        triple = Triple.FromNQuad(nQuad)\n",
    "\n",
    "        # Watch for newer versions for the current URL\n",
    "        if (\n",
    "            triple.subject.Type() == Value.Type.CONTENT and\n",
    "            triple.verb == \"http://purl.org/pav/previousVersion\" and\n",
    "            triple.object.Type() == Value.Type.CONTENT\n",
    "        ):\n",
    "            latestVersion = str(triple.subject)\n",
    "\n",
    "        # Watch for existing qualified generations\n",
    "        elif (\n",
    "            triple.subject.Type() == Value.Type.CONTENT and\n",
    "            triple.verb == \"http://www.w3.org/ns/prov#qualifiedGeneration\" and\n",
    "            triple.object.Type() == Value.Type.UUID\n",
    "        ):\n",
    "            # No need to log a new download event\n",
    "            url = None\n",
    "\n",
    "        # Check for the start of a download event\n",
    "        elif (\n",
    "            crawlUUID and\n",
    "            triple.subject.Type() == Value.Type.URL and\n",
    "            triple.verb == \"http://purl.org/pav/hasVersion\" and\n",
    "            triple.object.Type() == Value.Type.CONTENT\n",
    "        ):\n",
    "            # Create a generation for the previous\n",
    "            if url and latestVersion:\n",
    "                PrintQualifiedGeneration(url, latestVersion, crawlUUID)\n",
    "                didOne = True\n",
    "\n",
    "            # Start reading triples for the next URL\n",
    "            url = str(triple.subject)\n",
    "            latestVersion = str(triple.object)\n",
    "\n",
    "        # Check for a new crawl UUID\n",
    "        elif triple.object == \"http://www.w3.org/ns/prov#Activity\":\n",
    "            crawlUUID = str(triple.subject)\n",
    "            url = None\n",
    "            latestVersion = None\n",
    "\n",
    "    if didOne:\n",
    "        break"
   ]
  },
  {
   "cell_type": "code",
   "execution_count": 14,
   "metadata": {},
   "outputs": [],
   "source": [
    "file.close()"
   ]
  }
 ],
 "metadata": {
  "kernelspec": {
   "display_name": "Python 3",
   "language": "python",
   "name": "python3"
  },
  "language_info": {
   "codemirror_mode": {
    "name": "ipython",
    "version": 3
   },
   "file_extension": ".py",
   "mimetype": "text/x-python",
   "name": "python",
   "nbconvert_exporter": "python",
   "pygments_lexer": "ipython3",
   "version": "3.6.5"
  }
 },
 "nbformat": 4,
 "nbformat_minor": 2
}
